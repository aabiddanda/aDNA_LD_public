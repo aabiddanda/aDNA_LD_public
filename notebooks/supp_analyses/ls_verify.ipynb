{
 "cells": [
  {
   "cell_type": "markdown",
   "metadata": {},
   "source": [
    "# Verifying the Li-Stephens Model inference of the jump rate\n",
    "\n",
    "This notebook explores a verification of our Li-Stephens Model implementation. Specifically we focus on: (1) estimation of the haplotype copying jump rate when the error rate is given and (2) joint estimation of the jump-rate and the error probability via numerical approximation.\n",
    "\n",
    "For the joint estimation of the jump-rate and the error probability we are able to obtain the standard errors of each estimate as well by taking the square root of the diagonal of the Hessian matrix. In the case of the marginal jump rate estimation the error probability was fixed at $\\epsilon = 10^{-2}$."
   ]
  },
  {
   "cell_type": "code",
   "execution_count": 1,
   "metadata": {
    "execution": {
     "iopub.execute_input": "2021-06-19T11:55:39.952237Z",
     "iopub.status.busy": "2021-06-19T11:55:39.933144Z",
     "iopub.status.idle": "2021-06-19T11:55:41.307221Z",
     "shell.execute_reply": "2021-06-19T11:55:41.308497Z"
    }
   },
   "outputs": [],
   "source": [
    "import numpy as np \n",
    "import matplotlib.pyplot as plt\n",
    "import pandas as pd\n",
    "import msprime as msp\n",
    "\n",
    "plt.rcParams['pdf.fonttype'] = 3\n",
    "\n",
    "import sys\n",
    "sys.path.append('../../src/')\n",
    "from plot_utils import *\n",
    "\n",
    "%matplotlib inline"
   ]
  },
  {
   "cell_type": "code",
   "execution_count": 2,
   "metadata": {
    "execution": {
     "iopub.execute_input": "2021-06-19T11:55:41.315988Z",
     "iopub.status.busy": "2021-06-19T11:55:41.314800Z",
     "iopub.status.idle": "2021-06-19T11:55:41.337259Z",
     "shell.execute_reply": "2021-06-19T11:55:41.338203Z"
    }
   },
   "outputs": [
    {
     "data": {
      "text/html": [
       "<div>\n",
       "<style scoped>\n",
       "    .dataframe tbody tr th:only-of-type {\n",
       "        vertical-align: middle;\n",
       "    }\n",
       "\n",
       "    .dataframe tbody tr th {\n",
       "        vertical-align: top;\n",
       "    }\n",
       "\n",
       "    .dataframe thead th {\n",
       "        text-align: right;\n",
       "    }\n",
       "</style>\n",
       "<table border=\"1\" class=\"dataframe\">\n",
       "  <thead>\n",
       "    <tr style=\"text-align: right;\">\n",
       "      <th></th>\n",
       "      <th>scales_true</th>\n",
       "      <th>scales_marg_hat</th>\n",
       "      <th>scales_jt_hat</th>\n",
       "      <th>eps_jt_hat</th>\n",
       "      <th>se_scales_jt_hat</th>\n",
       "      <th>se_eps_jt_hat</th>\n",
       "    </tr>\n",
       "  </thead>\n",
       "  <tbody>\n",
       "    <tr>\n",
       "      <th>0</th>\n",
       "      <td>100</td>\n",
       "      <td>102.516313</td>\n",
       "      <td>102.674217</td>\n",
       "      <td>0.019105</td>\n",
       "      <td>24.716874</td>\n",
       "      <td>0.000066</td>\n",
       "    </tr>\n",
       "    <tr>\n",
       "      <th>1</th>\n",
       "      <td>200</td>\n",
       "      <td>189.369557</td>\n",
       "      <td>189.650502</td>\n",
       "      <td>0.019182</td>\n",
       "      <td>39.912196</td>\n",
       "      <td>0.000100</td>\n",
       "    </tr>\n",
       "    <tr>\n",
       "      <th>2</th>\n",
       "      <td>300</td>\n",
       "      <td>292.669794</td>\n",
       "      <td>293.056054</td>\n",
       "      <td>0.019423</td>\n",
       "      <td>47.277726</td>\n",
       "      <td>0.000085</td>\n",
       "    </tr>\n",
       "    <tr>\n",
       "      <th>3</th>\n",
       "      <td>400</td>\n",
       "      <td>417.647663</td>\n",
       "      <td>417.991549</td>\n",
       "      <td>0.019413</td>\n",
       "      <td>40.383416</td>\n",
       "      <td>0.000066</td>\n",
       "    </tr>\n",
       "    <tr>\n",
       "      <th>4</th>\n",
       "      <td>500</td>\n",
       "      <td>503.451364</td>\n",
       "      <td>504.012475</td>\n",
       "      <td>0.020576</td>\n",
       "      <td>45.715850</td>\n",
       "      <td>0.000129</td>\n",
       "    </tr>\n",
       "  </tbody>\n",
       "</table>\n",
       "</div>"
      ],
      "text/plain": [
       "   scales_true  scales_marg_hat  scales_jt_hat  eps_jt_hat  se_scales_jt_hat  \\\n",
       "0          100       102.516313     102.674217    0.019105         24.716874   \n",
       "1          200       189.369557     189.650502    0.019182         39.912196   \n",
       "2          300       292.669794     293.056054    0.019423         47.277726   \n",
       "3          400       417.647663     417.991549    0.019413         40.383416   \n",
       "4          500       503.451364     504.012475    0.020576         45.715850   \n",
       "\n",
       "   se_eps_jt_hat  \n",
       "0       0.000066  \n",
       "1       0.000100  \n",
       "2       0.000085  \n",
       "3       0.000066  \n",
       "4       0.000129  "
      ]
     },
     "execution_count": 1,
     "metadata": {},
     "output_type": "execute_result"
    }
   ],
   "source": [
    "# Reading in the CSV of results from our various simulations ... \n",
    "results_csv = '../../results/ls_verify/ls_simulations_100.csv'\n",
    "ls_verify_df = pd.read_csv(results_csv)\n",
    "ls_verify_df.head()"
   ]
  },
  {
   "cell_type": "code",
   "execution_count": 3,
   "metadata": {
    "execution": {
     "iopub.execute_input": "2021-06-19T11:55:41.389949Z",
     "iopub.status.busy": "2021-06-19T11:55:41.365769Z",
     "iopub.status.idle": "2021-06-19T11:55:41.963781Z",
     "shell.execute_reply": "2021-06-19T11:55:41.964432Z"
    }
   },
   "outputs": [
    {
     "data": {
      "image/png": "[encoded data removed]",
      "text/plain": [
       "<Figure size 288x288 with 2 Axes>"
      ]
     },
     "metadata": {
      "needs_background": "light"
     },
     "output_type": "display_data"
    }
   ],
   "source": [
    "fig, ax = plt.subplots(2,1,figsize=(4,4), sharex=True, sharey=True)\n",
    "ax[0].scatter(ls_verify_df['scales_true'].values, \n",
    "           ls_verify_df['scales_marg_hat'].values, s=10);\n",
    "\n",
    "ax[1].scatter(ls_verify_df['scales_true'].values, \n",
    "           ls_verify_df['scales_jt_hat'].values, s=10);\n",
    "\n",
    "plot_yx(ax[0], linestyle='--', color='black')\n",
    "plot_yx(ax[1], linestyle='--', color='black')\n",
    "\n",
    "\n",
    "ax[1].set_xlabel(r'$\\lambda_{true}$', fontsize=14);\n",
    "ax[1].set_ylabel(r'$\\hat{\\lambda}_{jt}$', fontsize=14);\n",
    "ax[0].set_ylabel(r'$\\hat{\\lambda}_{marginal}$', fontsize=14);\n",
    "\n",
    "debox(ax[0]); debox(ax[1]);\n",
    "fig.tight_layout();"
   ]
  },
  {
   "cell_type": "code",
   "execution_count": 4,
   "metadata": {
    "execution": {
     "iopub.execute_input": "2021-06-19T11:55:41.993900Z",
     "iopub.status.busy": "2021-06-19T11:55:41.992972Z",
     "iopub.status.idle": "2021-06-19T11:55:42.130350Z",
     "shell.execute_reply": "2021-06-19T11:55:42.130931Z"
    }
   },
   "outputs": [
    {
     "data": {
      "text/plain": [
       "Text(0.5, 0, '$\\\\hat{\\\\lambda}_{marginal}$')"
      ]
     },
     "execution_count": 1,
     "metadata": {},
     "output_type": "execute_result"
    },
    {
     "data": {
      "image/png": "[encoded data removed]",
      "text/plain": [
       "<Figure size 216x216 with 1 Axes>"
      ]
     },
     "metadata": {
      "needs_background": "light"
     },
     "output_type": "display_data"
    }
   ],
   "source": [
    "fig, ax = plt.subplots(1,1,figsize=(3,3))\n",
    "ax.scatter(ls_verify_df['scales_marg_hat'], \n",
    "           ls_verify_df['scales_jt_hat'], s=10)\n",
    "\n",
    "debox(ax); \n",
    "plot_yx(ax, color='black', linestyle='--');\n",
    "ax.set_ylabel(r'$\\hat{\\lambda}_{jt}$', fontsize=14);\n",
    "ax.set_xlabel(r'$\\hat{\\lambda}_{marginal}$', fontsize=14);"
   ]
  },
  {
   "cell_type": "code",
   "execution_count": 5,
   "metadata": {
    "execution": {
     "iopub.execute_input": "2021-06-19T11:55:42.156838Z",
     "iopub.status.busy": "2021-06-19T11:55:42.156104Z",
     "iopub.status.idle": "2021-06-19T11:55:42.323509Z",
     "shell.execute_reply": "2021-06-19T11:55:42.324384Z"
    }
   },
   "outputs": [
    {
     "data": {
      "text/plain": [
       "Text(0, 0.5, '$\\\\hat{\\\\epsilon}_{jt}$')"
      ]
     },
     "execution_count": 1,
     "metadata": {},
     "output_type": "execute_result"
    },
    {
     "data": {
      "image/png": "[encoded data removed]",
      "text/plain": [
       "<Figure size 216x216 with 1 Axes>"
      ]
     },
     "metadata": {
      "needs_background": "light"
     },
     "output_type": "display_data"
    }
   ],
   "source": [
    "fig, ax = plt.subplots(1,1,figsize=(3,3))\n",
    "ax.scatter(ls_verify_df['scales_jt_hat'], \n",
    "           ls_verify_df['eps_jt_hat'], s=10)\n",
    "\n",
    "debox(ax); \n",
    "# plot_yx(ax, color='black', linestyle='--');\n",
    "ax.set_xlabel(r'$\\hat{\\lambda}_{jt}$', fontsize=14);\n",
    "ax.set_ylabel(r'$\\hat{\\epsilon}_{jt}$', fontsize=14);"
   ]
  },
  {
   "cell_type": "markdown",
   "metadata": {},
   "source": [
    "## Plotting the Joint Likelihood Surface"
   ]
  },
  {
   "cell_type": "code",
   "execution_count": 6,
   "metadata": {
    "execution": {
     "iopub.execute_input": "2021-06-19T11:55:42.357583Z",
     "iopub.status.busy": "2021-06-19T11:55:42.356679Z",
     "iopub.status.idle": "2021-06-19T12:01:03.178881Z",
     "shell.execute_reply": "2021-06-19T12:01:03.179668Z"
    }
   },
   "outputs": [
    {
     "name": "stdout",
     "output_type": "stream",
     "text": [
      "13840\n"
     ]
    },
    {
     "name": "stderr",
     "output_type": "stream",
     "text": [
      "20it [02:29,  7.50s/it]\n"
     ]
    },
    {
     "name": "stdout",
     "output_type": "stream",
     "text": [
      "CPU times: user 58.5 s, sys: 148 ms, total: 58.6 s\n",
      "Wall time: 58.8 s\n",
      "CPU times: user 33.8 s, sys: 112 ms, total: 34 s\n",
      "Wall time: 34.1 s\n",
      "CPU times: user 1min 9s, sys: 489 ms, total: 1min 9s\n",
      "Wall time: 1min 13s\n"
     ]
    },
    {
     "data": {
      "text/plain": [
       "<matplotlib.colorbar.Colorbar at 0x128adc790>"
      ]
     },
     "execution_count": 1,
     "metadata": {},
     "output_type": "execute_result"
    },
    {
     "data": {
      "image/png": "[encoded data removed]",
      "text/plain": [
       "<Figure size 360x288 with 2 Axes>"
      ]
     },
     "metadata": {
      "needs_background": "light"
     },
     "output_type": "display_data"
    }
   ],
   "source": [
    "from li_stephens import LiStephensHMM\n",
    "from tqdm import tqdm\n",
    "\n",
    "mut_rate = 1e-8\n",
    "rec_rate = 2e-8\n",
    "length = 10e6\n",
    "seed = 24\n",
    "\n",
    "n = 50\n",
    "ts = msp.simulate(Ne=1e4, sample_size=n, \n",
    "                  mutation_rate=mut_rate, \n",
    "                  recombination_rate=rec_rate, length=length, random_seed=seed)\n",
    "\n",
    "# Generating the haplotype reference panel...\n",
    "geno = ts.genotype_matrix().T\n",
    "phys_pos = np.array([v.position for v in ts.variants()])\n",
    "rec_pos = phys_pos * rec_rate\n",
    "\n",
    "ac = np.sum(geno, axis=0)\n",
    "mac = np.minimum(ac, n - ac)\n",
    "maf = mac / n\n",
    "idx = np.where(maf > 0.02)[0]\n",
    "print(idx.size)\n",
    "\n",
    "ls_model = LiStephensHMM(haps=geno[:,idx], positions=rec_pos[idx])\n",
    "test_hap,_ = ls_model._sim_haplotype(scale=1.5e2, eps=1e-2, seed=42)\n",
    "\n",
    "x = 20\n",
    "M = np.zeros(shape=(x,x))\n",
    "\n",
    "scales=np.linspace(5, 300, x)\n",
    "eps = np.linspace(5e-3, 5e-2, x)\n",
    "for i,s in tqdm(enumerate(scales)):\n",
    "    for j,e in enumerate(eps):\n",
    "        M[i,j]=ls_model._negative_logll(test_hap, scale=s, eps=e)\n",
    "        \n",
    "bounds = [(10., 1e4), (1e-3, 0.2)]\n",
    "start_scale = np.random.uniform(low=10, high=1e4, size=3)\n",
    "start_eps = np.random.uniform(low=1e-3, high=0.2, size=3)\n",
    "\n",
    "%time res1 = ls_model._infer_params(test_hap, x0=[start_scale[0], start_eps[0]], bounds=bounds)\n",
    "%time res2 = ls_model._infer_params(test_hap, x0=[start_scale[1], start_eps[1]], bounds=bounds)\n",
    "%time res3 = ls_model._infer_params(test_hap, x0=[start_scale[2], start_eps[2]], bounds=bounds)\n",
    "\n",
    "fig, ax = plt.subplots(1,1,figsize=(5,4))\n",
    "im = ax.imshow(M, extent=[5e-3, 5e-2, 5, 300], interpolation='Gaussian', origin='lower', aspect='auto')\n",
    "ax.scatter(1e-2, 1.5e2, marker='x', color='red')\n",
    "ax.scatter(res1.x[1], res1.x[0], marker='+', color='green')\n",
    "ax.scatter(res2.x[1], res2.x[0], marker='+', color='green')\n",
    "ax.scatter(res3.x[1], res3.x[0], marker='+', color='green')\n",
    "\n",
    "# ax.axvline(x=1e-2, color='red')\n",
    "ax.set_ylabel(r'$\\lambda$', fontsize=14)\n",
    "ax.set_xlabel(r'$\\epsilon$', fontsize=14)\n",
    "fig.colorbar(im)"
   ]
  },
  {
   "cell_type": "code",
   "execution_count": null,
   "metadata": {},
   "outputs": [],
   "source": []
  }
 ],
 "metadata": {
  "kernelspec": {
   "display_name": "Python 3",
   "language": "python",
   "name": "python3"
  },
  "language_info": {
   "codemirror_mode": {
    "name": "ipython",
    "version": 3
   },
   "file_extension": ".py",
   "mimetype": "text/x-python",
   "name": "python",
   "nbconvert_exporter": "python",
   "pygments_lexer": "ipython3",
   "version": "3.7.5"
  }
 },
 "nbformat": 4,
 "nbformat_minor": 4
}
