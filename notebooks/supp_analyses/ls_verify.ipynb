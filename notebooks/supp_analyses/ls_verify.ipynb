{
 "cells": [
  {
   "cell_type": "code",
   "execution_count": 18,
   "metadata": {},
   "outputs": [
    {
     "name": "stdout",
     "output_type": "stream",
     "text": [
      "The autoreload extension is already loaded. To reload it, use:\n",
      "  %reload_ext autoreload\n"
     ]
    }
   ],
   "source": [
    "import numpy as np \n",
    "import matplotlib.pyplot as plt\n",
    "\n",
    "import sys\n",
    "sys.path.append('../../src/')\n",
    "from li_stephens import *\n",
    "\n",
    "import scipy as sp\n",
    "from tqdm import tqdm\n",
    "from glob import glob\n",
    "\n",
    "import pandas as pd\n",
    "import statsmodels.api as sm\n",
    "from patsy import dmatrices\n",
    "\n",
    "from scipy.stats import linregress\n",
    "\n",
    "%matplotlib inline\n",
    "%load_ext autoreload\n",
    "\n",
    "%autoreload 2"
   ]
  },
  {
   "cell_type": "code",
   "execution_count": 26,
   "metadata": {},
   "outputs": [],
   "source": [
    "def plot_yx(ax, **kwargs):\n",
    "    lims = [\n",
    "        np.min([ax.get_xlim(), ax.get_ylim()]),  # min of both axes\n",
    "        np.max([ax.get_xlim(), ax.get_ylim()]),  # max of both axes\n",
    "    ]\n",
    "\n",
    "    # now plot both limits against eachother\n",
    "    ax.plot(lims, lims, **kwargs)\n",
    "    \n",
    "# Deboxing a particular axis\n",
    "def debox(ax):\n",
    "    ax.spines['right'].set_visible(False)\n",
    "    ax.spines['top'].set_visible(False)\n"
   ]
  },
  {
   "cell_type": "markdown",
   "metadata": {},
   "source": [
    "# Verifying when using Uniform Maps"
   ]
  },
  {
   "cell_type": "code",
   "execution_count": 27,
   "metadata": {},
   "outputs": [
    {
     "data": {
      "text/plain": [
       "Text(0.5, 1.0, '20 Mb,r = $10^{-8}$')"
      ]
     },
     "execution_count": 27,
     "metadata": {},
     "output_type": "execute_result"
    },
    {
     "data": {
      "image/png": "[encoded data removed]",
      "text/plain": [
       "<Figure size 288x288 with 1 Axes>"
      ]
     },
     "metadata": {
      "needs_background": "light"
     },
     "output_type": "display_data"
    }
   ],
   "source": [
    "fig, ax = plt.subplots(1,1,figsize=(4,4))\n",
    "file_pat = '../../../data/hap_copying/full_sim_results_unif/SerialConstant/*.npz'\n",
    "true_scales_uniform = []\n",
    "scales_hat_uniform = []\n",
    "for g in sorted(glob(file_pat)):\n",
    "    x = np.load(g)\n",
    "    ax.scatter(x['true_scales'], x['scales_hat'], color='blue', alpha=0.5, s=20)\n",
    "    true_scales_uniform.append(x['true_scales'])\n",
    "    scales_hat_uniform.append(x['scales_hat'])\n",
    "    \n",
    "plot_yx(ax, linestyle='--', color='black')\n",
    "ax.set_ylabel(r'$\\hat{\\lambda}$', fontsize=14)\n",
    "ax.set_xlabel(r'$\\lambda$', fontsize=14)\n",
    "# ax.set_xscale('log')\n",
    "# ax.set_yscale('log')\n",
    "debox(ax);\n",
    "ax.set_title(r'20 Mb,r = $10^{-8}$', fontsize=14)"
   ]
  },
  {
   "cell_type": "code",
   "execution_count": 28,
   "metadata": {},
   "outputs": [
    {
     "data": {
      "text/html": [
       "<table class=\"simpletable\">\n",
       "<caption>OLS Regression Results</caption>\n",
       "<tr>\n",
       "  <th>Dep. Variable:</th>       <td>scales_hat</td>    <th>  R-squared:         </th> <td>   0.981</td> \n",
       "</tr>\n",
       "<tr>\n",
       "  <th>Model:</th>                   <td>OLS</td>       <th>  Adj. R-squared:    </th> <td>   0.980</td> \n",
       "</tr>\n",
       "<tr>\n",
       "  <th>Method:</th>             <td>Least Squares</td>  <th>  F-statistic:       </th> <td>   9471.</td> \n",
       "</tr>\n",
       "<tr>\n",
       "  <th>Date:</th>             <td>Thu, 20 Aug 2020</td> <th>  Prob (F-statistic):</th> <td>9.05e-163</td>\n",
       "</tr>\n",
       "<tr>\n",
       "  <th>Time:</th>                 <td>14:55:16</td>     <th>  Log-Likelihood:    </th> <td> -1088.9</td> \n",
       "</tr>\n",
       "<tr>\n",
       "  <th>No. Observations:</th>      <td>   190</td>      <th>  AIC:               </th> <td>   2182.</td> \n",
       "</tr>\n",
       "<tr>\n",
       "  <th>Df Residuals:</th>          <td>   188</td>      <th>  BIC:               </th> <td>   2188.</td> \n",
       "</tr>\n",
       "<tr>\n",
       "  <th>Df Model:</th>              <td>     1</td>      <th>                     </th>     <td> </td>    \n",
       "</tr>\n",
       "<tr>\n",
       "  <th>Covariance Type:</th>      <td>nonrobust</td>    <th>                     </th>     <td> </td>    \n",
       "</tr>\n",
       "</table>\n",
       "<table class=\"simpletable\">\n",
       "<tr>\n",
       "       <td></td>          <th>coef</th>     <th>std err</th>      <th>t</th>      <th>P>|t|</th>  <th>[0.025</th>    <th>0.975]</th>  \n",
       "</tr>\n",
       "<tr>\n",
       "  <th>Intercept</th>   <td>   -0.1110</td> <td>   11.325</td> <td>   -0.010</td> <td> 0.992</td> <td>  -22.451</td> <td>   22.229</td>\n",
       "</tr>\n",
       "<tr>\n",
       "  <th>scales_true</th> <td>    0.9666</td> <td>    0.010</td> <td>   97.318</td> <td> 0.000</td> <td>    0.947</td> <td>    0.986</td>\n",
       "</tr>\n",
       "</table>\n",
       "<table class=\"simpletable\">\n",
       "<tr>\n",
       "  <th>Omnibus:</th>       <td> 5.393</td> <th>  Durbin-Watson:     </th> <td>   1.185</td>\n",
       "</tr>\n",
       "<tr>\n",
       "  <th>Prob(Omnibus):</th> <td> 0.067</td> <th>  Jarque-Bera (JB):  </th> <td>   6.634</td>\n",
       "</tr>\n",
       "<tr>\n",
       "  <th>Skew:</th>          <td> 0.182</td> <th>  Prob(JB):          </th> <td>  0.0363</td>\n",
       "</tr>\n",
       "<tr>\n",
       "  <th>Kurtosis:</th>      <td> 3.840</td> <th>  Cond. No.          </th> <td>2.37e+03</td>\n",
       "</tr>\n",
       "</table><br/><br/>Warnings:<br/>[1] Standard Errors assume that the covariance matrix of the errors is correctly specified.<br/>[2] The condition number is large, 2.37e+03. This might indicate that there are<br/>strong multicollinearity or other numerical problems."
      ],
      "text/plain": [
       "<class 'statsmodels.iolib.summary.Summary'>\n",
       "\"\"\"\n",
       "                            OLS Regression Results                            \n",
       "==============================================================================\n",
       "Dep. Variable:             scales_hat   R-squared:                       0.981\n",
       "Model:                            OLS   Adj. R-squared:                  0.980\n",
       "Method:                 Least Squares   F-statistic:                     9471.\n",
       "Date:                Thu, 20 Aug 2020   Prob (F-statistic):          9.05e-163\n",
       "Time:                        14:55:16   Log-Likelihood:                -1088.9\n",
       "No. Observations:                 190   AIC:                             2182.\n",
       "Df Residuals:                     188   BIC:                             2188.\n",
       "Df Model:                           1                                         \n",
       "Covariance Type:            nonrobust                                         \n",
       "===============================================================================\n",
       "                  coef    std err          t      P>|t|      [0.025      0.975]\n",
       "-------------------------------------------------------------------------------\n",
       "Intercept      -0.1110     11.325     -0.010      0.992     -22.451      22.229\n",
       "scales_true     0.9666      0.010     97.318      0.000       0.947       0.986\n",
       "==============================================================================\n",
       "Omnibus:                        5.393   Durbin-Watson:                   1.185\n",
       "Prob(Omnibus):                  0.067   Jarque-Bera (JB):                6.634\n",
       "Skew:                           0.182   Prob(JB):                       0.0363\n",
       "Kurtosis:                       3.840   Cond. No.                     2.37e+03\n",
       "==============================================================================\n",
       "\n",
       "Warnings:\n",
       "[1] Standard Errors assume that the covariance matrix of the errors is correctly specified.\n",
       "[2] The condition number is large, 2.37e+03. This might indicate that there are\n",
       "strong multicollinearity or other numerical problems.\n",
       "\"\"\""
      ]
     },
     "execution_count": 28,
     "metadata": {},
     "output_type": "execute_result"
    }
   ],
   "source": [
    "scales_dict_uniform = {'scales_true': np.concatenate(true_scales_uniform), \n",
    "     'scales_hat' : np.concatenate(scales_hat_uniform)}\n",
    "\n",
    "scale_df_uniform = pd.DataFrame(scales_dict_uniform)\n",
    "y, X = dmatrices('scales_hat ~ scales_true', data=scale_df_uniform, return_type='dataframe')\n",
    "mod = sm.OLS(y,X)\n",
    "res = mod.fit()\n",
    "res.summary()"
   ]
  },
  {
   "cell_type": "markdown",
   "metadata": {},
   "source": [
    "# Verifying when using actual recombination map (chr22 - deCODE)"
   ]
  },
  {
   "cell_type": "code",
   "execution_count": 29,
   "metadata": {},
   "outputs": [
    {
     "data": {
      "text/plain": [
       "Text(0.5, 1.0, 'Jump-Rate Inference (chr22: deCODE)')"
      ]
     },
     "execution_count": 29,
     "metadata": {},
     "output_type": "execute_result"
    },
    {
     "data": {
      "image/png": "[encoded data removed]",
      "text/plain": [
       "<Figure size 288x288 with 1 Axes>"
      ]
     },
     "metadata": {
      "needs_background": "light"
     },
     "output_type": "display_data"
    }
   ],
   "source": [
    "fig, ax = plt.subplots(1,1,figsize=(4,4))\n",
    "file_pat = '../../../data/hap_copying/real_chrom_sims/results/chr22_deCODE.n100.scale_100_2500.seed*.rep0.npz'\n",
    "true_scales_chr22 = []\n",
    "scales_hat_chr22 = []\n",
    "for g in sorted(glob(file_pat)):\n",
    "    x = np.load(g)\n",
    "    ax.scatter(x['true_scales'], x['scales_hat'], color='blue', alpha=0.5, s=20)\n",
    "    true_scales_chr22.append(x['true_scales'])\n",
    "    scales_hat_chr22.append(x['scales_hat'])\n",
    "    \n",
    "plot_yx(ax, linestyle='--', color='black')\n",
    "ax.set_ylabel(r'$\\hat{\\lambda}$', fontsize=14)\n",
    "ax.set_xlabel(r'$\\lambda$', fontsize=14)\n",
    "# ax.set_xscale('log')\n",
    "# ax.set_yscale('log')\n",
    "debox(ax);\n",
    "ax.set_title(r'Jump-Rate Inference (chr22: deCODE)', fontsize=14)\n",
    "# plt.savefig('../../../sandbox/verify_hap_copying_real_genmap.pdf', dpi=300, bbox_inches='tight')"
   ]
  },
  {
   "cell_type": "code",
   "execution_count": 31,
   "metadata": {},
   "outputs": [
    {
     "data": {
      "text/html": [
       "<table class=\"simpletable\">\n",
       "<caption>OLS Regression Results</caption>\n",
       "<tr>\n",
       "  <th>Dep. Variable:</th>       <td>scales_hat</td>    <th>  R-squared:         </th> <td>   0.984</td> \n",
       "</tr>\n",
       "<tr>\n",
       "  <th>Model:</th>                   <td>OLS</td>       <th>  Adj. R-squared:    </th> <td>   0.984</td> \n",
       "</tr>\n",
       "<tr>\n",
       "  <th>Method:</th>             <td>Least Squares</td>  <th>  F-statistic:       </th> <td>1.498e+04</td>\n",
       "</tr>\n",
       "<tr>\n",
       "  <th>Date:</th>             <td>Thu, 20 Aug 2020</td> <th>  Prob (F-statistic):</th> <td>6.87e-217</td>\n",
       "</tr>\n",
       "<tr>\n",
       "  <th>Time:</th>                 <td>14:56:09</td>     <th>  Log-Likelihood:    </th> <td> -1413.1</td> \n",
       "</tr>\n",
       "<tr>\n",
       "  <th>No. Observations:</th>      <td>   240</td>      <th>  AIC:               </th> <td>   2830.</td> \n",
       "</tr>\n",
       "<tr>\n",
       "  <th>Df Residuals:</th>          <td>   238</td>      <th>  BIC:               </th> <td>   2837.</td> \n",
       "</tr>\n",
       "<tr>\n",
       "  <th>Df Model:</th>              <td>     1</td>      <th>                     </th>     <td> </td>    \n",
       "</tr>\n",
       "<tr>\n",
       "  <th>Covariance Type:</th>      <td>nonrobust</td>    <th>                     </th>     <td> </td>    \n",
       "</tr>\n",
       "</table>\n",
       "<table class=\"simpletable\">\n",
       "<tr>\n",
       "       <td></td>          <th>coef</th>     <th>std err</th>      <th>t</th>      <th>P>|t|</th>  <th>[0.025</th>    <th>0.975]</th>  \n",
       "</tr>\n",
       "<tr>\n",
       "  <th>Intercept</th>   <td>  -10.4204</td> <td>   11.675</td> <td>   -0.893</td> <td> 0.373</td> <td>  -33.419</td> <td>   12.578</td>\n",
       "</tr>\n",
       "<tr>\n",
       "  <th>scales_true</th> <td>    0.9999</td> <td>    0.008</td> <td>  122.383</td> <td> 0.000</td> <td>    0.984</td> <td>    1.016</td>\n",
       "</tr>\n",
       "</table>\n",
       "<table class=\"simpletable\">\n",
       "<tr>\n",
       "  <th>Omnibus:</th>       <td>12.096</td> <th>  Durbin-Watson:     </th> <td>   1.547</td>\n",
       "</tr>\n",
       "<tr>\n",
       "  <th>Prob(Omnibus):</th> <td> 0.002</td> <th>  Jarque-Bera (JB):  </th> <td>  26.866</td>\n",
       "</tr>\n",
       "<tr>\n",
       "  <th>Skew:</th>          <td> 0.117</td> <th>  Prob(JB):          </th> <td>1.47e-06</td>\n",
       "</tr>\n",
       "<tr>\n",
       "  <th>Kurtosis:</th>      <td> 4.622</td> <th>  Cond. No.          </th> <td>2.95e+03</td>\n",
       "</tr>\n",
       "</table><br/><br/>Warnings:<br/>[1] Standard Errors assume that the covariance matrix of the errors is correctly specified.<br/>[2] The condition number is large, 2.95e+03. This might indicate that there are<br/>strong multicollinearity or other numerical problems."
      ],
      "text/plain": [
       "<class 'statsmodels.iolib.summary.Summary'>\n",
       "\"\"\"\n",
       "                            OLS Regression Results                            \n",
       "==============================================================================\n",
       "Dep. Variable:             scales_hat   R-squared:                       0.984\n",
       "Model:                            OLS   Adj. R-squared:                  0.984\n",
       "Method:                 Least Squares   F-statistic:                 1.498e+04\n",
       "Date:                Thu, 20 Aug 2020   Prob (F-statistic):          6.87e-217\n",
       "Time:                        14:56:09   Log-Likelihood:                -1413.1\n",
       "No. Observations:                 240   AIC:                             2830.\n",
       "Df Residuals:                     238   BIC:                             2837.\n",
       "Df Model:                           1                                         \n",
       "Covariance Type:            nonrobust                                         \n",
       "===============================================================================\n",
       "                  coef    std err          t      P>|t|      [0.025      0.975]\n",
       "-------------------------------------------------------------------------------\n",
       "Intercept     -10.4204     11.675     -0.893      0.373     -33.419      12.578\n",
       "scales_true     0.9999      0.008    122.383      0.000       0.984       1.016\n",
       "==============================================================================\n",
       "Omnibus:                       12.096   Durbin-Watson:                   1.547\n",
       "Prob(Omnibus):                  0.002   Jarque-Bera (JB):               26.866\n",
       "Skew:                           0.117   Prob(JB):                     1.47e-06\n",
       "Kurtosis:                       4.622   Cond. No.                     2.95e+03\n",
       "==============================================================================\n",
       "\n",
       "Warnings:\n",
       "[1] Standard Errors assume that the covariance matrix of the errors is correctly specified.\n",
       "[2] The condition number is large, 2.95e+03. This might indicate that there are\n",
       "strong multicollinearity or other numerical problems.\n",
       "\"\"\""
      ]
     },
     "execution_count": 31,
     "metadata": {},
     "output_type": "execute_result"
    }
   ],
   "source": [
    "scales_dict_chr22 = {'scales_true': np.concatenate(true_scales_chr22), \n",
    "     'scales_hat' : np.concatenate(scales_hat_chr22)}\n",
    "\n",
    "scale_df_chr22 = pd.DataFrame(scales_dict_chr22)\n",
    "\n",
    "y, X = dmatrices('scales_hat ~ scales_true', data=scale_df_chr22, return_type='dataframe')\n",
    "mod = sm.OLS(y,X)\n",
    "res = mod.fit()\n",
    "res.summary()"
   ]
  },
  {
   "cell_type": "code",
   "execution_count": 42,
   "metadata": {},
   "outputs": [
    {
     "data": {
      "image/png": "[encoded data removed]",
      "text/plain": [
       "<Figure size 432x216 with 2 Axes>"
      ]
     },
     "metadata": {
      "needs_background": "light"
     },
     "output_type": "display_data"
    }
   ],
   "source": [
    "fig, ax = plt.subplots(1,2,figsize=(6,3), sharex=True, sharey=True)\n",
    "\n",
    "ax[0].scatter(scale_df_chr22['scales_true'], \n",
    "              scale_df_chr22['scales_hat'], s=20, alpha=0.5)\n",
    "plot_yx(ax[0], color='black', linestyle='--')\n",
    "debox(ax[0]);\n",
    "ax[0].set_title(r'chr22: deCODE', fontsize=14)\n",
    "\n",
    "\n",
    "ax[1].scatter(scale_df_uniform['scales_true'], \n",
    "              scale_df_uniform['scales_hat'],s=20, alpha=0.5)\n",
    "plot_yx(ax[1], color='black', linestyle='--')\n",
    "debox(ax[1])\n",
    "ax[1].set_title(r'20 Mb,r = $10^{-8}$', fontsize=14)\n",
    "ax[0].set_xlim(0,2050)\n",
    "\n",
    "ax[0].set_ylabel(r'$\\hat{\\lambda}$', fontsize=14)\n",
    "ax[0].set_xlabel(r'$\\lambda$', fontsize=14)\n",
    "ax[1].set_xlabel(r'$\\lambda$', fontsize=14)\n",
    "\n",
    "plt.tight_layout()\n",
    "plt.savefig('../../../sandbox/verify_ls_model.pdf', dpi=300, bbox_inches='tight')"
   ]
  },
  {
   "cell_type": "markdown",
   "metadata": {},
   "source": [
    "# Testing Jump Rate Inference with Different $K$ in the panel"
   ]
  },
  {
   "cell_type": "code",
   "execution_count": 52,
   "metadata": {},
   "outputs": [
    {
     "data": {
      "image/png": "[encoded data removed]",
      "text/plain": [
       "<Figure size 216x216 with 1 Axes>"
      ]
     },
     "metadata": {
      "needs_background": "light"
     },
     "output_type": "display_data"
    }
   ],
   "source": [
    "file_pat = '../../../data/hap_copying/mle_results/SerialConstant/mle_scale_*_1_10_20_Ne10000_*.scale.npz'\n",
    "\n",
    "fig, ax = plt.subplots(1,1,figsize=(3,3))\n",
    "for f in sorted(glob(file_pat)):\n",
    "    df = np.load(f)\n",
    "    npanel = df['model_params'][0]\n",
    "    scale = df['scale']\n",
    "    ax.scatter(npanel, scale, s=10, color='blue')\n",
    "    \n",
    "debox(ax);\n",
    "ax.set_xlabel(r'$K$', fontsize=14)\n",
    "ax.set_ylabel(r'$\\hat{\\lambda}$', fontsize=14)\n",
    "ax.set_ylim(0,1500);\n",
    "plt.savefig('../../../sandbox/lambda_hat_w_K.pdf', dpi=300, bbox_inches='tight')"
   ]
  },
  {
   "cell_type": "code",
   "execution_count": null,
   "metadata": {},
   "outputs": [],
   "source": []
  }
 ],
 "metadata": {
  "kernelspec": {
   "display_name": "Python 3",
   "language": "python",
   "name": "python3"
  },
  "language_info": {
   "codemirror_mode": {
    "name": "ipython",
    "version": 3
   },
   "file_extension": ".py",
   "mimetype": "text/x-python",
   "name": "python",
   "nbconvert_exporter": "python",
   "pygments_lexer": "ipython3",
   "version": "3.7.0"
  }
 },
 "nbformat": 4,
 "nbformat_minor": 4
}
