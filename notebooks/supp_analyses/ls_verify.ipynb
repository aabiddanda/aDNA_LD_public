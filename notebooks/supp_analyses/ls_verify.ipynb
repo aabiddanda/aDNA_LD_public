{
 "cells": [
  {
   "cell_type": "markdown",
   "metadata": {},
   "source": [
    "# Verifying the Li-Stephens Model inference of the jump rate\n",
    "\n",
    "This notebook explores a verification of our Li-Stephens Model implementation. Specifically we focus on: (1) estimation of the haplotype copying jump rate when the error rate is given and (2) joint estimation of the jump-rate and the error probability via numerical approximation.\n",
    "\n",
    "For the joint estimation of the jump-rate and the error probability we are able to obtain the standard errors of each estimate as well by taking the square root of the diagonal of the Hessian matrix. In the case of the marginal jump rate estimation the error probability was fixed at $\\epsilon = 10^{-2}$."
   ]
  },
  {
   "cell_type": "code",
   "execution_count": 1,
   "metadata": {},
   "outputs": [],
   "source": [
    "import numpy as np \n",
    "import matplotlib.pyplot as plt\n",
    "import pandas as pd\n",
    "import msprime as msp\n",
    "\n",
    "plt.rcParams['pdf.fonttype'] = 3\n",
    "\n",
    "import sys\n",
    "sys.path.append('../../src/')\n",
    "from plot_utils import *\n",
    "\n",
    "%matplotlib inline"
   ]
  },
  {
   "cell_type": "code",
   "execution_count": 2,
   "metadata": {},
   "outputs": [
    {
     "data": {
      "text/html": [
       "<div>\n",
       "<style scoped>\n",
       "    .dataframe tbody tr th:only-of-type {\n",
       "        vertical-align: middle;\n",
       "    }\n",
       "\n",
       "    .dataframe tbody tr th {\n",
       "        vertical-align: top;\n",
       "    }\n",
       "\n",
       "    .dataframe thead th {\n",
       "        text-align: right;\n",
       "    }\n",
       "</style>\n",
       "<table border=\"1\" class=\"dataframe\">\n",
       "  <thead>\n",
       "    <tr style=\"text-align: right;\">\n",
       "      <th></th>\n",
       "      <th>scales_true</th>\n",
       "      <th>scales_marg_hat</th>\n",
       "      <th>scales_jt_hat</th>\n",
       "      <th>eps_jt_hat</th>\n",
       "      <th>se_scales_jt_hat</th>\n",
       "      <th>se_eps_jt_hat</th>\n",
       "    </tr>\n",
       "  </thead>\n",
       "  <tbody>\n",
       "    <tr>\n",
       "      <th>0</th>\n",
       "      <td>100</td>\n",
       "      <td>102.516313</td>\n",
       "      <td>102.674217</td>\n",
       "      <td>0.019105</td>\n",
       "      <td>24.716874</td>\n",
       "      <td>0.000066</td>\n",
       "    </tr>\n",
       "    <tr>\n",
       "      <th>1</th>\n",
       "      <td>200</td>\n",
       "      <td>189.369557</td>\n",
       "      <td>189.650502</td>\n",
       "      <td>0.019182</td>\n",
       "      <td>39.912196</td>\n",
       "      <td>0.000100</td>\n",
       "    </tr>\n",
       "    <tr>\n",
       "      <th>2</th>\n",
       "      <td>300</td>\n",
       "      <td>292.669794</td>\n",
       "      <td>293.056054</td>\n",
       "      <td>0.019423</td>\n",
       "      <td>47.277726</td>\n",
       "      <td>0.000085</td>\n",
       "    </tr>\n",
       "    <tr>\n",
       "      <th>3</th>\n",
       "      <td>400</td>\n",
       "      <td>417.647663</td>\n",
       "      <td>417.991549</td>\n",
       "      <td>0.019413</td>\n",
       "      <td>40.383416</td>\n",
       "      <td>0.000066</td>\n",
       "    </tr>\n",
       "    <tr>\n",
       "      <th>4</th>\n",
       "      <td>500</td>\n",
       "      <td>503.451364</td>\n",
       "      <td>504.012475</td>\n",
       "      <td>0.020576</td>\n",
       "      <td>45.715850</td>\n",
       "      <td>0.000129</td>\n",
       "    </tr>\n",
       "  </tbody>\n",
       "</table>\n",
       "</div>"
      ],
      "text/plain": [
       "   scales_true  scales_marg_hat  scales_jt_hat  eps_jt_hat  se_scales_jt_hat  \\\n",
       "0          100       102.516313     102.674217    0.019105         24.716874   \n",
       "1          200       189.369557     189.650502    0.019182         39.912196   \n",
       "2          300       292.669794     293.056054    0.019423         47.277726   \n",
       "3          400       417.647663     417.991549    0.019413         40.383416   \n",
       "4          500       503.451364     504.012475    0.020576         45.715850   \n",
       "\n",
       "   se_eps_jt_hat  \n",
       "0       0.000066  \n",
       "1       0.000100  \n",
       "2       0.000085  \n",
       "3       0.000066  \n",
       "4       0.000129  "
      ]
     },
     "execution_count": 2,
     "metadata": {},
     "output_type": "execute_result"
    }
   ],
   "source": [
    "# Reading in the CSV of results from our various simulations ... \n",
    "results_csv = '../../results/ls_verify/ls_simulations_100.csv'\n",
    "ls_verify_df = pd.read_csv(results_csv)\n",
    "ls_verify_df.head()"
   ]
  },
  {
   "cell_type": "code",
   "execution_count": 3,
   "metadata": {},
   "outputs": [
    {
     "data": {
      "image/png": "[encoded data removed]",
      "text/plain": [
       "<Figure size 288x288 with 2 Axes>"
      ]
     },
     "metadata": {
      "needs_background": "light"
     },
     "output_type": "display_data"
    }
   ],
   "source": [
    "fig, ax = plt.subplots(2,1,figsize=(4,4), sharex=True, sharey=True)\n",
    "ax[0].scatter(ls_verify_df['scales_true'].values, \n",
    "           ls_verify_df['scales_marg_hat'].values, s=10);\n",
    "\n",
    "ax[1].scatter(ls_verify_df['scales_true'].values, \n",
    "           ls_verify_df['scales_jt_hat'].values, s=10);\n",
    "\n",
    "plot_yx(ax[0], linestyle='--', color='black')\n",
    "plot_yx(ax[1], linestyle='--', color='black')\n",
    "\n",
    "\n",
    "ax[1].set_xlabel(r'$\\lambda_{true}$', fontsize=14);\n",
    "ax[1].set_ylabel(r'$\\hat{\\lambda}_{jt}$', fontsize=14);\n",
    "ax[0].set_ylabel(r'$\\hat{\\lambda}_{marginal}$', fontsize=14);\n",
    "\n",
    "debox(ax[0]); debox(ax[1]);\n",
    "fig.tight_layout();"
   ]
  },
  {
   "cell_type": "code",
   "execution_count": 4,
   "metadata": {},
   "outputs": [
    {
     "data": {
      "image/png": "[encoded data removed]",
      "text/plain": [
       "<Figure size 216x216 with 1 Axes>"
      ]
     },
     "metadata": {
      "needs_background": "light"
     },
     "output_type": "display_data"
    }
   ],
   "source": [
    "fig, ax = plt.subplots(1,1,figsize=(3,3))\n",
    "ax.scatter(ls_verify_df['scales_marg_hat'], \n",
    "           ls_verify_df['scales_jt_hat'], s=10)\n",
    "\n",
    "debox(ax); \n",
    "plot_yx(ax, color='black', linestyle='--');\n",
    "ax.set_ylabel(r'$\\hat{\\lambda}_{jt}$', fontsize=14);\n",
    "ax.set_xlabel(r'$\\hat{\\lambda}_{marginal}$', fontsize=14);"
   ]
  },
  {
   "cell_type": "code",
   "execution_count": 5,
   "metadata": {},
   "outputs": [
    {
     "data": {
      "image/png": "[encoded data removed]",
      "text/plain": [
       "<Figure size 216x216 with 1 Axes>"
      ]
     },
     "metadata": {
      "needs_background": "light"
     },
     "output_type": "display_data"
    }
   ],
   "source": [
    "fig, ax = plt.subplots(1,1,figsize=(3,3))\n",
    "ax.scatter(ls_verify_df['scales_jt_hat'], \n",
    "           ls_verify_df['eps_jt_hat'], s=10)\n",
    "\n",
    "debox(ax); \n",
    "# plot_yx(ax, color='black', linestyle='--');\n",
    "ax.set_xlabel(r'$\\hat{\\lambda}_{jt}$', fontsize=14);\n",
    "ax.set_ylabel(r'$\\hat{\\epsilon}_{jt}$', fontsize=14);"
   ]
  },
  {
   "cell_type": "markdown",
   "metadata": {},
   "source": [
    "# Plotting with thinned SNP data to explore effect of fewer SNPs on estimation\n",
    "\n",
    "The goal with this data is so that even with subsampling of SNPs that we can be assured that we \n",
    "are able to reliably estimate the copying jump-rate. Here we have pushed the extremes from sampling every 5th snp to every 1000th snp. \n",
    "\n",
    "The intuition should be that as genetic markers get farther apart, it is increasingly hard to observe short-range haplotype switches (which may lead to a downward bias when the true jump rate is high). "
   ]
  },
  {
   "cell_type": "code",
   "execution_count": 6,
   "metadata": {},
   "outputs": [
    {
     "data": {
      "text/html": [
       "<div>\n",
       "<style scoped>\n",
       "    .dataframe tbody tr th:only-of-type {\n",
       "        vertical-align: middle;\n",
       "    }\n",
       "\n",
       "    .dataframe tbody tr th {\n",
       "        vertical-align: top;\n",
       "    }\n",
       "\n",
       "    .dataframe thead th {\n",
       "        text-align: right;\n",
       "    }\n",
       "</style>\n",
       "<table border=\"1\" class=\"dataframe\">\n",
       "  <thead>\n",
       "    <tr style=\"text-align: right;\">\n",
       "      <th></th>\n",
       "      <th>scales_true</th>\n",
       "      <th>scales_marg_hat</th>\n",
       "      <th>scales_jt_hat</th>\n",
       "      <th>eps_jt_hat</th>\n",
       "      <th>se_scales_jt_hat</th>\n",
       "      <th>se_eps_jt_hat</th>\n",
       "      <th>nsnps</th>\n",
       "      <th>thin</th>\n",
       "      <th>seeds</th>\n",
       "      <th>replicate</th>\n",
       "      <th>min_gen_dist</th>\n",
       "    </tr>\n",
       "  </thead>\n",
       "  <tbody>\n",
       "    <tr>\n",
       "      <th>0</th>\n",
       "      <td>100</td>\n",
       "      <td>116.431791</td>\n",
       "      <td>116.552416</td>\n",
       "      <td>0.018589</td>\n",
       "      <td>17.198715</td>\n",
       "      <td>0.000226</td>\n",
       "      <td>27383</td>\n",
       "      <td>5</td>\n",
       "      <td>1</td>\n",
       "      <td>0</td>\n",
       "      <td>2.575927e-08</td>\n",
       "    </tr>\n",
       "    <tr>\n",
       "      <th>1</th>\n",
       "      <td>200</td>\n",
       "      <td>205.179728</td>\n",
       "      <td>205.471844</td>\n",
       "      <td>0.020002</td>\n",
       "      <td>22.616417</td>\n",
       "      <td>0.000234</td>\n",
       "      <td>27383</td>\n",
       "      <td>5</td>\n",
       "      <td>1</td>\n",
       "      <td>0</td>\n",
       "      <td>2.575927e-08</td>\n",
       "    </tr>\n",
       "    <tr>\n",
       "      <th>2</th>\n",
       "      <td>300</td>\n",
       "      <td>303.465699</td>\n",
       "      <td>303.562758</td>\n",
       "      <td>0.018040</td>\n",
       "      <td>13.100959</td>\n",
       "      <td>0.000207</td>\n",
       "      <td>27383</td>\n",
       "      <td>5</td>\n",
       "      <td>1</td>\n",
       "      <td>0</td>\n",
       "      <td>2.575927e-08</td>\n",
       "    </tr>\n",
       "    <tr>\n",
       "      <th>3</th>\n",
       "      <td>400</td>\n",
       "      <td>401.198880</td>\n",
       "      <td>401.322422</td>\n",
       "      <td>0.018800</td>\n",
       "      <td>12.737886</td>\n",
       "      <td>0.000214</td>\n",
       "      <td>27383</td>\n",
       "      <td>5</td>\n",
       "      <td>1</td>\n",
       "      <td>0</td>\n",
       "      <td>2.575927e-08</td>\n",
       "    </tr>\n",
       "    <tr>\n",
       "      <th>4</th>\n",
       "      <td>500</td>\n",
       "      <td>518.136657</td>\n",
       "      <td>518.271315</td>\n",
       "      <td>0.019034</td>\n",
       "      <td>11.716948</td>\n",
       "      <td>0.000215</td>\n",
       "      <td>27383</td>\n",
       "      <td>5</td>\n",
       "      <td>1</td>\n",
       "      <td>0</td>\n",
       "      <td>2.575927e-08</td>\n",
       "    </tr>\n",
       "  </tbody>\n",
       "</table>\n",
       "</div>"
      ],
      "text/plain": [
       "   scales_true  scales_marg_hat  scales_jt_hat  eps_jt_hat  se_scales_jt_hat  \\\n",
       "0          100       116.431791     116.552416    0.018589         17.198715   \n",
       "1          200       205.179728     205.471844    0.020002         22.616417   \n",
       "2          300       303.465699     303.562758    0.018040         13.100959   \n",
       "3          400       401.198880     401.322422    0.018800         12.737886   \n",
       "4          500       518.136657     518.271315    0.019034         11.716948   \n",
       "\n",
       "   se_eps_jt_hat  nsnps  thin  seeds  replicate  min_gen_dist  \n",
       "0       0.000226  27383     5      1          0  2.575927e-08  \n",
       "1       0.000234  27383     5      1          0  2.575927e-08  \n",
       "2       0.000207  27383     5      1          0  2.575927e-08  \n",
       "3       0.000214  27383     5      1          0  2.575927e-08  \n",
       "4       0.000215  27383     5      1          0  2.575927e-08  "
      ]
     },
     "execution_count": 6,
     "metadata": {},
     "output_type": "execute_result"
    }
   ],
   "source": [
    "results_csv2 = '../../results/ls_verify/ls_simulations_49_thinned.csv'\n",
    "ls_verify2_df = pd.read_csv(results_csv2)\n",
    "ls_verify2_df.head()"
   ]
  },
  {
   "cell_type": "code",
   "execution_count": 7,
   "metadata": {},
   "outputs": [
    {
     "data": {
      "text/html": [
       "<div>\n",
       "<style scoped>\n",
       "    .dataframe tbody tr th:only-of-type {\n",
       "        vertical-align: middle;\n",
       "    }\n",
       "\n",
       "    .dataframe tbody tr th {\n",
       "        vertical-align: top;\n",
       "    }\n",
       "\n",
       "    .dataframe thead th {\n",
       "        text-align: right;\n",
       "    }\n",
       "</style>\n",
       "<table border=\"1\" class=\"dataframe\">\n",
       "  <thead>\n",
       "    <tr style=\"text-align: right;\">\n",
       "      <th></th>\n",
       "      <th></th>\n",
       "      <th>scales_marg_hat</th>\n",
       "      <th>scales_jt_hat</th>\n",
       "      <th>eps_jt_hat</th>\n",
       "      <th>se_scales_jt_hat</th>\n",
       "      <th>se_eps_jt_hat</th>\n",
       "      <th>nsnps</th>\n",
       "      <th>thin</th>\n",
       "      <th>seeds</th>\n",
       "      <th>min_gen_dist</th>\n",
       "      <th>bias_jt</th>\n",
       "      <th>bias_marginal</th>\n",
       "    </tr>\n",
       "    <tr>\n",
       "      <th>scales_true</th>\n",
       "      <th>replicate</th>\n",
       "      <th></th>\n",
       "      <th></th>\n",
       "      <th></th>\n",
       "      <th></th>\n",
       "      <th></th>\n",
       "      <th></th>\n",
       "      <th></th>\n",
       "      <th></th>\n",
       "      <th></th>\n",
       "      <th></th>\n",
       "      <th></th>\n",
       "    </tr>\n",
       "  </thead>\n",
       "  <tbody>\n",
       "    <tr>\n",
       "      <th>100</th>\n",
       "      <th>0</th>\n",
       "      <td>106.244979</td>\n",
       "      <td>106.426898</td>\n",
       "      <td>0.020051</td>\n",
       "      <td>13.562857</td>\n",
       "      <td>0.000804</td>\n",
       "      <td>11296.0</td>\n",
       "      <td>41.25</td>\n",
       "      <td>10.0</td>\n",
       "      <td>7.880431e-07</td>\n",
       "      <td>6.426898</td>\n",
       "      <td>6.244979</td>\n",
       "    </tr>\n",
       "    <tr>\n",
       "      <th>200</th>\n",
       "      <th>0</th>\n",
       "      <td>211.463481</td>\n",
       "      <td>211.616207</td>\n",
       "      <td>0.020440</td>\n",
       "      <td>10.263735</td>\n",
       "      <td>0.013817</td>\n",
       "      <td>11296.0</td>\n",
       "      <td>41.25</td>\n",
       "      <td>10.0</td>\n",
       "      <td>7.880431e-07</td>\n",
       "      <td>11.616207</td>\n",
       "      <td>11.463481</td>\n",
       "    </tr>\n",
       "    <tr>\n",
       "      <th>300</th>\n",
       "      <th>0</th>\n",
       "      <td>320.016267</td>\n",
       "      <td>320.153759</td>\n",
       "      <td>0.021191</td>\n",
       "      <td>8.502748</td>\n",
       "      <td>0.026991</td>\n",
       "      <td>11296.0</td>\n",
       "      <td>41.25</td>\n",
       "      <td>10.0</td>\n",
       "      <td>7.880431e-07</td>\n",
       "      <td>20.153759</td>\n",
       "      <td>20.016267</td>\n",
       "    </tr>\n",
       "    <tr>\n",
       "      <th>400</th>\n",
       "      <th>0</th>\n",
       "      <td>435.021825</td>\n",
       "      <td>435.130331</td>\n",
       "      <td>0.021009</td>\n",
       "      <td>6.887649</td>\n",
       "      <td>0.013917</td>\n",
       "      <td>11296.0</td>\n",
       "      <td>41.25</td>\n",
       "      <td>10.0</td>\n",
       "      <td>7.880431e-07</td>\n",
       "      <td>35.130331</td>\n",
       "      <td>35.021825</td>\n",
       "    </tr>\n",
       "    <tr>\n",
       "      <th>500</th>\n",
       "      <th>0</th>\n",
       "      <td>557.489560</td>\n",
       "      <td>557.579076</td>\n",
       "      <td>0.020036</td>\n",
       "      <td>5.994418</td>\n",
       "      <td>0.013888</td>\n",
       "      <td>11296.0</td>\n",
       "      <td>41.25</td>\n",
       "      <td>10.0</td>\n",
       "      <td>7.880431e-07</td>\n",
       "      <td>57.579076</td>\n",
       "      <td>57.489560</td>\n",
       "    </tr>\n",
       "  </tbody>\n",
       "</table>\n",
       "</div>"
      ],
      "text/plain": [
       "                       scales_marg_hat  scales_jt_hat  eps_jt_hat  \\\n",
       "scales_true replicate                                               \n",
       "100         0               106.244979     106.426898    0.020051   \n",
       "200         0               211.463481     211.616207    0.020440   \n",
       "300         0               320.016267     320.153759    0.021191   \n",
       "400         0               435.021825     435.130331    0.021009   \n",
       "500         0               557.489560     557.579076    0.020036   \n",
       "\n",
       "                       se_scales_jt_hat  se_eps_jt_hat    nsnps   thin  seeds  \\\n",
       "scales_true replicate                                                           \n",
       "100         0                 13.562857       0.000804  11296.0  41.25   10.0   \n",
       "200         0                 10.263735       0.013817  11296.0  41.25   10.0   \n",
       "300         0                  8.502748       0.026991  11296.0  41.25   10.0   \n",
       "400         0                  6.887649       0.013917  11296.0  41.25   10.0   \n",
       "500         0                  5.994418       0.013888  11296.0  41.25   10.0   \n",
       "\n",
       "                       min_gen_dist    bias_jt  bias_marginal  \n",
       "scales_true replicate                                          \n",
       "100         0          7.880431e-07   6.426898       6.244979  \n",
       "200         0          7.880431e-07  11.616207      11.463481  \n",
       "300         0          7.880431e-07  20.153759      20.016267  \n",
       "400         0          7.880431e-07  35.130331      35.021825  \n",
       "500         0          7.880431e-07  57.579076      57.489560  "
      ]
     },
     "execution_count": 7,
     "metadata": {},
     "output_type": "execute_result"
    }
   ],
   "source": [
    "bias_jt = ls_verify2_df.scales_jt_hat - ls_verify2_df.scales_true\n",
    "bias_marginal = ls_verify2_df.scales_marg_hat - ls_verify2_df.scales_true\n",
    "ls_verify2_df['bias_jt'] = bias_jt\n",
    "ls_verify2_df['bias_marginal'] = bias_marginal\n",
    "ls_verify2_df.groupby(['scales_true','replicate']).agg('mean').head()"
   ]
  },
  {
   "cell_type": "code",
   "execution_count": 8,
   "metadata": {},
   "outputs": [
    {
     "data": {
      "image/png": "[encoded data removed]",
      "text/plain": [
       "<Figure size 576x216 with 4 Axes>"
      ]
     },
     "metadata": {
      "needs_background": "light"
     },
     "output_type": "display_data"
    }
   ],
   "source": [
    "fig, ax = plt.subplots(1,4,figsize=(8,3), sharex=True, sharey=True)\n",
    "nsnps_unique = np.unique(ls_verify2_df.nsnps)\n",
    "windows = [1000, 2000, 7500, 15000, 28000]\n",
    "\n",
    "for i in range(1,len(windows)):\n",
    "    idx = (ls_verify2_df['nsnps'] < windows[i]) & (ls_verify2_df['nsnps'] > windows[i-1])\n",
    "    x = ls_verify2_df['scales_true'][idx]\n",
    "    y = ls_verify2_df['scales_jt_hat'][idx]\n",
    "    yerr= ls_verify2_df['se_scales_jt_hat'][idx]\n",
    "    r = np.corrcoef(x,y)[0,1]\n",
    "    ax[i-1].scatter(x,y, s=10, label=r'$r=%0.2f$' % r)\n",
    "    plot_yx(ax[i-1], linestyle='--', color='black')\n",
    "    ax[i-1].set_title(r'$n_{snps}=[%d,%d]$' % (windows[i-1], windows[i]), fontsize=10)\n",
    "    ax[i-1].set_xlabel(r'$\\lambda$', fontsize=14)\n",
    "    ax[i-1].legend(fontsize=8)\n",
    "\n",
    "ax[0].set_ylabel(r'$\\hat{\\lambda}$', fontsize=14)\n",
    "ax[0].set_ylim(0,1100)\n",
    "ax[0].set_xlim(0,1100)\n",
    "debox_all(ax);\n",
    "plt.tight_layout()"
   ]
  },
  {
   "cell_type": "markdown",
   "metadata": {},
   "source": [
    "## Plotting the Joint Likelihood Surface"
   ]
  },
  {
   "cell_type": "code",
   "execution_count": 91,
   "metadata": {},
   "outputs": [
    {
     "name": "stderr",
     "output_type": "stream",
     "text": [
      "20it [01:40,  5.01s/it]\n"
     ]
    }
   ],
   "source": [
    "from li_stephens import LiStephensHMM\n",
    "from tqdm import tqdm\n",
    "\n",
    "mut_rate = 1e-8\n",
    "rec_rate = 2e-8\n",
    "length = 5e6\n",
    "seed = 42\n",
    "\n",
    "n = 50\n",
    "ts = msp.simulate(Ne=1e4, sample_size=n, \n",
    "                  mutation_rate=mut_rate, \n",
    "                  recombination_rate=rec_rate, length=length, random_seed=seed)\n",
    "# Generating the haplotype reference panel...\n",
    "geno = ts.genotype_matrix().T\n",
    "phys_pos = np.array([v.position for v in ts.variants()])\n",
    "rec_pos = phys_pos * rec_rate\n",
    "\n",
    "ac = np.sum(geno, axis=0)\n",
    "mac = np.minimum(ac, n - ac)\n",
    "maf = mac / n\n",
    "idx = np.where(maf > 0.01)[0]\n",
    "\n",
    "ls_model = LiStephensHMM(haps=geno[:,idx], positions=rec_pos[idx])\n",
    "test_hap,_ = ls_model._sim_haplotype(scale=1e2, eps=5e-3, seed=42)\n",
    "\n",
    "x = 20\n",
    "M = np.zeros(shape=(x,x))\n",
    "\n",
    "scales=np.linspace(5, 300, x)\n",
    "eps = np.linspace(5e-3, 5e-2, x)\n",
    "for i,s in tqdm(enumerate(scales)):\n",
    "    for j,e in enumerate(eps):\n",
    "        M[i,j]=ls_model._negative_logll(test_hap, scale=s, eps=e)"
   ]
  },
  {
   "cell_type": "code",
   "execution_count": 94,
   "metadata": {},
   "outputs": [
    {
     "data": {
      "text/plain": [
       "<matplotlib.lines.Line2D at 0x138377e90>"
      ]
     },
     "execution_count": 94,
     "metadata": {},
     "output_type": "execute_result"
    },
    {
     "data": {
      "image/png": "[encoded data removed]",
      "text/plain": [
       "<Figure size 288x288 with 1 Axes>"
      ]
     },
     "metadata": {
      "needs_background": "light"
     },
     "output_type": "display_data"
    }
   ],
   "source": [
    "\n",
    "fig, ax = plt.subplots(1,1,figsize=(4,4))\n",
    "ax.imshow(M/M.max(), extent=[5e-3, 5e-2, 5, 300], origin='lower', aspect='auto')\n",
    "ax.axhline(y=1e2, color='red')\n",
    "ax.axvline(x=1e-2, color='red')"
   ]
  },
  {
   "cell_type": "code",
   "execution_count": 95,
   "metadata": {},
   "outputs": [],
   "source": [
    "# ls_model._infer_params(test_hap, x0=[1e2,1e-2], bounds=[(1.,1e4), (1e-4, 0.2)], method='trust-constr', options={'verbose': 1})"
   ]
  },
  {
   "cell_type": "code",
   "execution_count": 100,
   "metadata": {},
   "outputs": [
    {
     "name": "stdout",
     "output_type": "stream",
     "text": [
      "Splitting first generation\n",
      "Generating sampling points\n",
      "Constructing Gabrial graph and minimizer pool\n",
      "Triangulation completed, building minimizer pool\n",
      "Starting minimization at [1.e+00 1.e-04]...\n",
      "bounds in kwarg:\n",
      "[[1.0, 100000.0], [0.0001, 0.5]]\n",
      "lres =      fun: 28518.770356055036\n",
      "     jac: array([-0.0012207 ,  1.12231445])\n",
      " message: 'Optimization terminated successfully'\n",
      "    nfev: 123\n",
      "     nit: 23\n",
      "    njev: 23\n",
      "  status: 0\n",
      " success: True\n",
      "       x: array([5.94559281e+02, 7.08279446e-03])\n",
      "Successfully completed construction of complex.\n",
      "CPU times: user 30.4 s, sys: 41 ms, total: 30.4 s\n",
      "Wall time: 30.4 s\n"
     ]
    },
    {
     "data": {
      "text/plain": [
       "     fun: 28518.770356055036\n",
       "    funl: array([28518.77035606])\n",
       " message: 'Optimization terminated successfully.'\n",
       "    nfev: 143\n",
       "     nit: 2\n",
       "   nlfev: 123\n",
       "   nlhev: 0\n",
       "   nljev: 23\n",
       " success: True\n",
       "       x: array([5.94559281e+02, 7.08279446e-03])\n",
       "      xl: array([[5.94559281e+02, 7.08279446e-03]])"
      ]
     },
     "execution_count": 100,
     "metadata": {},
     "output_type": "execute_result"
    }
   ],
   "source": [
    "from scipy import optimize\n",
    "\n",
    "test_hap,_ = ls_model._sim_haplotype(scale=5e2, eps=5e-3)\n",
    "\n",
    "f = lambda x : ls_model._negative_logll(test_hap, scale=x[0], eps=x[1])\n",
    "bounds = [(1, 1e5), (1e-4, 0.5)]\n",
    "%time optimize.shgo(f, bounds, n=10, sampling_method='sobol', options={'verbose': 1, 'disp': 1})"
   ]
  },
  {
   "cell_type": "code",
   "execution_count": null,
   "metadata": {},
   "outputs": [],
   "source": []
  }
 ],
 "metadata": {
  "kernelspec": {
   "display_name": "Python 3",
   "language": "python",
   "name": "python3"
  },
  "language_info": {
   "codemirror_mode": {
    "name": "ipython",
    "version": 3
   },
   "file_extension": ".py",
   "mimetype": "text/x-python",
   "name": "python",
   "nbconvert_exporter": "python",
   "pygments_lexer": "ipython3",
   "version": "3.7.5"
  }
 },
 "nbformat": 4,
 "nbformat_minor": 4
}
