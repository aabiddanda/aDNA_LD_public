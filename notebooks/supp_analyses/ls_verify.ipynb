{
 "cells": [
  {
   "cell_type": "markdown",
   "metadata": {},
   "source": [
    "# Verifying the Li-Stephens Model inference of the jump rate\n",
    "\n",
    "This notebook explores a verification of our Li-Stephens Model implementation. Specifically we focus on: (1) estimation of the haplotype copying jump rate when the error rate is given and (2) joint estimation of the jump-rate and the error probability via numerical approximation.\n",
    "\n",
    "For the joint estimation of the jump-rate and the error probability we are able to obtain the standard errors of each estimate as well by taking the square root of the diagonal of the Hessian matrix. In the case of the marginal jump rate estimation the error probability was fixed at $\\epsilon = 10^{-2}$."
   ]
  },
  {
   "cell_type": "code",
   "execution_count": 1,
   "metadata": {
    "execution": {
     "iopub.execute_input": "2021-04-16T21:59:45.679912Z",
     "iopub.status.busy": "2021-04-16T21:59:45.677971Z",
     "iopub.status.idle": "2021-04-16T21:59:46.692147Z",
     "shell.execute_reply": "2021-04-16T21:59:46.693024Z"
    }
   },
   "outputs": [],
   "source": [
    "import numpy as np \n",
    "import matplotlib.pyplot as plt\n",
    "import pandas as pd\n",
    "\n",
    "import sys\n",
    "sys.path.append('../../src/')\n",
    "from plot_utils import *\n",
    "\n",
    "%matplotlib inline"
   ]
  },
  {
   "cell_type": "code",
   "execution_count": 2,
   "metadata": {
    "execution": {
     "iopub.execute_input": "2021-04-16T21:59:46.701054Z",
     "iopub.status.busy": "2021-04-16T21:59:46.699984Z",
     "iopub.status.idle": "2021-04-16T21:59:46.724279Z",
     "shell.execute_reply": "2021-04-16T21:59:46.725198Z"
    }
   },
   "outputs": [
    {
     "data": {
      "text/html": [
       "<div>\n",
       "<style scoped>\n",
       "    .dataframe tbody tr th:only-of-type {\n",
       "        vertical-align: middle;\n",
       "    }\n",
       "\n",
       "    .dataframe tbody tr th {\n",
       "        vertical-align: top;\n",
       "    }\n",
       "\n",
       "    .dataframe thead th {\n",
       "        text-align: right;\n",
       "    }\n",
       "</style>\n",
       "<table border=\"1\" class=\"dataframe\">\n",
       "  <thead>\n",
       "    <tr style=\"text-align: right;\">\n",
       "      <th></th>\n",
       "      <th>scales_true</th>\n",
       "      <th>scales_marg_hat</th>\n",
       "      <th>scales_jt_hat</th>\n",
       "      <th>eps_jt_hat</th>\n",
       "      <th>se_scales_jt_hat</th>\n",
       "      <th>se_eps_jt_hat</th>\n",
       "    </tr>\n",
       "  </thead>\n",
       "  <tbody>\n",
       "    <tr>\n",
       "      <th>0</th>\n",
       "      <td>100</td>\n",
       "      <td>102.516313</td>\n",
       "      <td>102.674217</td>\n",
       "      <td>0.019105</td>\n",
       "      <td>24.716874</td>\n",
       "      <td>0.000066</td>\n",
       "    </tr>\n",
       "    <tr>\n",
       "      <th>1</th>\n",
       "      <td>200</td>\n",
       "      <td>189.369557</td>\n",
       "      <td>189.650502</td>\n",
       "      <td>0.019182</td>\n",
       "      <td>39.912196</td>\n",
       "      <td>0.000100</td>\n",
       "    </tr>\n",
       "    <tr>\n",
       "      <th>2</th>\n",
       "      <td>300</td>\n",
       "      <td>292.669794</td>\n",
       "      <td>293.056054</td>\n",
       "      <td>0.019423</td>\n",
       "      <td>47.277726</td>\n",
       "      <td>0.000085</td>\n",
       "    </tr>\n",
       "    <tr>\n",
       "      <th>3</th>\n",
       "      <td>400</td>\n",
       "      <td>417.647663</td>\n",
       "      <td>417.991549</td>\n",
       "      <td>0.019413</td>\n",
       "      <td>40.383416</td>\n",
       "      <td>0.000066</td>\n",
       "    </tr>\n",
       "    <tr>\n",
       "      <th>4</th>\n",
       "      <td>500</td>\n",
       "      <td>503.451364</td>\n",
       "      <td>504.012475</td>\n",
       "      <td>0.020576</td>\n",
       "      <td>45.715850</td>\n",
       "      <td>0.000129</td>\n",
       "    </tr>\n",
       "  </tbody>\n",
       "</table>\n",
       "</div>"
      ],
      "text/plain": [
       "   scales_true  scales_marg_hat  scales_jt_hat  eps_jt_hat  se_scales_jt_hat  \\\n",
       "0          100       102.516313     102.674217    0.019105         24.716874   \n",
       "1          200       189.369557     189.650502    0.019182         39.912196   \n",
       "2          300       292.669794     293.056054    0.019423         47.277726   \n",
       "3          400       417.647663     417.991549    0.019413         40.383416   \n",
       "4          500       503.451364     504.012475    0.020576         45.715850   \n",
       "\n",
       "   se_eps_jt_hat  \n",
       "0       0.000066  \n",
       "1       0.000100  \n",
       "2       0.000085  \n",
       "3       0.000066  \n",
       "4       0.000129  "
      ]
     },
     "execution_count": 1,
     "metadata": {},
     "output_type": "execute_result"
    }
   ],
   "source": [
    "# Reading in the CSV of results from our various simulations ... \n",
    "results_csv = '../../results/ls_verify/ls_simulations_100.csv'\n",
    "ls_verify_df = pd.read_csv(results_csv)\n",
    "ls_verify_df.head()"
   ]
  },
  {
   "cell_type": "code",
   "execution_count": 3,
   "metadata": {
    "execution": {
     "iopub.execute_input": "2021-04-16T21:59:46.768244Z",
     "iopub.status.busy": "2021-04-16T21:59:46.767604Z",
     "iopub.status.idle": "2021-04-16T21:59:47.206146Z",
     "shell.execute_reply": "2021-04-16T21:59:47.206660Z"
    }
   },
   "outputs": [
    {
     "data": {
      "image/png": "[encoded data removed]",
      "text/plain": [
       "<Figure size 288x288 with 2 Axes>"
      ]
     },
     "metadata": {
      "needs_background": "light"
     },
     "output_type": "display_data"
    }
   ],
   "source": [
    "fig, ax = plt.subplots(2,1,figsize=(4,4), sharex=True, sharey=True)\n",
    "ax[0].scatter(ls_verify_df['scales_true'].values, \n",
    "           ls_verify_df['scales_marg_hat'].values, s=10);\n",
    "\n",
    "ax[1].scatter(ls_verify_df['scales_true'].values, \n",
    "           ls_verify_df['scales_jt_hat'].values, s=10);\n",
    "\n",
    "plot_yx(ax[0], linestyle='--', color='black')\n",
    "plot_yx(ax[1], linestyle='--', color='black')\n",
    "\n",
    "\n",
    "ax[1].set_xlabel(r'$\\lambda_{true}$', fontsize=14);\n",
    "ax[1].set_ylabel(r'$\\hat{\\lambda}_{jt}$', fontsize=14);\n",
    "ax[0].set_ylabel(r'$\\hat{\\lambda}_{marginal}$', fontsize=14);\n",
    "\n",
    "debox(ax[0]); debox(ax[1]);\n",
    "fig.tight_layout();"
   ]
  },
  {
   "cell_type": "code",
   "execution_count": 4,
   "metadata": {
    "execution": {
     "iopub.execute_input": "2021-04-16T21:59:47.229656Z",
     "iopub.status.busy": "2021-04-16T21:59:47.221905Z",
     "iopub.status.idle": "2021-04-16T21:59:47.370005Z",
     "shell.execute_reply": "2021-04-16T21:59:47.370787Z"
    }
   },
   "outputs": [
    {
     "data": {
      "text/plain": [
       "Text(0.5, 0, '$\\\\hat{\\\\lambda}_{marginal}$')"
      ]
     },
     "execution_count": 1,
     "metadata": {},
     "output_type": "execute_result"
    },
    {
     "data": {
      "image/png": "[encoded data removed]",
      "text/plain": [
       "<Figure size 216x216 with 1 Axes>"
      ]
     },
     "metadata": {
      "needs_background": "light"
     },
     "output_type": "display_data"
    }
   ],
   "source": [
    "fig, ax = plt.subplots(1,1,figsize=(3,3))\n",
    "ax.scatter(ls_verify_df['scales_marg_hat'], \n",
    "           ls_verify_df['scales_jt_hat'], s=10)\n",
    "\n",
    "debox(ax); \n",
    "plot_yx(ax, color='black', linestyle='--');\n",
    "ax.set_ylabel(r'$\\hat{\\lambda}_{jt}$', fontsize=14);\n",
    "ax.set_xlabel(r'$\\hat{\\lambda}_{marginal}$', fontsize=14);"
   ]
  },
  {
   "cell_type": "code",
   "execution_count": 5,
   "metadata": {
    "execution": {
     "iopub.execute_input": "2021-04-16T21:59:47.393080Z",
     "iopub.status.busy": "2021-04-16T21:59:47.391938Z",
     "iopub.status.idle": "2021-04-16T21:59:47.523511Z",
     "shell.execute_reply": "2021-04-16T21:59:47.524189Z"
    }
   },
   "outputs": [
    {
     "data": {
      "text/plain": [
       "Text(0, 0.5, '$\\\\hat{\\\\epsilon}_{jt}$')"
      ]
     },
     "execution_count": 1,
     "metadata": {},
     "output_type": "execute_result"
    },
    {
     "data": {
      "image/png": "[encoded data removed]",
      "text/plain": [
       "<Figure size 216x216 with 1 Axes>"
      ]
     },
     "metadata": {
      "needs_background": "light"
     },
     "output_type": "display_data"
    }
   ],
   "source": [
    "fig, ax = plt.subplots(1,1,figsize=(3,3))\n",
    "ax.scatter(ls_verify_df['scales_jt_hat'], \n",
    "           ls_verify_df['eps_jt_hat'], s=10)\n",
    "\n",
    "debox(ax); \n",
    "# plot_yx(ax, color='black', linestyle='--');\n",
    "ax.set_xlabel(r'$\\hat{\\lambda}_{jt}$', fontsize=14);\n",
    "ax.set_ylabel(r'$\\hat{\\epsilon}_{jt}$', fontsize=14);"
   ]
  }
 ],
 "metadata": {
  "kernelspec": {
   "display_name": "Python 3",
   "language": "python",
   "name": "python3"
  },
  "language_info": {
   "codemirror_mode": {
    "name": "ipython",
    "version": 3
   },
   "file_extension": ".py",
   "mimetype": "text/x-python",
   "name": "python",
   "nbconvert_exporter": "python",
   "pygments_lexer": "ipython3",
   "version": "3.7.5"
  }
 },
 "nbformat": 4,
 "nbformat_minor": 4
}
