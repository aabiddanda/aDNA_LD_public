{
 "cells": [
  {
   "cell_type": "markdown",
   "metadata": {},
   "source": [
    "# Verifying the Li-Stephens Model inference of the jump rate\n",
    "\n",
    "This notebook explores a verification of the Li-Stephens Model implementation. Specifically we focus on: (1) estimation of the haplotype copying jump rate when the error rate is given and (2) joint estimation of the jump-rate and the error probability.\n",
    "\n",
    "For the joint estimation of the jump-rate and the error probability we are able to obtain the standard errors of each estimate as well by taking the square root of the diagonal of the Hessian matrix. In the case of the marginal jump rate estimation the error probability was $\\epsilon = 10^{-2}$."
   ]
  },
  {
   "cell_type": "code",
   "execution_count": 19,
   "metadata": {},
   "outputs": [],
   "source": [
    "import numpy as np \n",
    "import matplotlib.pyplot as plt\n",
    "import pandas as pd\n",
    "\n",
    "import sys\n",
    "sys.path.append('../../src/')\n",
    "from plot_utils import *\n",
    "\n",
    "%matplotlib inline"
   ]
  },
  {
   "cell_type": "code",
   "execution_count": 29,
   "metadata": {},
   "outputs": [
    {
     "data": {
      "text/html": [
       "<div>\n",
       "<style scoped>\n",
       "    .dataframe tbody tr th:only-of-type {\n",
       "        vertical-align: middle;\n",
       "    }\n",
       "\n",
       "    .dataframe tbody tr th {\n",
       "        vertical-align: top;\n",
       "    }\n",
       "\n",
       "    .dataframe thead th {\n",
       "        text-align: right;\n",
       "    }\n",
       "</style>\n",
       "<table border=\"1\" class=\"dataframe\">\n",
       "  <thead>\n",
       "    <tr style=\"text-align: right;\">\n",
       "      <th></th>\n",
       "      <th>scales_true</th>\n",
       "      <th>scales_marg_hat</th>\n",
       "      <th>scales_jt_hat</th>\n",
       "      <th>eps_jt_hat</th>\n",
       "      <th>se_scales_jt_hat</th>\n",
       "      <th>se_eps_jt_hat</th>\n",
       "    </tr>\n",
       "  </thead>\n",
       "  <tbody>\n",
       "    <tr>\n",
       "      <th>0</th>\n",
       "      <td>100</td>\n",
       "      <td>123.410428</td>\n",
       "      <td>104.132689</td>\n",
       "      <td>0.5</td>\n",
       "      <td>1.592690</td>\n",
       "      <td>0.000145</td>\n",
       "    </tr>\n",
       "    <tr>\n",
       "      <th>1</th>\n",
       "      <td>200</td>\n",
       "      <td>222.028817</td>\n",
       "      <td>184.699748</td>\n",
       "      <td>0.5</td>\n",
       "      <td>2.018281</td>\n",
       "      <td>0.000342</td>\n",
       "    </tr>\n",
       "    <tr>\n",
       "      <th>2</th>\n",
       "      <td>300</td>\n",
       "      <td>306.879880</td>\n",
       "      <td>228.793858</td>\n",
       "      <td>0.5</td>\n",
       "      <td>1.000000</td>\n",
       "      <td>1.000000</td>\n",
       "    </tr>\n",
       "    <tr>\n",
       "      <th>3</th>\n",
       "      <td>400</td>\n",
       "      <td>402.457213</td>\n",
       "      <td>294.515292</td>\n",
       "      <td>0.5</td>\n",
       "      <td>2.966379</td>\n",
       "      <td>0.001375</td>\n",
       "    </tr>\n",
       "    <tr>\n",
       "      <th>4</th>\n",
       "      <td>500</td>\n",
       "      <td>455.303159</td>\n",
       "      <td>291.618439</td>\n",
       "      <td>0.5</td>\n",
       "      <td>2.813957</td>\n",
       "      <td>0.001792</td>\n",
       "    </tr>\n",
       "  </tbody>\n",
       "</table>\n",
       "</div>"
      ],
      "text/plain": [
       "   scales_true  scales_marg_hat  scales_jt_hat  eps_jt_hat  se_scales_jt_hat  \\\n",
       "0          100       123.410428     104.132689         0.5          1.592690   \n",
       "1          200       222.028817     184.699748         0.5          2.018281   \n",
       "2          300       306.879880     228.793858         0.5          1.000000   \n",
       "3          400       402.457213     294.515292         0.5          2.966379   \n",
       "4          500       455.303159     291.618439         0.5          2.813957   \n",
       "\n",
       "   se_eps_jt_hat  \n",
       "0       0.000145  \n",
       "1       0.000342  \n",
       "2       1.000000  \n",
       "3       0.001375  \n",
       "4       0.001792  "
      ]
     },
     "execution_count": 29,
     "metadata": {},
     "output_type": "execute_result"
    }
   ],
   "source": [
    "# Reading in the CSV of results from our various simulations ... \n",
    "results_csv = '../../results/ls_verify/ls_simulations_100.csv'\n",
    "ls_verify_df = pd.read_csv(results_csv)\n",
    "ls_verify_df.head()"
   ]
  },
  {
   "cell_type": "code",
   "execution_count": 28,
   "metadata": {},
   "outputs": [
    {
     "data": {
      "image/png": "[encoded data removed]",
      "text/plain": [
       "<Figure size 288x288 with 2 Axes>"
      ]
     },
     "metadata": {
      "needs_background": "light"
     },
     "output_type": "display_data"
    }
   ],
   "source": [
    "fig, ax = plt.subplots(2,1,figsize=(4,4), sharex=True, sharey=True)\n",
    "ax[0].scatter(ls_verify_df['scales_true'].values, \n",
    "           ls_verify_df['scales_marg_hat'].values, s=10);\n",
    "\n",
    "ax[1].scatter(ls_verify_df['scales_true'].values, \n",
    "           ls_verify_df['scales_jt_hat'].values, s=10);\n",
    "\n",
    "plot_yx(ax[0], linestyle='--', color='black')\n",
    "plot_yx(ax[1], linestyle='--', color='black')\n",
    "\n",
    "\n",
    "ax[1].set_xlabel(r'$\\lambda_{true}$', fontsize=14);\n",
    "ax[1].set_ylabel(r'$\\hat{\\lambda}_{joint}$', fontsize=14);\n",
    "ax[0].set_ylabel(r'$\\hat{\\lambda}_{marginal}$', fontsize=14);\n",
    "\n",
    "debox(ax[0]); debox(ax[1]);\n",
    "fig.tight_layout();"
   ]
  }
 ],
 "metadata": {
  "kernelspec": {
   "display_name": "Python 3",
   "language": "python",
   "name": "python3"
  },
  "language_info": {
   "codemirror_mode": {
    "name": "ipython",
    "version": 3
   },
   "file_extension": ".py",
   "mimetype": "text/x-python",
   "name": "python",
   "nbconvert_exporter": "python",
   "pygments_lexer": "ipython3",
   "version": "3.7.0"
  }
 },
 "nbformat": 4,
 "nbformat_minor": 4
}
