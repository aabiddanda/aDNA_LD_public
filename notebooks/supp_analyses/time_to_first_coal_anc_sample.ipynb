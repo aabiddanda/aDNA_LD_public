{
 "cells": [
  {
   "cell_type": "markdown",
   "metadata": {},
   "source": [
    "# Results for Appendix 3\n",
    "\n",
    "This notebook explores the expected time to first coalescence of an ancient lineage into a modern panel. We explore two particular approximations for this to make claims on the scales for haplotype copying. "
   ]
  },
  {
   "cell_type": "code",
   "execution_count": 1,
   "metadata": {
    "execution": {
     "iopub.execute_input": "2021-06-19T11:53:59.789572Z",
     "iopub.status.busy": "2021-06-19T11:53:59.787470Z",
     "iopub.status.idle": "2021-06-19T11:54:00.676703Z",
     "shell.execute_reply": "2021-06-19T11:54:00.677636Z"
    }
   },
   "outputs": [],
   "source": [
    "import numpy as np \n",
    "import matplotlib.pyplot as plt\n",
    "from tqdm import tqdm\n",
    "import os\n",
    "import sys\n",
    "sys.path.append('../../src/')\n",
    "from first_coal_anc_samples import *\n",
    "from plot_utils import *\n",
    "\n",
    "%matplotlib inline"
   ]
  },
  {
   "cell_type": "code",
   "execution_count": 2,
   "metadata": {
    "execution": {
     "iopub.execute_input": "2021-06-19T11:54:00.686225Z",
     "iopub.status.busy": "2021-06-19T11:54:00.685144Z",
     "iopub.status.idle": "2021-06-19T11:54:00.689001Z",
     "shell.execute_reply": "2021-06-19T11:54:00.689869Z"
    }
   },
   "outputs": [],
   "source": [
    "plt.rcParams['font.sans-serif'] = \"Arial\"\n",
    "plt.rcParams['figure.facecolor'] = \"w\"\n",
    "plt.rcParams['figure.autolayout'] = True\n",
    "plt.rcParams['pdf.fonttype'] = 3\n",
    "\n",
    "# Making the relevant figure directories that we want\n",
    "main_figdir = '../../plots/supp_figs/appendix3/'\n",
    "os.makedirs(main_figdir, exist_ok=True)"
   ]
  },
  {
   "cell_type": "code",
   "execution_count": 3,
   "metadata": {
    "execution": {
     "iopub.execute_input": "2021-06-19T11:54:00.724646Z",
     "iopub.status.busy": "2021-06-19T11:54:00.723521Z",
     "iopub.status.idle": "2021-06-19T11:54:45.545527Z",
     "shell.execute_reply": "2021-06-19T11:54:45.546310Z"
    }
   },
   "outputs": [
    {
     "name": "stderr",
     "output_type": "stream",
     "text": [
      "100%|██████████████████████████████████████████████████████████████████████| 20/20 [00:00<00:00, 33.51it/s]\n",
      "100%|██████████████████████████████████████████████████████████████████████| 20/20 [00:07<00:00,  2.75it/s]\n",
      "100%|██████████████████████████████████████████████████████████████████████| 20/20 [00:33<00:00,  1.68s/it]\n"
     ]
    },
    {
     "data": {
      "image/png": "[encoded data removed]",
      "text/plain": [
       "<Figure size 288x216 with 1 Axes>"
      ]
     },
     "metadata": {},
     "output_type": "display_data"
    }
   ],
   "source": [
    "nt = 20\n",
    "tas = 10**np.linspace(-5,-0.5, nt)\n",
    "\n",
    "# Reference Panel Size and colors for points...\n",
    "Ks = [1000, 5000, 10000]\n",
    "colors = ['blue','orange', 'green']\n",
    "\n",
    "f, ax = plt.subplots(1,1,figsize=(4,3))\n",
    "for i in range(len(Ks)):\n",
    "    e_t = np.zeros(nt)\n",
    "    for j in tqdm(range(nt)):\n",
    "        t = tas[j]\n",
    "        # calculating the time to the first coalescent using griffiths approximation\n",
    "        e_t[j] = time_first_coal_griffiths(Ks[i],t)\n",
    "        \n",
    "    ax.loglog(tas, e_t, lw=2, color=colors[i], label=r'$K = %d$' % Ks[i])\n",
    "    \n",
    "ax.legend(fontsize=10)\n",
    "ax.set_xlabel(r'$t_a$', fontsize=14);\n",
    "ax.set_ylabel(r'$E[T^*]$', fontsize=14);\n",
    "debox(ax);\n",
    "\n",
    "# Save both the png and pdf versions of the plot \n",
    "plt.savefig(main_figdir + 'exp_time_to_coal_anc.pdf', bbox_inches='tight', dpi=300)\n",
    "plt.savefig(main_figdir + 'exp_time_to_coal_anc.png', bbox_inches='tight', dpi=400)"
   ]
  },
  {
   "cell_type": "code",
   "execution_count": 4,
   "metadata": {
    "execution": {
     "iopub.execute_input": "2021-06-19T11:54:45.590028Z",
     "iopub.status.busy": "2021-06-19T11:54:45.578317Z",
     "iopub.status.idle": "2021-06-19T11:54:49.553433Z",
     "shell.execute_reply": "2021-06-19T11:54:49.554114Z"
    }
   },
   "outputs": [
    {
     "name": "stdout",
     "output_type": "stream",
     "text": [
      "1.1726186634543034\n",
      "6.99580269588812\n"
     ]
    }
   ],
   "source": [
    "print(time_first_coal_griffiths(1000,1e-2)/time_first_coal_griffiths(10000,1e-2))\n",
    "print(time_first_coal_griffiths(1000,1e-4)/time_first_coal_griffiths(10000,1e-4))"
   ]
  },
  {
   "cell_type": "code",
   "execution_count": 5,
   "metadata": {
    "execution": {
     "iopub.execute_input": "2021-06-19T11:54:49.684764Z",
     "iopub.status.busy": "2021-06-19T11:54:49.641603Z",
     "iopub.status.idle": "2021-06-19T11:54:50.318709Z",
     "shell.execute_reply": "2021-06-19T11:54:50.319249Z"
    }
   },
   "outputs": [
    {
     "data": {
      "image/png": "[encoded data removed]",
      "text/plain": [
       "<Figure size 216x288 with 2 Axes>"
      ]
     },
     "metadata": {},
     "output_type": "display_data"
    }
   ],
   "source": [
    "# Testing asymptotic calculations against exact values from Griffiths 1984 (Table 1)\n",
    "nt = 100\n",
    "Ne = 1e4\n",
    "gens = np.arange(1,10000)\n",
    "tas = gens/Ne\n",
    "K = 50\n",
    "e_nt_asymptotic = np.array([appx_num_lineages_mean_var(K,t)[0] for t in tas])\n",
    "var_nt_asymptotic = np.array([appx_num_lineages_mean_var(K,t)[1] for t in tas])\n",
    "\n",
    "fig, ax = plt.subplots(2,1,figsize=(3, 2*2), sharex=True)\n",
    "ax[0].plot(tas, e_nt_asymptotic, lw=2)\n",
    "# ax[0].set_xlabel(r't', fontsize=14)\n",
    "ax[0].scatter(0.01, 40.161, color='red', marker='x')\n",
    "ax[0].scatter(0.1,14.61, color='red', marker='x')\n",
    "ax[0].scatter(1.0,2.289, color='red', marker='x', label=r'Exact')\n",
    "ax[0].set_ylabel(r'$\\mathbb{E}[A_n(t)]$',fontsize=14)\n",
    "ax[0].legend()\n",
    "\n",
    "ax[1].plot(tas, var_nt_asymptotic, lw=2)\n",
    "ax[1].scatter(0.01,6.443, color='red', marker='x',label=r'Exact')\n",
    "ax[1].scatter(0.1, 4.668, color='red', marker='x')\n",
    "ax[1].scatter(1.0, 0.643, color='red', marker='x')\n",
    "ax[1].set_ylabel(r'$Var[A_n(t)]$',fontsize=14)\n",
    "ax[1].set_xlabel(r't',fontsize=14)\n",
    "ax[1].legend()\n",
    "\n",
    "debox(ax[0]); debox(ax[1]);\n",
    "fig.tight_layout();\n",
    "plt.savefig(main_figdir + 'verify_An.pdf', bbox_inches='tight', dpi=300)"
   ]
  }
 ],
 "metadata": {
  "kernelspec": {
   "display_name": "Python 3",
   "language": "python",
   "name": "python3"
  },
  "language_info": {
   "codemirror_mode": {
    "name": "ipython",
    "version": 3
   },
   "file_extension": ".py",
   "mimetype": "text/x-python",
   "name": "python",
   "nbconvert_exporter": "python",
   "pygments_lexer": "ipython3",
   "version": "3.7.5"
  }
 },
 "nbformat": 4,
 "nbformat_minor": 4
}
