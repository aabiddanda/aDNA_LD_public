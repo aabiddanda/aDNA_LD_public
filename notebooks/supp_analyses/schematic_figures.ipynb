{
 "cells": [
  {
   "cell_type": "markdown",
   "metadata": {},
   "source": [
    "## Creating Schematic Figures in Matplotlib "
   ]
  },
  {
   "cell_type": "code",
   "execution_count": 1,
   "metadata": {},
   "outputs": [],
   "source": [
    "import numpy as np\n",
    "import matplotlib.pyplot as plt\n",
    "import sys\n",
    "import os\n",
    "sys.path.append('../../src/')\n",
    "from plot_utils import *\n",
    "\n",
    "from tqdm import tqdm\n",
    "\n",
    "%matplotlib inline"
   ]
  },
  {
   "cell_type": "code",
   "execution_count": 2,
   "metadata": {},
   "outputs": [],
   "source": [
    "plt.rcParams['font.sans-serif'] = \"Arial\"\n",
    "plt.rcParams['figure.facecolor'] = \"w\"\n",
    "plt.rcParams['figure.autolayout'] = True\n",
    "plt.rcParams['pdf.fonttype'] = 3\n",
    "\n",
    "# Making the relevant figure directories that we want\n",
    "main_figdir = '../../plots/schematic_plots/'\n",
    "supp_figdir = '../../plots/supp_figs/schematic_plots/'\n",
    "os.makedirs(main_figdir, exist_ok=True)\n",
    "os.makedirs(supp_figdir, exist_ok=True)"
   ]
  },
  {
   "cell_type": "code",
   "execution_count": 3,
   "metadata": {},
   "outputs": [
    {
     "data": {
      "image/png": "[encoded data removed]",
      "text/plain": [
       "<Figure size 216x216 with 1 Axes>"
      ]
     },
     "metadata": {},
     "output_type": "display_data"
    }
   ],
   "source": [
    "f, ax = plt.subplots(1,1,figsize=(3,3))\n",
    "\n",
    "# Plotting a serial sampling\n",
    "ax.plot([0.3,0.4], [0.0, 0.6], lw=4, color=\"black\")\n",
    "ax.plot([0.45,0.4], [0.4,0.6], lw=4, color=\"black\")\n",
    "# ax.plot([0.2,0.6], [0.6,0.6], lw=5, color=\"black\")\n",
    "# ax.plot([0.4,0.4], [0.6,1.0], lw=5, color=\"black\")\n",
    "\n",
    "# Defining variables of interest\n",
    "ax.annotate(text='', xy=(0.51,0), xytext=(0.51,0.4), \n",
    "            arrowprops=dict(arrowstyle='|-|', color='blue', shrinkA=0, shrinkB=0))\n",
    "ax.annotate(text='', xy=(0.51,0.4), xytext=(0.51,0.6), \n",
    "            arrowprops=dict(arrowstyle='|-|', color='green', shrinkA=0, shrinkB=0))\n",
    "ax.annotate(text='', xy=(0.22,0.0), xytext=(0.22,0.6), \n",
    "            arrowprops=dict(arrowstyle='|-|', color='orange', shrinkA=0, shrinkB=0))\n",
    "\n",
    "ax.text(0.52, 0.2, r'$t_a$', color='blue', fontsize=14)\n",
    "ax.text(0.52, 0.5, r'$T_A$', color='green', fontsize=14)\n",
    "ax.text(0.1, 0.3, r'$H_A$', color='orange', fontsize=14)\n",
    "\n",
    "\n",
    "\n",
    "x = 0.5\n",
    "ax.plot([0.3+x,0.4+x], [0.0, 0.7], lw=4, color=\"black\")\n",
    "ax.plot([0.45+x,0.4+x], [0.4,0.7], lw=4, color=\"black\")\n",
    "\n",
    "# Defining variables of interest\n",
    "ax.annotate(text='', xy=(0.51+x,0), xytext=(0.51+x,0.4), \n",
    "            arrowprops=dict(arrowstyle='|-|', color='blue', shrinkA=0, shrinkB=0))\n",
    "ax.annotate(text='', xy=(0.51+x,0.4), xytext=(0.51+x,0.7), \n",
    "            arrowprops=dict(arrowstyle='|-|', color='green', shrinkA=0, shrinkB=0))\n",
    "ax.annotate(text='', xy=(0.22+x,0.0), xytext=(0.22+x,0.7), \n",
    "            arrowprops=dict(arrowstyle='|-|', color='orange', shrinkA=0, shrinkB=0))\n",
    "\n",
    "\n",
    "ax.text(0.52+x, 0.2, r'$t_a$', color='blue', fontsize=14)\n",
    "ax.text(0.52+x, 0.55, r'$T_B$', color='green', fontsize=14)\n",
    "ax.text(0.1+x, 0.35, r'$H_B$', color='orange', fontsize=14)\n",
    "\n",
    "# Define legend\n",
    "ax.set_xlim(0.1,1.25)\n",
    "ax.set_xticks([])\n",
    "ax.set_yticks([])\n",
    "ax.axis('off')\n",
    "plt.savefig(supp_figdir + 'two_samples_two_loci.pdf', dpi=300, bbox_inches='tight')"
   ]
  },
  {
   "cell_type": "code",
   "execution_count": 4,
   "metadata": {},
   "outputs": [
    {
     "data": {
      "image/png": "[encoded data removed]",
      "text/plain": [
       "<Figure size 216x216 with 1 Axes>"
      ]
     },
     "metadata": {},
     "output_type": "display_data"
    }
   ],
   "source": [
    "# Plotting Divergence Model\n",
    "f, ax = plt.subplots(1,1,figsize=(3,3))\n",
    "\n",
    "# Plotting the \n",
    "ax.plot([0.25,0.35], [0.0,0.6], lw=2, color='black', linestyle='--')\n",
    "ax.plot([0.3,0.4], [0.0,0.6], lw=2, color='black', linestyle='--')\n",
    "ax.plot([0.45,0.4], [0.3,0.6], lw=2, color='black', linestyle='--')\n",
    "ax.plot([0.5,0.45], [0.3,0.6], lw=2, color='black', linestyle='--')\n",
    "ax.plot([0.35,0.35], [0.6,0.8], lw=2, color='black', linestyle='--')\n",
    "ax.plot([0.45,0.45], [0.6,0.8], lw=2, color='black', linestyle='--')\n",
    "\n",
    "ax.plot([0.275,0.4], [0.0,0.75], lw=5, color=\"black\")\n",
    "ax.plot([0.475,0.4], [0.3,0.75], lw=5, color=\"black\")\n",
    "\n",
    "# # Defining variables of interest\n",
    "ax.annotate(text='', xy=(0.52,0), xytext=(0.52,0.3), \n",
    "            arrowprops=dict(arrowstyle='|-|', color='blue', shrinkA=0, shrinkB=0))\n",
    "ax.annotate(text='', xy=(0.52,0.6), xytext=(0.52,0.75), \n",
    "            arrowprops=dict(arrowstyle='|-|', color='green', shrinkA=0, shrinkB=0))\n",
    "ax.annotate(text='', xy=(0.52,0.3), xytext=(0.52,0.6), \n",
    "            arrowprops=dict(arrowstyle='|-|', color='orange', shrinkA=0, shrinkB=0))\n",
    "ax.annotate(text='', xy=(0.2,0), xytext=(0.2,0.75), \n",
    "            arrowprops=dict(arrowstyle='|-|', color='black', shrinkA=0, shrinkB=0))\n",
    "\n",
    "\n",
    "# \n",
    "# ax.axhline(y=0.3, color='blue', linestyle='--')\n",
    "# \n",
    "ax.text(0.53, 0.15, r'$t_a$', color='blue', fontsize=14)\n",
    "ax.text(0.53, 0.65, r'$T$', color='green', fontsize=14)\n",
    "ax.text(0.53, 0.45, r'$t_{div}$', color='orange', fontsize=14)\n",
    "ax.text(0.21, 0.4, r'$H$', color='black', fontsize=14)\n",
    "\n",
    "# Define legend\n",
    "ax.set_xlim(0.1,0.7)\n",
    "ax.set_xticks([])\n",
    "ax.set_yticks([])\n",
    "ax.axis('off')\n",
    "plt.savefig(supp_figdir + 'schematic_two_samples_divergence.pdf', dpi=300, bbox_inches='tight')"
   ]
  },
  {
   "cell_type": "code",
   "execution_count": null,
   "metadata": {},
   "outputs": [],
   "source": []
  }
 ],
 "metadata": {
  "kernelspec": {
   "display_name": "Python 3",
   "language": "python",
   "name": "python3"
  },
  "language_info": {
   "codemirror_mode": {
    "name": "ipython",
    "version": 3
   },
   "file_extension": ".py",
   "mimetype": "text/x-python",
   "name": "python",
   "nbconvert_exporter": "python",
   "pygments_lexer": "ipython3",
   "version": "3.7.5"
  }
 },
 "nbformat": 4,
 "nbformat_minor": 4
}
