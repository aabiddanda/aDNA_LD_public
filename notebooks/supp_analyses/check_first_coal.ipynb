{
 "cells": [
  {
   "cell_type": "code",
   "execution_count": 1,
   "metadata": {},
   "outputs": [],
   "source": [
    "# Exploring the covariance in segregating sites\n",
    "import numpy as np \n",
    "import matplotlib.pyplot as plt\n",
    "import matplotlib.gridspec as gridspec\n",
    "import pandas as pd\n",
    "from tqdm import tqdm\n",
    "\n",
    "import os\n",
    "import sys\n",
    "sys.path.append('../../src/')\n",
    "from aDNA_coal_sim import SerialConstant, SerialBottleneck\n",
    "from plot_utils import *\n",
    "\n",
    "%load_ext autoreload\n",
    "%autoreload 2\n",
    "%matplotlib inline"
   ]
  },
  {
   "cell_type": "code",
   "execution_count": 2,
   "metadata": {},
   "outputs": [],
   "source": [
    "plt.rcParams['font.sans-serif'] = \"Arial\"\n",
    "plt.rcParams['figure.facecolor'] = \"w\"\n",
    "plt.rcParams['figure.autolayout'] = True\n",
    "\n",
    "main_figdir = '../../plots/supp_figs/hap_copying/'\n",
    "os.makedirs(main_figdir, exist_ok=True)"
   ]
  },
  {
   "cell_type": "code",
   "execution_count": 3,
   "metadata": {},
   "outputs": [],
   "source": [
    "# Defining functions to run simulations and extract summary stats\n",
    "def extract_time_first_coal_ancients(ts):\n",
    "    t1 = ts.first()\n",
    "    t1 = ts.first()\n",
    "    mod_samples = []\n",
    "    anc_samples = []\n",
    "    for i in ts.samples():\n",
    "        if t1.time(i) != 0:\n",
    "            anc_samples.append((i,t1.time(i)))\n",
    "        else:\n",
    "            mod_samples.append(i)\n",
    "    anc_samples_ext_bl = []\n",
    "    for x in anc_samples:\n",
    "        min_tmrca = np.min([t1.tmrca(x[0], j) for j in mod_samples])\n",
    "        ext_bl = (min_tmrca - x[1])\n",
    "        anc_samples_ext_bl.append([x[1], ext_bl])\n",
    "    anc_samples_ext_bl = np.vstack(anc_samples_ext_bl)\n",
    "    return(anc_samples_ext_bl)\n",
    "\n",
    "def group_df_test(np_sims):\n",
    "    test_df = pd.DataFrame(np_sims)\n",
    "    test_df.columns = ['t_a', 't_star']\n",
    "    group_df = test_df.groupby('t_a', as_index=False).agg({'t_star': ['mean', 'sem']})\n",
    "    return(group_df)\n"
   ]
  },
  {
   "cell_type": "code",
   "execution_count": 4,
   "metadata": {},
   "outputs": [],
   "source": [
    "# Parameter Settings\n",
    "K=50\n",
    "t_a_max = 400\n",
    "interval = 20\n",
    "n_a = 1\n",
    "t_anc = np.arange(interval, t_a_max+1, interval).tolist()\n",
    "n_anc = np.repeat(n_a, len(t_anc)).tolist()\n",
    "\n",
    "# Constant population size simulations\n",
    "const_sim  = SerialConstant(Ne=1e4, mod_n=K, t_anc=t_anc, n_anc=n_anc)\n",
    "\n",
    "\n",
    "# Bottleneck simulations \n",
    "bott_sim = SerialBottleneck(Ne=1e6, mod_n=K, t_anc=t_anc, n_anc=n_anc, \n",
    "                            bottle_start=400, bottle_duration=int(5e5), bottle_mag=0.01)\n"
   ]
  },
  {
   "cell_type": "markdown",
   "metadata": {},
   "source": [
    "# Collecting $T^*$ estimates from simulations"
   ]
  },
  {
   "cell_type": "code",
   "execution_count": 5,
   "metadata": {},
   "outputs": [
    {
     "name": "stderr",
     "output_type": "stream",
     "text": [
      "5000it [00:09, 501.92it/s]\n",
      "5000it [00:10, 462.89it/s]\n"
     ]
    }
   ],
   "source": [
    "ts_reps_constant = const_sim._simulate(num_replicates=5000, random_seed=42)\n",
    "ts_reps_bottleneck = bott_sim._simulate(num_replicates=5000, random_seed=24)\n",
    "\n",
    "t_first_coal_const = np.vstack([extract_time_first_coal_ancients(t) for t in tqdm(ts_reps_constant)])\n",
    "t_first_coal_bottleneck = np.vstack([extract_time_first_coal_ancients(t) for t in tqdm(ts_reps_bottleneck)])\n",
    "\n",
    "# Converting to a dataframe with means\n",
    "test_serial_const_df = group_df_test(t_first_coal_const)\n",
    "test_serial_bott_df = group_df_test(t_first_coal_bottleneck)"
   ]
  },
  {
   "cell_type": "code",
   "execution_count": 6,
   "metadata": {},
   "outputs": [
    {
     "data": {
      "image/png": "[encoded data removed]",
      "text/plain": [
       "<Figure size 432x288 with 4 Axes>"
      ]
     },
     "metadata": {},
     "output_type": "display_data"
    }
   ],
   "source": [
    "fig, ax = plt.subplots(2,2,figsize=(6,4), sharex='row', sharey='row')\n",
    "\n",
    "tas = np.arange(0, 1.0, 0.1)\n",
    "#Plot 1: not conditional on the TMRCA\n",
    "i = 0\n",
    "for t in tas:\n",
    "    ax[0,0].plot([t,t+np.exp(-5e-1/(t+1e-6))], [i,i], color='blue')\n",
    "    i += 0.5\n",
    "\n",
    "#Plot 2: conditional on TMRCA of system\n",
    "ax[0,1].axvline(x=1.0, linestyle='--', color='black', lw=2)\n",
    "i = 0\n",
    "for t in tas:\n",
    "    ax[0,1].plot([t,1.0], [i,i], color='blue')\n",
    "    i += 0.5\n",
    "# ax[0,0].set_xlim(0,1.1)\n",
    "    \n",
    "debox(ax[0,0]); debox(ax[0,1])\n",
    "ax[0,0].set_yticks([]); ax[0,1].set_yticks([]);\n",
    "ax[0,0].set_xticks([]); ax[0,1].set_xticks([]);\n",
    "\n",
    "ax[0,0].set_title(r'No conditioning', fontsize=14)\n",
    "ax[0,1].set_title(r'Conditioning on $T_{MRCA}$', fontsize=14)\n",
    "\n",
    "# Actual Simulation Results\n",
    "ax[1,0].errorbar(test_serial_const_df['t_a'].values, \n",
    "               test_serial_const_df['t_star']['mean'].values,\n",
    "               yerr=2*test_serial_const_df['t_star']['sem'].values, \n",
    "                 marker='o', markersize=2, linestyle='none', capsize=2, color='blue')\n",
    "\n",
    "ax[1,1].errorbar(test_serial_bott_df['t_a'].values,\n",
    "               test_serial_bott_df['t_star']['mean'].values,\n",
    "               yerr=2*test_serial_const_df['t_star']['sem'].values, \n",
    "                 marker='o', markersize=2, linestyle='none', capsize=2, color='blue')\n",
    "\n",
    "\n",
    "ax[1,0].set_title(r'Constant', fontsize=14)\n",
    "ax[1,1].set_title(r'Instant growth', fontsize=14)\n",
    "debox(ax[1,0]); debox(ax[1,1]);\n",
    "ax[1,0].set_ylabel(r'$\\hat{T}^*$ (generations)', fontsize=14)\n",
    "fig.text(x=0.375, y=-0.025, s='Sample age (generations)', fontsize=14)\n",
    "\n",
    "\n",
    "label_multipanel(ax[0,:], ['A','B'], yoff=1.2, \n",
    "                 fontsize=14, fontweight='bold', va='top', ha='right')\n",
    "\n",
    "plt.tight_layout()\n",
    "plt.savefig(main_figdir + 't_star_coal.pdf', dpi=300, bbox_inches='tight')"
   ]
  }
 ],
 "metadata": {
  "kernelspec": {
   "display_name": "Python 3",
   "language": "python",
   "name": "python3"
  },
  "language_info": {
   "codemirror_mode": {
    "name": "ipython",
    "version": 3
   },
   "file_extension": ".py",
   "mimetype": "text/x-python",
   "name": "python",
   "nbconvert_exporter": "python",
   "pygments_lexer": "ipython3",
   "version": "3.7.0"
  }
 },
 "nbformat": 4,
 "nbformat_minor": 4
}
