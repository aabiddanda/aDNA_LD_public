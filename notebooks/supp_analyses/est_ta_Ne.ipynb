{
 "cells": [
  {
   "cell_type": "markdown",
   "metadata": {},
   "source": [
    "## An attempt to estimate Ne and sampling time from the correlation in segregting sites "
   ]
  },
  {
   "cell_type": "code",
   "execution_count": 1,
   "metadata": {},
   "outputs": [],
   "source": [
    "# Testing the performance of Monte-Carlo Estimators \n",
    "import numpy as np \n",
    "import matplotlib.pyplot as plt\n",
    "import pandas as pd\n",
    "import warnings\n",
    "warnings.filterwarnings('ignore')\n",
    "\n",
    "import sys\n",
    "sys.path.append('../../src/')\n",
    "from plot_utils import *\n",
    "\n",
    "%matplotlib inline"
   ]
  },
  {
   "cell_type": "code",
   "execution_count": 2,
   "metadata": {},
   "outputs": [],
   "source": [
    "plt.rcParams['font.sans-serif'] = \"Arial\"\n",
    "plt.rcParams['figure.facecolor'] = \"w\"\n",
    "plt.rcParams['figure.autolayout'] = True\n",
    "from mpl_toolkits.axes_grid1 import make_axes_locatable\n",
    "\n",
    "import os\n",
    "\n",
    "# Making the relevant figure directories that we want\n",
    "main_figdir = '../../plots/two_locus_stats/corrSASB_sims/'\n",
    "supp_figdir = '../../plots/supp_figs/two_locus_stats/corrSASB_sims/'\n",
    "os.makedirs(main_figdir, exist_ok=True)\n",
    "os.makedirs(supp_figdir, exist_ok=True)"
   ]
  },
  {
   "cell_type": "code",
   "execution_count": 3,
   "metadata": {},
   "outputs": [
    {
     "data": {
      "text/html": [
       "<div>\n",
       "<style scoped>\n",
       "    .dataframe tbody tr th:only-of-type {\n",
       "        vertical-align: middle;\n",
       "    }\n",
       "\n",
       "    .dataframe tbody tr th {\n",
       "        vertical-align: top;\n",
       "    }\n",
       "\n",
       "    .dataframe thead th {\n",
       "        text-align: right;\n",
       "    }\n",
       "</style>\n",
       "<table border=\"1\" class=\"dataframe\">\n",
       "  <thead>\n",
       "    <tr style=\"text-align: right;\">\n",
       "      <th></th>\n",
       "      <th>scenario</th>\n",
       "      <th>ta</th>\n",
       "      <th>ta_est</th>\n",
       "      <th>se_ta_est</th>\n",
       "      <th>Ne_est</th>\n",
       "      <th>se_Ne_est</th>\n",
       "    </tr>\n",
       "  </thead>\n",
       "  <tbody>\n",
       "    <tr>\n",
       "      <th>0</th>\n",
       "      <td>SerialConstant</td>\n",
       "      <td>0</td>\n",
       "      <td>3.031356e+02</td>\n",
       "      <td>1.979427e+01</td>\n",
       "      <td>8090.367136</td>\n",
       "      <td>19.383743</td>\n",
       "    </tr>\n",
       "    <tr>\n",
       "      <th>1</th>\n",
       "      <td>TennessenEuropean</td>\n",
       "      <td>0</td>\n",
       "      <td>4.479192e-21</td>\n",
       "      <td>4.329505e-21</td>\n",
       "      <td>7124.033212</td>\n",
       "      <td>11.558165</td>\n",
       "    </tr>\n",
       "    <tr>\n",
       "      <th>2</th>\n",
       "      <td>SerialConstant</td>\n",
       "      <td>100</td>\n",
       "      <td>3.760312e+02</td>\n",
       "      <td>1.470392e+01</td>\n",
       "      <td>8342.151167</td>\n",
       "      <td>21.402484</td>\n",
       "    </tr>\n",
       "    <tr>\n",
       "      <th>3</th>\n",
       "      <td>TennessenEuropean</td>\n",
       "      <td>100</td>\n",
       "      <td>1.916471e-20</td>\n",
       "      <td>4.049841e-21</td>\n",
       "      <td>6860.790907</td>\n",
       "      <td>7.295584</td>\n",
       "    </tr>\n",
       "    <tr>\n",
       "      <th>4</th>\n",
       "      <td>SerialConstant</td>\n",
       "      <td>1000</td>\n",
       "      <td>2.470833e+03</td>\n",
       "      <td>2.245912e+01</td>\n",
       "      <td>8035.558406</td>\n",
       "      <td>22.776082</td>\n",
       "    </tr>\n",
       "  </tbody>\n",
       "</table>\n",
       "</div>"
      ],
      "text/plain": [
       "            scenario    ta        ta_est     se_ta_est       Ne_est  se_Ne_est\n",
       "0     SerialConstant     0  3.031356e+02  1.979427e+01  8090.367136  19.383743\n",
       "1  TennessenEuropean     0  4.479192e-21  4.329505e-21  7124.033212  11.558165\n",
       "2     SerialConstant   100  3.760312e+02  1.470392e+01  8342.151167  21.402484\n",
       "3  TennessenEuropean   100  1.916471e-20  4.049841e-21  6860.790907   7.295584\n",
       "4     SerialConstant  1000  2.470833e+03  2.245912e+01  8035.558406  22.776082"
      ]
     },
     "execution_count": 3,
     "metadata": {},
     "output_type": "execute_result"
    }
   ],
   "source": [
    "fname = '../../results/corr_seg_sites/est_ta_Ne_corr_sa_sb.csv'\n",
    "df = pd.read_csv(fname)\n",
    "df.head()"
   ]
  },
  {
   "cell_type": "code",
   "execution_count": 4,
   "metadata": {},
   "outputs": [
    {
     "data": {
      "image/png": "[encoded data removed]",
      "text/plain": [
       "<Figure size 360x288 with 4 Axes>"
      ]
     },
     "metadata": {},
     "output_type": "display_data"
    }
   ],
   "source": [
    "fig, ax = plt.subplots(2,2, figsize=(5,4), sharex=True, sharey='row')\n",
    "\n",
    "constant_df = df[df['scenario'] == 'SerialConstant']\n",
    "ax[0,0].errorbar(constant_df.ta.values, constant_df.ta_est.values, \n",
    "                 yerr=2*constant_df.se_ta_est, capsize=2, lw=2, linestyle='none', color='blue', zorder=5)\n",
    "\n",
    "ax[0,0].scatter(constant_df.ta.values, constant_df.ta.values, color='red', s=20, marker='+', zorder=1)\n",
    "\n",
    "# Plot estimates of Ne\n",
    "ax[1,0].errorbar(constant_df.ta.values, constant_df.Ne_est.values, \n",
    "                 yerr=2*constant_df.se_Ne_est, capsize=2, lw=2, linestyle='none', color='blue')\n",
    "\n",
    "growth_df = df[df['scenario'] == 'TennessenEuropean']\n",
    "ax[0,1].errorbar(growth_df.ta.values, growth_df.ta_est.values, \n",
    "                 yerr=2*growth_df.se_ta_est, capsize=2, lw=2, linestyle='none', color='blue', zorder=5)\n",
    "ax[0,1].scatter(growth_df.ta.values, growth_df.ta.values, color='red', marker='+', zorder=1)\n",
    "\n",
    "# Plot estimates of Ne\n",
    "ax[1,1].errorbar(growth_df.ta.values, growth_df.Ne_est.values, \n",
    "                 yerr=2*growth_df.se_Ne_est, capsize=2, lw=2, linestyle='none', color='blue')\n",
    "\n",
    "ax[1,0].axhline(1e4, linestyle='--', color='orange')\n",
    "ax[1,1].axhline(6958., linestyle='--', color='orange')\n",
    "ax[0,0].set_xlim(-1,1e5)\n",
    "\n",
    "ax[0,0].set_title(r'Constant $N_e$', fontsize=14)\n",
    "ax[0,1].set_title(r'European Growth', fontsize=14)\n",
    "ax[0,0].set_ylabel(r'$\\hat{t}_a$', fontsize=14)\n",
    "ax[1,0].set_ylabel(r'$\\hat{N}_e$', fontsize=14)\n",
    "\n",
    "ax[0,0].set_xscale('symlog')\n",
    "\n",
    "for i, label in enumerate(('A', 'B')):\n",
    "    ax[0,i].text(-0.05, 1.18, label, fontsize=14, \n",
    "               fontweight='bold', va='top', ha='right', transform=ax[0,i].transAxes);\n",
    "\n",
    "debox(ax[0,0]); debox(ax[0,1]);\n",
    "debox(ax[1,0]); debox(ax[1,1]);\n",
    "\n",
    "fig.text(0.6, -0.01, r'$t_a$', fontsize=14, ha='center')\n",
    "plt.tight_layout()\n",
    "plt.savefig(supp_figdir + 'lstsq_constant_growth.pdf', bbox_inches='tight', dpi=300)"
   ]
  }
 ],
 "metadata": {
  "kernelspec": {
   "display_name": "Python 3",
   "language": "python",
   "name": "python3"
  },
  "language_info": {
   "codemirror_mode": {
    "name": "ipython",
    "version": 3
   },
   "file_extension": ".py",
   "mimetype": "text/x-python",
   "name": "python",
   "nbconvert_exporter": "python",
   "pygments_lexer": "ipython3",
   "version": "3.7.0"
  }
 },
 "nbformat": 4,
 "nbformat_minor": 4
}
