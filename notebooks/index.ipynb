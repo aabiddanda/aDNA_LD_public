{
 "cells": [
  {
   "cell_type": "markdown",
   "metadata": {},
   "source": [
    "# Table of Contents for analyses in \"Properties of Two-Locus Genealogies and Linkage Disequilibrium in Temporally Structured Samples\"\n",
    "## by Biddanda, Steinrücken, and Novembre\n",
    "\n",
    "1. Main Analyses\n",
    "    * [Probability of uncoupling & correlation of pairwise differences](./main_analyses/two_locus_adna.html)\n",
    "    * [Correlation in pairwise differences with time-stratified sampling](./main_analyses/two_locus_demographic.html)\n",
    "    * [Correlation in pairwise differences in ancient WGS data](./main_analyses/corr_piA_piB_real_data.html)\n",
    "    * [Calculation of joint-LD with time-stratified sampling](./main_analyses/joint_LDstats.html)\n",
    "    * [Haplotype copying jump-rates under varying demographies](./main_analyses/demography_copying_rate.html)\n",
    "    * [Haplotype copying jump-rates estimated in 1240K ancient DNA data](./main_analyses/reich_1240k_analysis.html)\n",
    "    \n",
    "2. Supplementary Analyses\n",
    "    * [The impact of population divergence on two-locus variation patterns](./supp_analyses/two_locus_adna_divergence.html)\n",
    "    * [Time to first coalescence for an ancient sample with a member of the modern panel](./supp_analyses/time_to_first_coal_anc_sample.html)\n",
    "    * [Verifying Li-Stephens Jump Rate MLE inference](./supp_analyses/ls_verify.html)\n",
    "    * [Estimating $t_a$ and $N_e$ from $Corr(\\pi_A,\\pi_B)$](./supp_analyses/est_ta_Ne.html)\n",
    "    * [Time to first coalescent for ancient sample with instant growth](./supp_analyses/time_to_first_coal_anc_sample.html)\n",
    "    * [The impact of growth and bottleneck strength on the correlation in branch length](./main_analyses/gen_corrbl_tables.html)\n",
    "    * [Schematic plots](./supp_analyses/schematic_figures.html)\n",
    "    * [Validating Two-Locus Equations via Two-Locus Simulations](./supp_analyses/validate_equations.html)\n",
    "    "
   ]
  }
 ],
 "metadata": {
  "kernelspec": {
   "display_name": "Python 3",
   "language": "python",
   "name": "python3"
  },
  "language_info": {
   "codemirror_mode": {
    "name": "ipython",
    "version": 3
   },
   "file_extension": ".py",
   "mimetype": "text/x-python",
   "name": "python",
   "nbconvert_exporter": "python",
   "pygments_lexer": "ipython3",
   "version": "3.7.5"
  }
 },
 "nbformat": 4,
 "nbformat_minor": 4
}
