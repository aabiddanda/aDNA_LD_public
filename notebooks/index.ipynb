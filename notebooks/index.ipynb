{
 "cells": [
  {
   "cell_type": "markdown",
   "metadata": {},
   "source": [
    "# Table of Contents for analyses in \"Properties of Two-Locus Genealogies and Linkage Disequilibrium in Temporally Structured Samples\"\n",
    "## by Biddanda, Steinruecken, and Novembre\n",
    "\n",
    "1. Main Analyses\n",
    "    * [Probability of uncoupling & correlation of pairwise differences](./main_analyses/two_locus_adna.html)\n",
    "    * [Calculation of $\\sigma^2_d$ with time-stratified sampling](./main_analyses/sigma2d_time_strat.html)\n",
    "    \n",
    "2. Supplementary Analyses\n",
    "    * [Time to first coalescence for an ancient sample](./supp_analyses/time_to_first_coal_anc_sample.html)\n",
    "    * [Verifying Li-Stephens Jump Rate Inference](./supp_analyses/ls_verify.html)"
   ]
  }
 ],
 "metadata": {
  "kernelspec": {
   "display_name": "Python 3",
   "language": "python",
   "name": "python3"
  },
  "language_info": {
   "codemirror_mode": {
    "name": "ipython",
    "version": 3
   },
   "file_extension": ".py",
   "mimetype": "text/x-python",
   "name": "python",
   "nbconvert_exporter": "python",
   "pygments_lexer": "ipython3",
   "version": "3.7.0"
  }
 },
 "nbformat": 4,
 "nbformat_minor": 4
}
