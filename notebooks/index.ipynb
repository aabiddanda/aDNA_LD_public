{
 "metadata": {
  "language_info": {
   "codemirror_mode": {
    "name": "ipython",
    "version": 3
   },
   "file_extension": ".py",
   "mimetype": "text/x-python",
   "name": "python",
   "nbconvert_exporter": "python",
   "pygments_lexer": "ipython3",
   "version": 3
  },
  "orig_nbformat": 2
 },
 "nbformat": 4,
 "nbformat_minor": 2,
 "cells": [
  {
   "source": [
    "#\n",
    "## "
   ],
   "cell_type": "markdown",
   "metadata": {}
  },
  {
   "source": [
    "# Table of Contents for Biddanda,Steinruecken and Novembre (2021)\n",
    "\n",
    "1. Main Analyses\n",
    "2. Supplementary Analyses\n",
    "    * [Time to first coalescence for an ancient sample](./supp_analyses/time_to_first_coal_anc_sample.html)"
   ],
   "cell_type": "markdown",
   "metadata": {}
  }
 ]
}
