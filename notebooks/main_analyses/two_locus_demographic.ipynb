{
 "cells": [
  {
   "cell_type": "markdown",
   "metadata": {},
   "source": [
    "# Theory & Applications for the correlation in pairwise differences\n",
    "\n",
    "This notebook shows the recreation of plots showing the theoretical impact of time-stratified sampling "
   ]
  },
  {
   "cell_type": "code",
   "execution_count": 1,
   "metadata": {
    "execution": {
     "iopub.execute_input": "2021-06-16T17:37:45.177143Z",
     "iopub.status.busy": "2021-06-16T17:37:45.175090Z",
     "iopub.status.idle": "2021-06-16T17:37:46.889796Z",
     "shell.execute_reply": "2021-06-16T17:37:46.890601Z"
    }
   },
   "outputs": [],
   "source": [
    "import numpy as np \n",
    "import matplotlib.pyplot as plt\n",
    "from tqdm import tqdm\n",
    "from scipy.stats import pearsonr\n",
    "from scipy.stats import linregress\n",
    "import pandas as pd\n",
    "\n",
    "import sys\n",
    "sys.path.append('../../src/')\n",
    "from coal_cov import *\n",
    "from seg_sites_covar import CorrSegSites\n",
    "from draw_demography import *\n",
    "from plot_utils import *\n",
    "\n",
    "%matplotlib inline\n",
    "%load_ext autoreload\n",
    "%autoreload 2"
   ]
  },
  {
   "cell_type": "code",
   "execution_count": 2,
   "metadata": {
    "execution": {
     "iopub.execute_input": "2021-06-16T17:37:46.897823Z",
     "iopub.status.busy": "2021-06-16T17:37:46.896882Z",
     "iopub.status.idle": "2021-06-16T17:37:46.922754Z",
     "shell.execute_reply": "2021-06-16T17:37:46.923361Z"
    }
   },
   "outputs": [],
   "source": [
    "plt.rcParams['font.sans-serif'] = \"Arial\"\n",
    "plt.rcParams['figure.facecolor'] = \"w\"\n",
    "plt.rcParams['figure.autolayout'] = True\n",
    "plt.rcParams['pdf.fonttype'] = 3\n",
    "from mpl_toolkits.axes_grid1 import make_axes_locatable\n",
    "\n",
    "import os\n",
    "main_figdir = '../../plots/two_locus_stats/'\n",
    "supp_figdir = '../../plots/supp_figs/two_locus_stats/'\n",
    "os.makedirs(main_figdir, exist_ok=True)\n",
    "os.makedirs(supp_figdir, exist_ok=True)"
   ]
  },
  {
   "cell_type": "code",
   "execution_count": 3,
   "metadata": {
    "execution": {
     "iopub.execute_input": "2021-06-16T17:37:46.930533Z",
     "iopub.status.busy": "2021-06-16T17:37:46.929893Z",
     "iopub.status.idle": "2021-06-16T17:37:46.953092Z",
     "shell.execute_reply": "2021-06-16T17:37:46.953665Z"
    }
   },
   "outputs": [],
   "source": [
    "def estNe(t2s):\n",
    "    \"\"\"Given modern estimate of t2s calculate Ne.\"\"\"\n",
    "    return(np.mean(t2s)/2./2.)\n",
    "\n",
    "def plot_bot_demo(ax, N0=1e4, T_bot=100, b=0.1, **kwargs):\n",
    "    \"\"\"Plot bottleneck demography.\"\"\"\n",
    "    xs = np.arange(0, int(10*T_bot))\n",
    "    ns = np.repeat(N0, xs.size)\n",
    "    ns[T_bot:] = N0*b\n",
    "    ax.plot(xs,ns, **kwargs)\n",
    "    \n",
    "def corr_bl_2_corr_pi_kb(ta, corr_bl, theta=0.4, Ne=1e4):\n",
    "    \"\"\"Compute the correlation in pairwise diversity using the correlation in branch length.\"\"\"\n",
    "    coeff = 1. / (1. + (2 + (ta /2./Ne)/theta))\n",
    "    corr_pi = coeff * corr_bl\n",
    "    return(corr_pi, coeff)\n",
    "\n",
    "def linear_appx_exp_slope(rho=1e-4):\n",
    "    \"\"\"Compute the expected slope \"\"\"\n",
    "    return(-rho/2. * (rho + 12.)/(rho**2 + 13*rho + 18.))\n",
    "    \n",
    "def intercept_appx(rho):\n",
    "    \"\"\"Approximatethe intecept in the constant sized case \"\"\"\n",
    "    return((rho + 18.)/(rho**2 + 13.*rho+ 18.))\n"
   ]
  },
  {
   "cell_type": "code",
   "execution_count": 4,
   "metadata": {
    "execution": {
     "iopub.execute_input": "2021-06-16T17:37:46.961818Z",
     "iopub.status.busy": "2021-06-16T17:37:46.961174Z",
     "iopub.status.idle": "2021-06-16T17:37:48.701854Z",
     "shell.execute_reply": "2021-06-16T17:37:48.702435Z"
    }
   },
   "outputs": [
    {
     "name": "stderr",
     "output_type": "stream",
     "text": [
      "100%|████████████████████████████████████████████████████████████████████████████████| 3/3 [00:00<00:00, 97.55it/s]\n"
     ]
    },
    {
     "data": {
      "image/png": "[encoded data removed]",
      "text/plain": [
       "<Figure size 360x216 with 1 Axes>"
      ]
     },
     "metadata": {},
     "output_type": "display_data"
    }
   ],
   "source": [
    "# Plotting just the first two plots\n",
    "fig, axs = plt.subplots(1,1, figsize=(5,3), tight_layout=True)\n",
    "\n",
    "# Plot Empirical Simulations  + overlayed theory \n",
    "colors = {0.0: 'green', 0.1:'blue', 1.0 : 'orange'}\n",
    "tas = [0.0, 0.10,1.0]\n",
    "\n",
    "#Paired correlation estimates\n",
    "corr_s1_s2_df = pd.read_csv('../../results/two_loci/theory_mut_corr.csv')\n",
    "for t in tqdm(tas):\n",
    "    df = corr_s1_s2_df[(corr_s1_s2_df.ta == t) & (corr_s1_s2_df.nreps == 5000)] \n",
    "    rec_rate_mean = df.rec_rate\n",
    "    corr_s1_s2 = df.corr_piApiB\n",
    "    se_r = df.se_corr_piApiB\n",
    "    axs.errorbar(rec_rate_mean/2, corr_s1_s2, yerr=2*se_r, \n",
    "                capsize=2, ls='none', alpha=0.25, color=colors[t])\n",
    "    \n",
    "    axs.plot(np.sort(rec_rate_mean)/2, TwoLocusTheoryConstant._corrSASB(4*np.sort(rec_rate_mean), ta=t/2, theta=4*0.4), \n",
    "            zorder=10, color=colors[t], lw=1, label=r'$t_a = %d$' % int(t*1e4))\n",
    "axs.legend(fontsize=10, labelspacing=-0.0)\n",
    "axs.set_xscale('log')\n",
    "axs.set_xlabel(r'$\\rho$', fontsize=14)    \n",
    "axs.legend(fontsize=8, labelspacing=-0.0)\n",
    "axs.set_ylabel(r'$Corr(\\pi_A, \\pi_B)$', fontsize=14)\n",
    "debox(axs);\n",
    "\n",
    "# axs.set_xlim(1e-5,1e-1)  \n",
    "plt.tight_layout()\n",
    "plt.savefig(main_figdir + 'corr_seg_sites_theory_sims_fixed.pdf', dpi=300, bbox_inches='tight')"
   ]
  },
  {
   "cell_type": "markdown",
   "metadata": {},
   "source": [
    "## The effect of demography on the correlation in branch length"
   ]
  },
  {
   "cell_type": "code",
   "execution_count": 5,
   "metadata": {
    "execution": {
     "iopub.execute_input": "2021-06-16T17:37:48.722396Z",
     "iopub.status.busy": "2021-06-16T17:37:48.721452Z",
     "iopub.status.idle": "2021-06-16T17:37:50.175578Z",
     "shell.execute_reply": "2021-06-16T17:37:50.176179Z"
    }
   },
   "outputs": [
    {
     "name": "stderr",
     "output_type": "stream",
     "text": [
      "100%|███████████████████████████████████████████████████████████████████████████████| 3/3 [00:00<00:00, 112.25it/s]\n",
      "100%|███████████████████████████████████████████████████████████████████████████████| 3/3 [00:00<00:00, 155.89it/s]\n"
     ]
    },
    {
     "name": "stdout",
     "output_type": "stream",
     "text": [
      "Ne (Constant-Size): 5069.94\n",
      "Ne (Constant-Size): 10054.84\n",
      "Ne (Constant-Size): 20080.01\n",
      "Ne (Tennessen Model) : 6922.91\n",
      "Ne (Browning Model): 2670.19\n",
      "Ne (Instant Growth 7): 168.13\n",
      "Ne (Instant Growth 8): 183.60\n",
      "Ne (Instant Growth 9): 243.28\n"
     ]
    },
    {
     "data": {
      "image/png": "[encoded data removed]",
      "text/plain": [
       "<Figure size 504x216 with 6 Axes>"
      ]
     },
     "metadata": {},
     "output_type": "display_data"
    }
   ],
   "source": [
    "## ------ Figure of correlation in branch length in various demographies  ------- ##\n",
    "fig, axs = plt.subplots(2,3, figsize=(7, 3), sharex='col')\n",
    "\n",
    "# Part 1: Constant population size\n",
    "ax3 = axs[0,0]; debox(ax3)\n",
    "ax4 = axs[1,0]; debox(ax4)\n",
    "\n",
    "# Loading in the metadata for correlation in branch length\n",
    "corr_bl_df = pd.read_csv('../../results/two_loci/multi_scenario_branch_len.csv')\n",
    "corr_bl_df = corr_bl_df.dropna()\n",
    "\n",
    "# compute the asymptotic standard errors (Note - these are similar to bootstrapped values) \n",
    "corr_bl_df['se_r'] = np.sqrt((1. - corr_bl_df.corr_bl.values ** 2) / (corr_bl_df.Nreps.values - 2.))\n",
    "\n",
    "# Plotting constant tests\n",
    "Ns = [5000,10000,20000]\n",
    "colors = ['blue','orange', 'green']\n",
    "mu = 1e-8\n",
    "# This is what we have simulated ... \n",
    "tas = np.arange(0,501,50)\n",
    "i = 0\n",
    "for n in tqdm(Ns):\n",
    "    cur_df = corr_bl_df[(corr_bl_df.Ne == n) & (corr_bl_df.scenario == 'SerialConstant')]\n",
    "    # use the pairwise times to approximate Ne\n",
    "    mean_et2 = np.mean(cur_df.exp_bl)\n",
    "    Ne_hat = mean_et2/2./2.\n",
    "    print(\"Ne (Constant-Size): %0.2f\" % Ne_hat)\n",
    "    \n",
    "    ax3.plot(tas, np.repeat(n,tas.size), lw=3, color=colors[i])\n",
    "    # Note - this is a fixed theta here ... \n",
    "    theta = 4 * cur_df.Ne.values[0] * 1e3 * 1e-8\n",
    "    rho = 2*Ne_hat*1e-4\n",
    "    corr_pi, coeff = corr_bl_2_corr_pi_kb(cur_df.ta, theta=theta, corr_bl=cur_df.corr_bl)\n",
    "    ax4.errorbar(cur_df.ta, cur_df.corr_bl, yerr=2*cur_df.se_r, capsize=2, color=colors[i])\n",
    "    i += 1\n",
    "\n",
    "\n",
    "ax5 = axs[0,1]; debox(ax5)\n",
    "# Plot both demographies\n",
    "demo_model1_file = {'Tennessen (2012)': '../../data/demo_models/tennessen_european.txt', \n",
    "                    'IBDNe UK10K (2015)': '../../data/demo_models/uk10k.IBDNe.txt'}\n",
    "i = 0\n",
    "for x in demo_model1_file:\n",
    "    _,demo = read_demography(demo_model1_file[x])\n",
    "    t,nt = generate_demography(demo)\n",
    "    ax5.plot(t,nt,lw=3,label=x, color=colors[i])\n",
    "    i += 1\n",
    "ax5.set_yscale('log')\n",
    "ax5.set_ylim(1e1,1e7)\n",
    "ax5.set_xlim(0, 500)\n",
    "ax5.legend(fontsize=8, labelspacing=-0.0)\n",
    "\n",
    "ax6 = axs[1,1]; debox(ax6)\n",
    "\n",
    "# Plot the Tennessen et al model...\n",
    "i = 0\n",
    "cur_df = corr_bl_df[corr_bl_df.scenario == 'Tennessen']\n",
    "mean_et2 = np.mean(cur_df.exp_bl)\n",
    "Ne_hat = mean_et2/2./2.\n",
    "print('Ne (Tennessen Model) : %0.2f' % Ne_hat)\n",
    "theta = 4 * Ne_hat * 1e3 * 1e-8\n",
    "corr_pi, coeff = corr_bl_2_corr_pi_kb(cur_df.ta, theta=theta, corr_bl=cur_df.corr_bl, Ne=Ne_hat)\n",
    "ax6.errorbar(cur_df.ta, cur_df.corr_bl, yerr=2*cur_df.se_r, capsize=2, color=colors[i])\n",
    "\n",
    "\n",
    "# Plot the UK10K results\n",
    "i = 1\n",
    "cur_df = corr_bl_df[corr_bl_df.scenario == 'IBDNeUK10K']\n",
    "mean_et2 = np.mean(cur_df.exp_bl)\n",
    "Ne_hat = mean_et2/2./2.\n",
    "print('Ne (Browning Model): %0.2f' % Ne_hat)\n",
    "theta = 4 * Ne_hat * 1e3 * 1e-8\n",
    "corr_pi, coeff = corr_bl_2_corr_pi_kb(cur_df.ta, theta=theta, corr_bl=cur_df.corr_bl, Ne=Ne_hat)\n",
    "ax6.errorbar(cur_df.ta, cur_df.corr_bl, yerr=2*cur_df.se_r, capsize=2, color=colors[i])\n",
    "\n",
    "\n",
    "ax7 = axs[0,2]; debox(ax7)\n",
    "tbot = [100,200,400]\n",
    "i = 0\n",
    "for tb in tbot:\n",
    "    plot_bot_demo(ax7, N0=1e6, T_bot=tb, b=0.0001, lw=2, color=colors[i])\n",
    "    i += 1\n",
    "\n",
    "ax7.set_yscale('log')\n",
    "ax7.set_ylim(1e1,1e7)\n",
    "ax7.set_xlim(0,500)\n",
    "    \n",
    "ax8 = axs[1,2]; debox(ax8)\n",
    "i = 0 \n",
    "for x in tqdm([7,8,9]):\n",
    "    \n",
    "    cur_df = corr_bl_df[corr_bl_df.scenario == 'InstantGrowth%d' % x]\n",
    "    mean_et2 = np.mean(cur_df.exp_bl)\n",
    "    Ne_hat = mean_et2/2./2.\n",
    "    print(\"Ne (Instant Growth %d): %0.2f\" % (x, Ne_hat))\n",
    "    theta = 4 * Ne_hat * 1e3 * 1e-8\n",
    "    corr_pi, coeff = corr_bl_2_corr_pi_kb(cur_df.ta, theta=theta, corr_bl=cur_df.corr_bl, Ne=Ne_hat)\n",
    "    ax8.errorbar(cur_df.ta, cur_df.corr_bl, yerr=2*cur_df.se_r, capsize=2, color=colors[i])\n",
    "    i += 1\n",
    "\n",
    "    \n",
    "# Labeling all of the axes\n",
    "for (axi,lbl) in zip([axs[0,0], axs[0,1], axs[0,2]],['A','B','C']):\n",
    "    axi.text(-0.06, 1.25, lbl, fontsize=14, \n",
    "               fontweight='bold', va='top', ha='right', transform=axi.transAxes);\n",
    "\n",
    "\n",
    "axs[0,0].set_ylabel(r'$N_t$', fontsize=14)\n",
    "axs[1,0].set_ylabel(r'$Corr(L_A,L_B)$', fontsize=14)\n",
    "plt.tight_layout()\n",
    "\n",
    "fig.text(0.45, -0.025, r'Sample age (generations)', fontsize=14)\n",
    "plt.savefig(main_figdir + 'full_demography.corr_branch_len.pdf', dpi=300, bbox_inches='tight')"
   ]
  },
  {
   "cell_type": "code",
   "execution_count": 6,
   "metadata": {
    "execution": {
     "iopub.execute_input": "2021-06-16T17:37:50.183755Z",
     "iopub.status.busy": "2021-06-16T17:37:50.183103Z",
     "iopub.status.idle": "2021-06-16T17:37:50.218056Z",
     "shell.execute_reply": "2021-06-16T17:37:50.218676Z"
    }
   },
   "outputs": [
    {
     "name": "stdout",
     "output_type": "stream",
     "text": [
      "Ne = 5000\n",
      "Predicted Slope: -0.3721; Predicted Intercept: 0.2558\n",
      "Estimated Slope: -0.4289; Estimated Intercept: 0.2571; p-value: 0.000001\n",
      "ta * rho: 0.2000\n",
      "\n",
      "Ne = 10000\n",
      "Predicted Slope: -0.4301; Predicted Intercept: 0.1398\n",
      "Estimated Slope: -0.5194; Estimated Intercept: 0.1405; p-value: 0.000213\n",
      "ta * rho: 0.2000\n",
      "\n",
      "Ne = 20000\n",
      "Predicted Slope: -0.4647; Predicted Intercept: 0.0705\n",
      "Estimated Slope: -0.5267; Estimated Intercept: 0.0724; p-value: 0.001848\n",
      "ta * rho: 0.2000\n",
      "\n"
     ]
    }
   ],
   "source": [
    "# Checking the linear approximation for constant-size\n",
    "corr_bl_df = pd.read_csv('../../results/two_loci/multi_scenario_branch_len.csv')\n",
    "corr_bl_df = corr_bl_df.dropna()\n",
    "\n",
    "# Compute the asymptotic standard errors (Note - these are very similar to bootstrapped values) \n",
    "corr_bl_df['se_r'] = np.sqrt((1. - corr_bl_df.corr_bl.values ** 2) / (corr_bl_df.Nreps.values - 2.))\n",
    "\n",
    "# Plotting constant tests\n",
    "Ns = [5000,10000,20000]\n",
    "colors = ['blue','orange', 'green']\n",
    "mu = 1e-8\n",
    "# This is what we have simulated ... \n",
    "tas = np.arange(0,501,50)\n",
    "i = 0\n",
    "for n in Ns:\n",
    "    print(\"Ne = %d\" % n)\n",
    "    cur_df = corr_bl_df[(corr_bl_df.Ne == n) & (corr_bl_df.scenario == 'SerialConstant')]\n",
    "    # use the pairwise times to approximate Ne\n",
    "    mean_et2 = np.mean(cur_df.exp_bl)\n",
    "    Ne_hat = mean_et2/2./2.\n",
    "\n",
    "    # Note - this is a fixed theta here ...\n",
    "    rho = 4*(2*cur_df.Ne.values[0])*1e-4\n",
    "    print(\"Predicted Slope: %0.4f; Predicted Intercept: %0.4f\"% (linear_appx_exp_slope(rho), intercept_appx(rho)))\n",
    "    slope, intercept, _, pval, stderr = linregress(cur_df.ta/(2.*cur_df.Ne.values[0]), cur_df.corr_bl)\n",
    "    print(\"Estimated Slope: %0.4f; Estimated Intercept: %0.4f; p-value: %0.6f\" % (slope, intercept, pval))\n",
    "    # Verify that the product of ta*rho << 1\n",
    "    print(\"ta * rho: %0.4f\" % (np.max(cur_df.ta)/(2.*n) * rho))\n",
    "    print(\"\") # empty line for style, becuase ... "
   ]
  },
  {
   "cell_type": "code",
   "execution_count": 7,
   "metadata": {
    "execution": {
     "iopub.execute_input": "2021-06-16T17:37:50.227592Z",
     "iopub.status.busy": "2021-06-16T17:37:50.226690Z",
     "iopub.status.idle": "2021-06-16T17:37:50.266241Z",
     "shell.execute_reply": "2021-06-16T17:37:50.266855Z"
    }
   },
   "outputs": [
    {
     "name": "stdout",
     "output_type": "stream",
     "text": [
      "Ne = 5000\n",
      "Predicted Slope: -0.3721; Predicted Intercept: 0.2558\n",
      "Estimated Slope: -0.2058; Estimated Intercept: 0.0856; p-value: 0.000000\n",
      "ta * rho: 0.2000\n",
      "\n",
      "Ne = 10000\n",
      "Predicted Slope: -0.4301; Predicted Intercept: 0.1398\n",
      "Estimated Slope: -0.2078; Estimated Intercept: 0.0468; p-value: 0.000020\n",
      "ta * rho: 0.2000\n",
      "\n",
      "Ne = 20000\n",
      "Predicted Slope: -0.4647; Predicted Intercept: 0.0705\n",
      "Estimated Slope: -0.1937; Estimated Intercept: 0.0241; p-value: 0.000705\n",
      "ta * rho: 0.2000\n",
      "\n"
     ]
    }
   ],
   "source": [
    "# Checking the linear approximation for constant-size\n",
    "corr_bl_df = pd.read_csv('../../results/two_loci/multi_scenario_branch_len.csv')\n",
    "corr_bl_df = corr_bl_df.dropna()\n",
    "\n",
    "# Compute the asymptotic standard errors (Note - these are very similar to bootstrapped values) \n",
    "corr_bl_df['se_r'] = np.sqrt((1. - corr_bl_df.corr_bl.values ** 2) / (corr_bl_df.Nreps.values - 2.))\n",
    "\n",
    "# Plotting constant tests\n",
    "Ns = [5000,10000,20000]\n",
    "colors = ['blue','orange', 'green']\n",
    "mu = 1e-8\n",
    "# This is what we have simulated ... \n",
    "tas = np.arange(0,501,50)\n",
    "i = 0\n",
    "for n in Ns:\n",
    "    print(\"Ne = %d\" % n)\n",
    "    cur_df = corr_bl_df[(corr_bl_df.Ne == n) & (corr_bl_df.scenario == 'SerialConstant')]\n",
    "    # use the pairwise times to approximate Ne\n",
    "    mean_et2 = np.mean(cur_df.exp_bl)\n",
    "    Ne_hat = mean_et2/2./2.\n",
    "\n",
    "    # Note - this is a fixed theta here ...\n",
    "    rho = 4*(2*cur_df.Ne.values[0])*1e-4\n",
    "    theta = 4 * cur_df.Ne.values[0] * 1e3 * 1e-8\n",
    "    corr_pi, coeff = corr_bl_2_corr_pi_kb(cur_df.ta, theta=theta, corr_bl=cur_df.corr_bl)\n",
    "#     print(coeff)\n",
    "    print(\"Predicted Slope: %0.4f; Predicted Intercept: %0.4f\"% (linear_appx_exp_slope(rho), intercept_appx(rho)))\n",
    "    # NOTE: this doesn't make sense to compute becuase its not an approximation to the correlation in branch length \n",
    "    slope, intercept, _, pval, stderr = linregress(cur_df.ta/(2.*cur_df.Ne.values[0]), corr_pi)\n",
    "    print(\"Estimated Slope: %0.4f; Estimated Intercept: %0.4f; p-value: %0.6f\" % (slope, intercept, pval))\n",
    "    # Verify that the product of ta*rho << 1\n",
    "    print(\"ta * rho: %0.4f\" % (np.max(cur_df.ta)/(2.*n) * rho))\n",
    "    print(\"\")"
   ]
  },
  {
   "cell_type": "markdown",
   "metadata": {},
   "source": [
    "## The effect of demography on the correlation in pairwise differences"
   ]
  },
  {
   "cell_type": "code",
   "execution_count": 8,
   "metadata": {
    "execution": {
     "iopub.execute_input": "2021-06-16T17:37:50.288393Z",
     "iopub.status.busy": "2021-06-16T17:37:50.287565Z",
     "iopub.status.idle": "2021-06-16T17:37:51.773376Z",
     "shell.execute_reply": "2021-06-16T17:37:51.773972Z"
    }
   },
   "outputs": [
    {
     "name": "stderr",
     "output_type": "stream",
     "text": [
      "100%|███████████████████████████████████████████████████████████████████████████████| 3/3 [00:00<00:00, 110.44it/s]"
     ]
    },
    {
     "name": "stdout",
     "output_type": "stream",
     "text": [
      "Ne = 5000 Constant Model\n",
      "Estimated Slope: -0.2058; Estimated Intercept: 0.0856; p-value: 0.000000\n",
      "Ne = 10000 Constant Model\n",
      "Estimated Slope: -0.2078; Estimated Intercept: 0.0468; p-value: 0.000020\n",
      "Ne = 20000 Constant Model\n",
      "Estimated Slope: -0.1937; Estimated Intercept: 0.0241; p-value: 0.000705\n"
     ]
    },
    {
     "name": "stderr",
     "output_type": "stream",
     "text": [
      "\n",
      "100%|███████████████████████████████████████████████████████████████████████████████| 3/3 [00:00<00:00, 135.92it/s]\n"
     ]
    },
    {
     "name": "stdout",
     "output_type": "stream",
     "text": [
      "Tennessen et al 2012 Model\n",
      "Estimated Slope: 0.0438; Estimated Intercept: 0.0929; p-value: 0.319267\n",
      "UK10K IBDNe Model\n",
      "Estimated Slope: -0.4103; Estimated Intercept: 0.1300; p-value: 0.000000\n",
      "InstantGrowth7 Model\n",
      "Estimated Slope: -677.1784; Estimated Intercept: 0.2803; p-value: 0.000000\n",
      "InstantGrowth8 Model\n",
      "Estimated Slope: -573.7824; Estimated Intercept: 0.2824; p-value: 0.000000\n",
      "InstantGrowth9 Model\n",
      "Estimated Slope: -411.2089; Estimated Intercept: 0.2745; p-value: 0.000000\n"
     ]
    },
    {
     "data": {
      "image/png": "[encoded data removed]",
      "text/plain": [
       "<Figure size 504x216 with 6 Axes>"
      ]
     },
     "metadata": {},
     "output_type": "display_data"
    }
   ],
   "source": [
    "## ------ Testing figure  ------- ##\n",
    "fig, axs = plt.subplots(2,3, figsize=(7, 3), sharex='col')\n",
    "\n",
    "# Part 1: Constant population size\n",
    "ax3 = axs[0,0]; debox(ax3)\n",
    "ax4 = axs[1,0]; debox(ax4)\n",
    "\n",
    "# Loading in the metadata for correlation in branch length\n",
    "corr_bl_df = pd.read_csv('../../results/two_loci/multi_scenario_branch_len.csv')\n",
    "corr_bl_df = corr_bl_df.dropna()\n",
    "\n",
    "# compute the asymptotic standard errors (Note - these are similar to bootstrapped values) \n",
    "corr_bl_df['se_r'] = np.sqrt((1. - corr_bl_df.corr_bl.values ** 2) / (corr_bl_df.Nreps.values - 2.))\n",
    "\n",
    "# Plotting constant tests\n",
    "Ns = [5000,10000,20000]\n",
    "colors = ['blue','orange', 'green']\n",
    "mu = 1e-8\n",
    "# This is what we have simulated ... \n",
    "tas = np.arange(0,501,50)\n",
    "i = 0\n",
    "for n in tqdm(Ns):\n",
    "    print(\"Ne = %d Constant Model\" % n)\n",
    "    cur_df = corr_bl_df[(corr_bl_df.Ne == n) & (corr_bl_df.scenario == 'SerialConstant')]\n",
    "    # use the pairwise times to approximate Ne\n",
    "    mean_et2 = np.mean(cur_df.exp_bl)\n",
    "    \n",
    "    ax3.plot(tas, np.repeat(n,tas.size), lw=3, color=colors[i])\n",
    "    # Note - this is a fixed theta here ... \n",
    "    theta = 4 * cur_df.Ne.values[0] * 1e3 * 1e-8\n",
    "    corr_pi, coeff = corr_bl_2_corr_pi_kb(cur_df.ta, theta=theta, corr_bl=cur_df.corr_bl)\n",
    "    slope, intercept, _, pval, stderr = linregress(cur_df.ta/(2.*cur_df.Ne.values[0]), corr_pi)\n",
    "    print(\"Estimated Slope: %0.4f; Estimated Intercept: %0.4f; p-value: %0.6f\" % (slope, intercept, pval))\n",
    "    # Note - we linearly scale the standard error here ... \n",
    "    ax4.errorbar(cur_df.ta, corr_pi,  yerr=2*cur_df.se_r*coeff, capsize=2, color=colors[i])\n",
    "    i += 1\n",
    "\n",
    "\n",
    "ax5 = axs[0,1]; debox(ax5)\n",
    "# Plot both demographies\n",
    "demo_model1_file = {'Tennessen et al (2012)': '../../data/demo_models/tennessen_european.txt', \n",
    "                    'IBDNe UK10K (2015)': '../../data/demo_models/uk10k.IBDNe.txt'}\n",
    "i = 0\n",
    "for x in demo_model1_file:\n",
    "    _,demo = read_demography(demo_model1_file[x])\n",
    "    t,nt = generate_demography(demo)\n",
    "    ax5.plot(t,nt,lw=3,label=x, color=colors[i])\n",
    "    i += 1\n",
    "ax5.set_yscale('log')\n",
    "ax5.set_ylim(1e1,1e7)\n",
    "ax5.set_xlim(0, 500)\n",
    "ax5.legend(fontsize=8, labelspacing=-0.0)\n",
    "\n",
    "\n",
    "ax6 = axs[1,1]; debox(ax6)\n",
    "\n",
    "# Plot the Tennessen et al model...\n",
    "print(\"Tennessen et al 2012 Model\")\n",
    "i = 0\n",
    "cur_df = corr_bl_df[corr_bl_df.scenario == 'Tennessen']\n",
    "mean_et2 = np.mean(cur_df.exp_bl)\n",
    "# Ne_hat = mean_et2/2./2.\n",
    "Ne_hat = cur_df.Ne_est.values[0]\n",
    "theta = 4 * Ne_hat * 1e3 * 1e-8\n",
    "corr_pi, coeff = corr_bl_2_corr_pi_kb(cur_df.ta, theta=theta, corr_bl=cur_df.corr_bl)\n",
    "slope, intercept, _, pval, stderr = linregress(cur_df.ta/(2.*cur_df.Ne.values[0]), corr_pi)\n",
    "print(\"Estimated Slope: %0.4f; Estimated Intercept: %0.4f; p-value: %0.6f\" % (slope, intercept, pval))\n",
    "ax6.errorbar(cur_df.ta, corr_pi, yerr=2*cur_df.se_r*coeff, capsize=2, color=colors[i])\n",
    "\n",
    "# Plot the UK10K results\n",
    "print(\"UK10K IBDNe Model\")\n",
    "i = 1\n",
    "cur_df = corr_bl_df[corr_bl_df.scenario == 'IBDNeUK10K']\n",
    "mean_et2 = np.mean(cur_df.exp_bl)\n",
    "# Ne_hat = mean_et2/2./2.\n",
    "Ne_hat = cur_df.Ne_est.values[0]\n",
    "# Ne_hat = 1e4\n",
    "theta = 4 * Ne_hat * 1e3 * 1e-8\n",
    "corr_pi, coeff = corr_bl_2_corr_pi_kb(cur_df.ta, theta=theta, corr_bl=cur_df.corr_bl)\n",
    "slope, intercept, _, pval, stderr = linregress(cur_df.ta/(2.*cur_df.Ne.values[0]), corr_pi)\n",
    "print(\"Estimated Slope: %0.4f; Estimated Intercept: %0.4f; p-value: %0.6f\" % (slope, intercept, pval))\n",
    "ax6.errorbar(cur_df.ta, corr_pi, yerr=2*cur_df.se_r*coeff, capsize=2, color=colors[i])\n",
    "\n",
    "\n",
    "ax7 = axs[0,2]; debox(ax7)\n",
    "tbot = [100,200,400]\n",
    "i = 0\n",
    "for tb in tbot:\n",
    "    plot_bot_demo(ax7, N0=1e6, T_bot=tb, b=0.0001, lw=2, color=colors[i])\n",
    "    i += 1\n",
    "\n",
    "ax7.set_yscale('log')\n",
    "ax7.set_ylim(1e1,1e7)\n",
    "ax7.set_xlim(0,500)\n",
    "    \n",
    "ax8 = axs[1,2]; debox(ax8)\n",
    "i = 0 \n",
    "for x in tqdm([7,8,9]):\n",
    "    print(\"InstantGrowth%d Model\" % x)\n",
    "    cur_df = corr_bl_df[corr_bl_df.scenario == 'InstantGrowth%d' % x]\n",
    "    mean_et2 = np.mean(cur_df.exp_bl)\n",
    "#     Ne_hat = mean_et2/2./2.\n",
    "    Ne_hat = cur_df.Ne_est.values[0]\n",
    "    theta = 4 * Ne_hat * 1e3 * 1e-8\n",
    "    corr_pi, coeff = corr_bl_2_corr_pi_kb(cur_df.ta, theta=theta, corr_bl=cur_df.corr_bl)\n",
    "    slope, intercept, _, pval, stderr = linregress(cur_df.ta/(2.*cur_df.Ne.values[0]), corr_pi)\n",
    "    print(\"Estimated Slope: %0.4f; Estimated Intercept: %0.4f; p-value: %0.6f\" % (slope, intercept, pval))\n",
    "    ax8.errorbar(cur_df.ta, corr_pi, yerr=2*cur_df.se_r*coeff, capsize=2, color=colors[i])\n",
    "    i += 1\n",
    "\n",
    "    \n",
    "    \n",
    "# Labeling all of the axes\n",
    "for (axi,lbl) in zip([axs[0,0], axs[0,1], axs[0,2]],['A','B','C']):\n",
    "    axi.text(-0.06, 1.25, lbl, fontsize=14, \n",
    "               fontweight='bold', va='top', ha='right', transform=axi.transAxes);\n",
    "\n",
    "\n",
    "# Setting the y-limit to make things more comparable on bottom row\n",
    "for x in axs[1,:]:\n",
    "    x.set_ylim(0,0.35);\n",
    "    \n",
    "    \n",
    "axs[0,0].set_ylabel(r'$N_t$', fontsize=14)\n",
    "axs[1,0].set_ylabel(r'$Corr(\\pi_A, \\pi_B)$', fontsize=14)\n",
    "plt.tight_layout()\n",
    "\n",
    "fig.text(0.55, -0.025, r'Sample age (generations)', ha='center', fontsize=14)\n",
    "plt.savefig(main_figdir + 'full_demography.corr_piA_piB.pdf', dpi=300, bbox_inches='tight')"
   ]
  },
  {
   "cell_type": "markdown",
   "metadata": {},
   "source": [
    "## Comparing correlation in pairwise differences under two demographic models"
   ]
  },
  {
   "cell_type": "code",
   "execution_count": 9,
   "metadata": {
    "execution": {
     "iopub.execute_input": "2021-06-16T17:37:51.779192Z",
     "iopub.status.busy": "2021-06-16T17:37:51.778042Z",
     "iopub.status.idle": "2021-06-16T17:37:51.818755Z",
     "shell.execute_reply": "2021-06-16T17:37:51.819472Z"
    }
   },
   "outputs": [
    {
     "data": {
      "text/html": [
       "<div>\n",
       "<style scoped>\n",
       "    .dataframe tbody tr th:only-of-type {\n",
       "        vertical-align: middle;\n",
       "    }\n",
       "\n",
       "    .dataframe tbody tr th {\n",
       "        vertical-align: top;\n",
       "    }\n",
       "\n",
       "    .dataframe thead th {\n",
       "        text-align: right;\n",
       "    }\n",
       "</style>\n",
       "<table border=\"1\" class=\"dataframe\">\n",
       "  <thead>\n",
       "    <tr style=\"text-align: right;\">\n",
       "      <th></th>\n",
       "      <th>scenario</th>\n",
       "      <th>N</th>\n",
       "      <th>ta</th>\n",
       "      <th>L</th>\n",
       "      <th>rec_rate_mean</th>\n",
       "      <th>rec_rate_se</th>\n",
       "      <th>corr_s1_s2</th>\n",
       "      <th>se_corr</th>\n",
       "      <th>seed</th>\n",
       "      <th>Ne</th>\n",
       "    </tr>\n",
       "  </thead>\n",
       "  <tbody>\n",
       "    <tr>\n",
       "      <th>0</th>\n",
       "      <td>SerialConstant</td>\n",
       "      <td>200</td>\n",
       "      <td>0</td>\n",
       "      <td>1000</td>\n",
       "      <td>0.00001</td>\n",
       "      <td>1.549490e-09</td>\n",
       "      <td>0.226360</td>\n",
       "      <td>0.003080</td>\n",
       "      <td>42</td>\n",
       "      <td>10000</td>\n",
       "    </tr>\n",
       "    <tr>\n",
       "      <th>1</th>\n",
       "      <td>SerialConstant</td>\n",
       "      <td>200</td>\n",
       "      <td>0</td>\n",
       "      <td>1000</td>\n",
       "      <td>0.00002</td>\n",
       "      <td>2.102783e-09</td>\n",
       "      <td>0.198395</td>\n",
       "      <td>0.003099</td>\n",
       "      <td>42</td>\n",
       "      <td>10000</td>\n",
       "    </tr>\n",
       "    <tr>\n",
       "      <th>2</th>\n",
       "      <td>SerialConstant</td>\n",
       "      <td>200</td>\n",
       "      <td>0</td>\n",
       "      <td>1000</td>\n",
       "      <td>0.00003</td>\n",
       "      <td>2.398451e-09</td>\n",
       "      <td>0.158905</td>\n",
       "      <td>0.003122</td>\n",
       "      <td>42</td>\n",
       "      <td>10000</td>\n",
       "    </tr>\n",
       "    <tr>\n",
       "      <th>3</th>\n",
       "      <td>SerialConstant</td>\n",
       "      <td>200</td>\n",
       "      <td>0</td>\n",
       "      <td>1000</td>\n",
       "      <td>0.00004</td>\n",
       "      <td>2.606499e-09</td>\n",
       "      <td>0.126981</td>\n",
       "      <td>0.003137</td>\n",
       "      <td>42</td>\n",
       "      <td>10000</td>\n",
       "    </tr>\n",
       "    <tr>\n",
       "      <th>4</th>\n",
       "      <td>SerialConstant</td>\n",
       "      <td>200</td>\n",
       "      <td>0</td>\n",
       "      <td>1000</td>\n",
       "      <td>0.00005</td>\n",
       "      <td>2.734551e-09</td>\n",
       "      <td>0.122383</td>\n",
       "      <td>0.003139</td>\n",
       "      <td>42</td>\n",
       "      <td>10000</td>\n",
       "    </tr>\n",
       "  </tbody>\n",
       "</table>\n",
       "</div>"
      ],
      "text/plain": [
       "         scenario    N  ta     L  rec_rate_mean   rec_rate_se  corr_s1_s2  \\\n",
       "0  SerialConstant  200   0  1000        0.00001  1.549490e-09    0.226360   \n",
       "1  SerialConstant  200   0  1000        0.00002  2.102783e-09    0.198395   \n",
       "2  SerialConstant  200   0  1000        0.00003  2.398451e-09    0.158905   \n",
       "3  SerialConstant  200   0  1000        0.00004  2.606499e-09    0.126981   \n",
       "4  SerialConstant  200   0  1000        0.00005  2.734551e-09    0.122383   \n",
       "\n",
       "    se_corr  seed     Ne  \n",
       "0  0.003080    42  10000  \n",
       "1  0.003099    42  10000  \n",
       "2  0.003122    42  10000  \n",
       "3  0.003137    42  10000  \n",
       "4  0.003139    42  10000  "
      ]
     },
     "execution_count": 1,
     "metadata": {},
     "output_type": "execute_result"
    }
   ],
   "source": [
    "test_df = pd.read_csv('../../results/corr_seg_sites/monte_carlo_sims_sA_sB_demography.csv')\n",
    "test_df.head()"
   ]
  },
  {
   "cell_type": "code",
   "execution_count": 10,
   "metadata": {
    "execution": {
     "iopub.execute_input": "2021-06-16T17:37:51.829684Z",
     "iopub.status.busy": "2021-06-16T17:37:51.828631Z",
     "iopub.status.idle": "2021-06-16T17:37:53.494964Z",
     "shell.execute_reply": "2021-06-16T17:37:53.495653Z"
    },
    "tags": []
   },
   "outputs": [
    {
     "data": {
      "image/png": "[encoded data removed]",
      "text/plain": [
       "<Figure size 360x180 with 2 Axes>"
      ]
     },
     "metadata": {},
     "output_type": "display_data"
    }
   ],
   "source": [
    "\n",
    "filt_df1 = test_df[(test_df.scenario == 'SerialConstant') & (test_df.ta == 0) & (test_df.seed == 42)]\n",
    "filt_df2 = test_df[(test_df.scenario == 'TennessenEuropean') & (test_df.ta == 0) & (test_df.seed == 42)]\n",
    "\n",
    "fig, ax = plt.subplots(1,2,figsize=(5,2.5), sharex=True, sharey=True)\n",
    "ax[0].errorbar(filt_df1.rec_rate_mean, filt_df1.corr_s1_s2, \n",
    "            yerr=2*filt_df1.se_corr, capsize=2, lw=2, label=r'Constant Size')\n",
    "\n",
    "ax[0].errorbar(filt_df2.rec_rate_mean, filt_df2.corr_s1_s2, \n",
    "            yerr=2*filt_df2.se_corr, capsize=2, lw=2, label=r'Tennessen et al. (2012)')\n",
    "ax[0].set_xscale('log')\n",
    "ax[0].set_title(r'$t_a = %d$' % 0, fontsize=14)\n",
    "\n",
    "# Making the plot with new timepoints\n",
    "filt_df1 = test_df[(test_df.scenario == 'SerialConstant')  & (test_df.ta == 1000) & (test_df.seed == 42)]\n",
    "filt_df2 = test_df[(test_df.scenario == 'TennessenEuropean')  & (test_df.ta == 1000) & (test_df.seed == 42)]\n",
    "\n",
    "ax[1].errorbar(filt_df1.rec_rate_mean, filt_df1.corr_s1_s2, \n",
    "            yerr=2*filt_df1.se_corr, capsize=2, lw=2, label=r'Constant Size')\n",
    "\n",
    "ax[1].errorbar(filt_df2.rec_rate_mean, filt_df2.corr_s1_s2, \n",
    "            yerr=2*filt_df2.se_corr, capsize=2, lw=2, label=r'Tennessen et al. (2012)')\n",
    "\n",
    "ax[1].set_title(r'$t_a = %d$' % 1000, fontsize=14)\n",
    "\n",
    "\n",
    "# Plotting aesthetics \n",
    "debox(ax[0]); debox(ax[1]);\n",
    "ax[1].legend(fontsize=8)\n",
    "\n",
    "# Setting labels\n",
    "ax[0].set_ylabel(r'$Corr(\\pi_A,\\pi_B)$',fontsize=14);\n",
    "fig.text(0.45, -0.025, r'Morgans', fontsize=14);\n",
    "plt.savefig(supp_figdir + 'demo_test_v_constant.corr_piA_piB.pdf', dpi=300, bbox_inches='tight')"
   ]
  }
 ],
 "metadata": {
  "kernelspec": {
   "display_name": "Python 3",
   "language": "python",
   "name": "python3"
  },
  "language_info": {
   "codemirror_mode": {
    "name": "ipython",
    "version": 3
   },
   "file_extension": ".py",
   "mimetype": "text/x-python",
   "name": "python",
   "nbconvert_exporter": "python",
   "pygments_lexer": "ipython3",
   "version": "3.7.5"
  }
 },
 "nbformat": 4,
 "nbformat_minor": 4
}
