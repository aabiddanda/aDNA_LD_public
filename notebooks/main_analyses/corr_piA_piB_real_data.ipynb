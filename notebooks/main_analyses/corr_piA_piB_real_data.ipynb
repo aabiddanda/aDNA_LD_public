{
 "cells": [
  {
   "cell_type": "code",
   "execution_count": 1,
   "metadata": {
    "execution": {
     "iopub.execute_input": "2021-06-16T17:36:44.967307Z",
     "iopub.status.busy": "2021-06-16T17:36:44.965424Z",
     "iopub.status.idle": "2021-06-16T17:36:47.233638Z",
     "shell.execute_reply": "2021-06-16T17:36:47.234539Z"
    }
   },
   "outputs": [],
   "source": [
    "# Exploring the covariance in segregating sites\n",
    "import numpy as np \n",
    "import matplotlib.pyplot as plt\n",
    "import pandas as pd\n",
    "import warnings\n",
    "warnings.filterwarnings('ignore')\n",
    "\n",
    "# Import the relevant functions / custom classes\n",
    "import sys \n",
    "sys.path.insert(0, '../../src/')\n",
    "from seg_sites_covar import *\n",
    "from coal_cov import TwoLocusSimulation, TwoLocusTheoryConstant\n",
    "from fit_corr_segsites import *\n",
    "from plot_utils import *\n",
    "\n",
    "import os\n",
    "from tqdm import tqdm\n",
    "from glob import glob\n",
    "\n",
    "%load_ext autoreload\n",
    "%autoreload 2"
   ]
  },
  {
   "cell_type": "code",
   "execution_count": 2,
   "metadata": {
    "execution": {
     "iopub.execute_input": "2021-06-16T17:36:47.243965Z",
     "iopub.status.busy": "2021-06-16T17:36:47.243024Z",
     "iopub.status.idle": "2021-06-16T17:36:47.271660Z",
     "shell.execute_reply": "2021-06-16T17:36:47.272241Z"
    }
   },
   "outputs": [],
   "source": [
    "plt.rcParams['font.sans-serif'] = \"Arial\"\n",
    "plt.rcParams['figure.facecolor'] = \"w\"\n",
    "plt.rcParams['figure.autolayout'] = True\n",
    "plt.rcParams['pdf.fonttype'] = 3\n",
    "from mpl_toolkits.axes_grid1 import make_axes_locatable\n",
    "    \n",
    "main_figdir = '../../plots/two_locus_stats/corrSASB_realdata/'\n",
    "supp_figdir = '../../plots/supp_figs/two_locus_stats/corrSASB_realdata/'\n",
    "os.makedirs(main_figdir, exist_ok=True)\n",
    "os.makedirs(supp_figdir, exist_ok=True)\n",
    "\n",
    "%matplotlib inline"
   ]
  },
  {
   "cell_type": "markdown",
   "metadata": {},
   "source": [
    "# Monte-Carlo Estimation for Haploid Samples"
   ]
  },
  {
   "cell_type": "code",
   "execution_count": 3,
   "metadata": {
    "execution": {
     "iopub.execute_input": "2021-06-16T17:36:47.276608Z",
     "iopub.status.busy": "2021-06-16T17:36:47.275957Z",
     "iopub.status.idle": "2021-06-16T17:36:47.330111Z",
     "shell.execute_reply": "2021-06-16T17:36:47.330648Z"
    }
   },
   "outputs": [
    {
     "data": {
      "text/html": [
       "<div>\n",
       "<style scoped>\n",
       "    .dataframe tbody tr th:only-of-type {\n",
       "        vertical-align: middle;\n",
       "    }\n",
       "\n",
       "    .dataframe tbody tr th {\n",
       "        vertical-align: top;\n",
       "    }\n",
       "\n",
       "    .dataframe thead th {\n",
       "        text-align: right;\n",
       "    }\n",
       "</style>\n",
       "<table border=\"1\" class=\"dataframe\">\n",
       "  <thead>\n",
       "    <tr style=\"text-align: right;\">\n",
       "      <th></th>\n",
       "      <th>ANC_ID</th>\n",
       "      <th>MOD_ID</th>\n",
       "      <th>rec_rate_mean</th>\n",
       "      <th>rec_rate_se</th>\n",
       "      <th>corr_piA_piB</th>\n",
       "      <th>se_corr_piA_piB</th>\n",
       "    </tr>\n",
       "  </thead>\n",
       "  <tbody>\n",
       "    <tr>\n",
       "      <th>0</th>\n",
       "      <td>LBK</td>\n",
       "      <td>NA18486</td>\n",
       "      <td>0.000011</td>\n",
       "      <td>4.968652e-07</td>\n",
       "      <td>0.249415</td>\n",
       "      <td>0.006133</td>\n",
       "    </tr>\n",
       "    <tr>\n",
       "      <th>1</th>\n",
       "      <td>LBK</td>\n",
       "      <td>NA18486</td>\n",
       "      <td>0.000013</td>\n",
       "      <td>5.821711e-07</td>\n",
       "      <td>0.244006</td>\n",
       "      <td>0.006105</td>\n",
       "    </tr>\n",
       "    <tr>\n",
       "      <th>2</th>\n",
       "      <td>LBK</td>\n",
       "      <td>NA18486</td>\n",
       "      <td>0.000015</td>\n",
       "      <td>6.855675e-07</td>\n",
       "      <td>0.194202</td>\n",
       "      <td>0.006082</td>\n",
       "    </tr>\n",
       "    <tr>\n",
       "      <th>3</th>\n",
       "      <td>LBK</td>\n",
       "      <td>NA18486</td>\n",
       "      <td>0.000017</td>\n",
       "      <td>7.973908e-07</td>\n",
       "      <td>0.197501</td>\n",
       "      <td>0.005991</td>\n",
       "    </tr>\n",
       "    <tr>\n",
       "      <th>4</th>\n",
       "      <td>LBK</td>\n",
       "      <td>NA18486</td>\n",
       "      <td>0.000020</td>\n",
       "      <td>9.310998e-07</td>\n",
       "      <td>0.179601</td>\n",
       "      <td>0.005952</td>\n",
       "    </tr>\n",
       "  </tbody>\n",
       "</table>\n",
       "</div>"
      ],
      "text/plain": [
       "  ANC_ID   MOD_ID  rec_rate_mean   rec_rate_se  corr_piA_piB  se_corr_piA_piB\n",
       "0    LBK  NA18486       0.000011  4.968652e-07      0.249415         0.006133\n",
       "1    LBK  NA18486       0.000013  5.821711e-07      0.244006         0.006105\n",
       "2    LBK  NA18486       0.000015  6.855675e-07      0.194202         0.006082\n",
       "3    LBK  NA18486       0.000017  7.973908e-07      0.197501         0.005991\n",
       "4    LBK  NA18486       0.000020  9.310998e-07      0.179601         0.005952"
      ]
     },
     "execution_count": 1,
     "metadata": {},
     "output_type": "execute_result"
    }
   ],
   "source": [
    "# Reading in the data\n",
    "rec_rate_corr_piA_piB = pd.read_csv('../../results/corr_seg_sites/monte_carlo_est_LBK_UstIshim_modern.csv')\n",
    "rec_rate_corr_piA_piB.head()"
   ]
  },
  {
   "cell_type": "code",
   "execution_count": 4,
   "metadata": {
    "execution": {
     "iopub.execute_input": "2021-06-16T17:36:47.336281Z",
     "iopub.status.busy": "2021-06-16T17:36:47.335656Z",
     "iopub.status.idle": "2021-06-16T17:36:47.366391Z",
     "shell.execute_reply": "2021-06-16T17:36:47.366956Z"
    }
   },
   "outputs": [],
   "source": [
    "# Reading in a lot of VCF\n",
    "pop_1kg_df = pd.read_table('../../data/raw_data/1kg_panel/integrated_call_samples_v3.20130502.ALL.panel')\n",
    "\n",
    "test_yri_1kg = pop_1kg_df[pop_1kg_df['pop'] == 'YRI']['sample'].values[:3]\n",
    "test_chb_1kg = pop_1kg_df[pop_1kg_df['pop'] == 'CHB']['sample'].values[:3]\n",
    "test_ceu_1kg = pop_1kg_df[pop_1kg_df['pop'] == 'CEU']['sample'].values[:3]\n",
    "test_gih_1kg = pop_1kg_df[pop_1kg_df['pop'] == 'GIH']['sample'].values[:3] \n",
    "test_indivs_1kg = np.hstack([test_yri_1kg, test_chb_1kg, test_ceu_1kg, test_gih_1kg])"
   ]
  },
  {
   "cell_type": "code",
   "execution_count": 5,
   "metadata": {
    "execution": {
     "iopub.execute_input": "2021-06-16T17:36:47.371705Z",
     "iopub.status.busy": "2021-06-16T17:36:47.370678Z",
     "iopub.status.idle": "2021-06-16T17:36:47.393960Z",
     "shell.execute_reply": "2021-06-16T17:36:47.394553Z"
    }
   },
   "outputs": [],
   "source": [
    "mod_1kg = 'NA12383'\n",
    "anc_ids = ['LBK', 'UstIshim']"
   ]
  },
  {
   "cell_type": "code",
   "execution_count": 6,
   "metadata": {
    "execution": {
     "iopub.execute_input": "2021-06-16T17:36:47.404694Z",
     "iopub.status.busy": "2021-06-16T17:36:47.404051Z",
     "iopub.status.idle": "2021-06-16T17:36:48.739755Z",
     "shell.execute_reply": "2021-06-16T17:36:48.740210Z"
    }
   },
   "outputs": [
    {
     "data": {
      "image/png": "[encoded data removed]",
      "text/plain": [
       "<Figure size 360x216 with 1 Axes>"
      ]
     },
     "metadata": {
      "needs_background": "light"
     },
     "output_type": "display_data"
    }
   ],
   "source": [
    "fig, ax = plt.subplots(1,1,figsize=(5,3))\n",
    "axins = ax.inset_axes([0.5, 0.6, 0.47, 0.4])\n",
    "\n",
    "# Make theory blue and orange ... \n",
    "colors = ['blue', 'orange']\n",
    "idx = 0\n",
    "for x in anc_ids:\n",
    "    cur_df = rec_rate_corr_piA_piB[(rec_rate_corr_piA_piB['ANC_ID'] == x) & (rec_rate_corr_piA_piB['MOD_ID'] == mod_1kg)]\n",
    "    ax.errorbar(rand_jitter(cur_df.rec_rate_mean, scale=1e-3), cur_df.corr_piA_piB, \n",
    "                xerr=2*cur_df.rec_rate_se, yerr=2*cur_df.se_corr_piA_piB, \n",
    "                capsize=2, alpha=0.75, color=colors[idx], label=r'%s' % anc_ids[idx]) \n",
    "    axins.errorbar(rand_jitter(cur_df.rec_rate_mean, scale=1e-3), cur_df.corr_piA_piB, \n",
    "                   xerr=2*cur_df.rec_rate_se, yerr=2*cur_df.se_corr_piA_piB,\n",
    "                   capsize=2, alpha=0.75, color=colors[idx]) \n",
    "    idx += 1\n",
    "    \n",
    "    \n",
    "# Use wattersons estimator on a sample of size 3? \n",
    "Ne = 1e4\n",
    "gen_time = 30.\n",
    "rec_rates = np.logspace(-5, -3, 1000)\n",
    "idx = 0\n",
    "for t in [7e3/gen_time, 45e3/gen_time]:\n",
    "    corrs_test1 = TwoLocusTheoryConstant._corrSASB(4*Ne*rec_rates, ta=t/Ne/2, theta=4*Ne*1e3*1.2e-8)\n",
    "    ax.plot(rec_rates, corrs_test1, lw=2, zorder=-1, color=colors[idx], label=r'Theory ($t_a$ = %d gen)' % t)\n",
    "    axins.plot(rec_rates, corrs_test1, lw=2, zorder=-1, color=colors[idx], label=r'Theory ($t_a$ = %d gen)' % t)\n",
    "    idx += 1\n",
    "    \n",
    "# sub region of the original image\n",
    "x1, x2, y1, y2 = 5e-5, 3e-4, 0.025, 0.1\n",
    "axins.set_xlim(x1, x2)\n",
    "axins.set_ylim(y1, y2)\n",
    "axins.set_xticklabels('')\n",
    "axins.set_yticklabels('')\n",
    "ax.indicate_inset_zoom(axins, label='')  \n",
    "    \n",
    "ax.legend(loc=3, fontsize=10, handletextpad=0.1);    \n",
    "ax.set_xscale('log')\n",
    "ax.set_xlabel(r'Morgans', fontsize=14)\n",
    "ax.set_ylabel(r'$Corr(\\pi_A,\\pi_B)$', fontsize=14)\n",
    "debox(ax);\n",
    "plt.savefig(supp_figdir + 'ceu_ustishim_LBK_single_CEU.pdf', dpi=300, bbox_inches='tight')"
   ]
  },
  {
   "cell_type": "code",
   "execution_count": 7,
   "metadata": {
    "execution": {
     "iopub.execute_input": "2021-06-16T17:36:48.750696Z",
     "iopub.status.busy": "2021-06-16T17:36:48.750026Z",
     "iopub.status.idle": "2021-06-16T17:36:49.923335Z",
     "shell.execute_reply": "2021-06-16T17:36:49.924148Z"
    }
   },
   "outputs": [
    {
     "data": {
      "image/png": "[encoded data removed]",
      "text/plain": [
       "<Figure size 360x216 with 1 Axes>"
      ]
     },
     "metadata": {
      "needs_background": "light"
     },
     "output_type": "display_data"
    }
   ],
   "source": [
    "fig, ax = plt.subplots(1,1,figsize=(5,3))\n",
    "axins = ax.inset_axes([0.5, 0.6, 0.47, 0.4])\n",
    "\n",
    "# Make theory blue and orange ... \n",
    "colors = ['green', 'blue', 'orange']\n",
    "mod_id = 'NA12750'\n",
    "idx = 0\n",
    "for x in ['NA06984', 'LBK','UstIshim']:\n",
    "    cur_df = rec_rate_corr_piA_piB[(rec_rate_corr_piA_piB['ANC_ID'] == x) & (rec_rate_corr_piA_piB['MOD_ID'] == mod_1kg)]\n",
    "    ax.errorbar(cur_df.rec_rate_mean, cur_df.corr_piA_piB, \n",
    "                xerr=2*cur_df.rec_rate_se, yerr=2*cur_df.se_corr_piA_piB, \n",
    "                capsize=2, alpha=0.75, color=colors[idx], label=r'%s' % x) \n",
    "    axins.errorbar(cur_df.rec_rate_mean, cur_df.corr_piA_piB, \n",
    "                   xerr=2*cur_df.rec_rate_se, yerr=2*cur_df.se_corr_piA_piB,\n",
    "                   capsize=2, alpha=0.75, color=colors[idx]) \n",
    "    idx += 1\n",
    "    \n",
    "    \n",
    "# Use wattersons estimator on a sample of size 3? \n",
    "Ne = 1e4\n",
    "gen_time = 30.\n",
    "rec_rates = np.logspace(-5, -3, 1000)\n",
    "idx = 0\n",
    "for t in [0.0, 7e3/gen_time, 45e3/gen_time]:\n",
    "    corrs_test1 = TwoLocusTheoryConstant._corrSASB(4*Ne*rec_rates, ta=t/Ne/2, theta=4*Ne*1e3*1.2e-8)\n",
    "    ax.plot(rec_rates, corrs_test1, lw=2, zorder=-1, color=colors[idx], label=r' $t_a$ = %d gen' % t)\n",
    "    axins.plot(rec_rates, corrs_test1, lw=2, zorder=-1, color=colors[idx], label=r' $t_a$ = %d gen' % t)\n",
    "    idx += 1\n",
    "    \n",
    "# sub region of the original image\n",
    "x1, x2, y1, y2 = 5e-5, 3e-4, 0.025, 0.1\n",
    "axins.set_xlim(x1, x2)\n",
    "axins.set_ylim(y1, y2)\n",
    "axins.set_xticklabels('')\n",
    "axins.set_yticklabels('')\n",
    "ax.indicate_inset_zoom(axins, label='')  \n",
    "    \n",
    "ax.legend(loc=3, fontsize=8, handletextpad=0.0);    \n",
    "ax.set_xscale('log')\n",
    "ax.set_xlabel(r'Morgans', fontsize=14)\n",
    "ax.set_ylabel(r'$Corr(\\pi_A,\\pi_B)$', fontsize=14)\n",
    "debox(ax);\n",
    "plt.savefig(supp_figdir + 'ceu_ustishim_LBK_single_CEU_w_modern.pdf', dpi=300, bbox_inches='tight')"
   ]
  },
  {
   "cell_type": "markdown",
   "metadata": {},
   "source": [
    "# Averaging over many modern CEU samples"
   ]
  },
  {
   "cell_type": "code",
   "execution_count": 8,
   "metadata": {
    "execution": {
     "iopub.execute_input": "2021-06-16T17:36:49.934028Z",
     "iopub.status.busy": "2021-06-16T17:36:49.933383Z",
     "iopub.status.idle": "2021-06-16T17:36:50.922123Z",
     "shell.execute_reply": "2021-06-16T17:36:50.923453Z"
    }
   },
   "outputs": [
    {
     "data": {
      "image/png": "[encoded data removed]",
      "text/plain": [
       "<Figure size 360x216 with 1 Axes>"
      ]
     },
     "metadata": {
      "needs_background": "light"
     },
     "output_type": "display_data"
    }
   ],
   "source": [
    "fig, ax = plt.subplots(1,1,figsize=(5,3))\n",
    "# axins = ax.inset_axes([0.5, 0.6, 0.47, 0.4])\n",
    "\n",
    "test_ceu_1kg = pop_1kg_df[pop_1kg_df['pop'] == 'CEU']['sample'].values\n",
    "anc_ids = ['LBK', 'UstIshim', 'NA06984']\n",
    "\n",
    "# Make theory blue and orange ... \n",
    "colors = ['blue', 'orange', 'green']\n",
    "idx = 0\n",
    "for a in anc_ids:\n",
    "    # Getting the \n",
    "    cur_df_test = rec_rate_corr_piA_piB[(rec_rate_corr_piA_piB.ANC_ID == a) & (np.isin(rec_rate_corr_piA_piB.MOD_ID,test_ceu_1kg))]\n",
    "    rec_rate_mean = [df_region.rec_rate_mean.values for _, df_region in cur_df_test.groupby('MOD_ID')]\n",
    "    corr_piA_piB = [df_region.corr_piA_piB.values for _, df_region in cur_df_test.groupby('MOD_ID')]\n",
    "    mean_rec_rates = np.vstack(rec_rate_mean)\n",
    "    mean_corr_s1_s2 = np.vstack(corr_piA_piB)\n",
    "    \n",
    "    ax.scatter(np.mean(mean_rec_rates, axis=0), np.mean(mean_corr_s1_s2,axis=0), marker='x', s = 20, color=colors[idx], label=r'%s' % a) \n",
    "    idx += 1\n",
    "    \n",
    "\n",
    "Ne = 1e4\n",
    "gen_time = 30.\n",
    "rec_rates = np.logspace(-5, -3, 1000)\n",
    "idx = 0\n",
    "for t in [7e3/gen_time, 45e3/gen_time, 0.0/gen_time]:\n",
    "    corrs_test1 = TwoLocusTheoryConstant._corrSASB(4*Ne*rec_rates, ta=t/Ne/2, theta=4*Ne*1e3*1.2e-8)\n",
    "    ax.plot(rec_rates, corrs_test1, lw=2, zorder=-1, color=colors[idx], label=r'$t_a$ = %d gen' % t)\n",
    "    idx += 1\n",
    "    \n",
    "\n",
    "ax.legend(fontsize=10, labelspacing = 0.1);    \n",
    "ax.set_xscale('log')\n",
    "ax.set_xlabel(r'Morgans', fontsize=14)\n",
    "ax.set_ylabel(r'$Corr(\\pi_A,\\pi_B)$', fontsize=14); \n",
    "plt.tight_layout(); debox(ax);\n",
    "plt.savefig(main_figdir + 'ceu_ustishim_LBK_trial_all_ceu_samples.pdf', dpi=300, bbox_inches='tight')"
   ]
  },
  {
   "cell_type": "markdown",
   "metadata": {},
   "source": [
    "### Generating a table for comparing differences in the correlation of pairwise differences"
   ]
  },
  {
   "cell_type": "code",
   "execution_count": 9,
   "metadata": {
    "execution": {
     "iopub.execute_input": "2021-06-16T17:36:50.931017Z",
     "iopub.status.busy": "2021-06-16T17:36:50.930200Z",
     "iopub.status.idle": "2021-06-16T17:36:50.952380Z",
     "shell.execute_reply": "2021-06-16T17:36:50.952963Z"
    }
   },
   "outputs": [],
   "source": [
    "from scipy.stats import wilcoxon\n",
    "from scipy.stats import binom \n",
    "\n",
    "def sign_test_corr_piA_piB(x, y, test='binom', **kwargs):\n",
    "    \"\"\"\n",
    "        Function to compute a non-parametric sign test\n",
    "    \"\"\"\n",
    "    assert(x.size == y.size)\n",
    "    diff = x - y\n",
    "#     print(diff)\n",
    "    if test == 'wilcoxon':\n",
    "        stat, pval = wilcoxon(x, y, **kwargs) \n",
    "    elif test == 'binom':\n",
    "        npos = np.sum(diff > 0)\n",
    "        nneg = np.sum(diff < 0)\n",
    "        n = x.size\n",
    "        stat = np.mean(diff)\n",
    "        pval = binom.cdf(np.min([nneg, npos]), n=n, p=0.5) + (1. - binom.cdf(np.max([npos, nneg]), n=n, p=0.5))\n",
    "    else:\n",
    "        raise ValueError('Test is not supported!')\n",
    "    return(diff, stat, pval)  "
   ]
  },
  {
   "cell_type": "code",
   "execution_count": 10,
   "metadata": {
    "execution": {
     "iopub.execute_input": "2021-06-16T17:36:50.961682Z",
     "iopub.status.busy": "2021-06-16T17:36:50.961062Z",
     "iopub.status.idle": "2021-06-16T17:36:51.119869Z",
     "shell.execute_reply": "2021-06-16T17:36:51.120574Z"
    }
   },
   "outputs": [
    {
     "data": {
      "text/html": [
       "<div>\n",
       "<style scoped>\n",
       "    .dataframe tbody tr th:only-of-type {\n",
       "        vertical-align: middle;\n",
       "    }\n",
       "\n",
       "    .dataframe tbody tr th {\n",
       "        vertical-align: top;\n",
       "    }\n",
       "\n",
       "    .dataframe thead th {\n",
       "        text-align: right;\n",
       "    }\n",
       "</style>\n",
       "<table border=\"1\" class=\"dataframe\">\n",
       "  <thead>\n",
       "    <tr style=\"text-align: right;\">\n",
       "      <th></th>\n",
       "      <th>ID1</th>\n",
       "      <th>ID2</th>\n",
       "      <th>p-value (Wilcoxon)</th>\n",
       "      <th>p-value (Binomial)</th>\n",
       "    </tr>\n",
       "  </thead>\n",
       "  <tbody>\n",
       "    <tr>\n",
       "      <th>0</th>\n",
       "      <td>UstIshim</td>\n",
       "      <td>LBK</td>\n",
       "      <td>0.705129</td>\n",
       "      <td>3.615946e-01</td>\n",
       "    </tr>\n",
       "    <tr>\n",
       "      <th>1</th>\n",
       "      <td>NA06984</td>\n",
       "      <td>LBK</td>\n",
       "      <td>0.000003</td>\n",
       "      <td>1.862645e-09</td>\n",
       "    </tr>\n",
       "    <tr>\n",
       "      <th>2</th>\n",
       "      <td>LBK</td>\n",
       "      <td>UstIshim</td>\n",
       "      <td>0.705129</td>\n",
       "      <td>3.615946e-01</td>\n",
       "    </tr>\n",
       "    <tr>\n",
       "      <th>3</th>\n",
       "      <td>NA06984</td>\n",
       "      <td>UstIshim</td>\n",
       "      <td>0.000003</td>\n",
       "      <td>1.862645e-09</td>\n",
       "    </tr>\n",
       "  </tbody>\n",
       "</table>\n",
       "</div>"
      ],
      "text/plain": [
       "        ID1       ID2  p-value (Wilcoxon)  p-value (Binomial)\n",
       "0  UstIshim       LBK            0.705129        3.615946e-01\n",
       "1   NA06984       LBK            0.000003        1.862645e-09\n",
       "2       LBK  UstIshim            0.705129        3.615946e-01\n",
       "3   NA06984  UstIshim            0.000003        1.862645e-09"
      ]
     },
     "execution_count": 1,
     "metadata": {},
     "output_type": "execute_result"
    }
   ],
   "source": [
    "# Comparing the estimates across the mean-averaged versions\n",
    "test_ceu_1kg = pop_1kg_df[pop_1kg_df['pop'] == 'CEU']['sample'].values\n",
    "anc_ids = ['LBK', 'UstIshim', 'NA06984']\n",
    "\n",
    "colors = ['blue', 'orange', 'green']\n",
    "corr_piA_piB_dict = {}\n",
    "idx = 0\n",
    "for a in anc_ids:\n",
    "    # Getting the \n",
    "    cur_df_test = rec_rate_corr_piA_piB[(rec_rate_corr_piA_piB.ANC_ID == a) & (np.isin(rec_rate_corr_piA_piB.MOD_ID,test_ceu_1kg))]\n",
    "    rec_rate_mean = [df_region.rec_rate_mean.values for _, df_region in cur_df_test.groupby('MOD_ID')]\n",
    "    corr_piA_piB = [df_region.corr_piA_piB.values for _, df_region in cur_df_test.groupby('MOD_ID')]\n",
    "    mean_rec_rates = np.vstack(rec_rate_mean)\n",
    "    mean_corr_s1_s2 = np.vstack(corr_piA_piB)\n",
    "    corr_piA_piB_dict[a] = np.mean(mean_corr_s1_s2, axis=0)\n",
    "     \n",
    "collapsed_rows = []\n",
    "for k in corr_piA_piB_dict.keys():\n",
    "    for j in corr_piA_piB_dict.keys():\n",
    "        if j != k: \n",
    "            _, _, pval_wilcoxon = sign_test_corr_piA_piB(corr_piA_piB_dict[j], corr_piA_piB_dict[k], test='wilcoxon')\n",
    "            _, stat, pval_binom = sign_test_corr_piA_piB(corr_piA_piB_dict[j], corr_piA_piB_dict[k], test='binom')\n",
    "            cur_row = [j, k, pval_wilcoxon, pval_binom]\n",
    "            collapsed_rows.append(cur_row)\n",
    "            \n",
    "df = pd.DataFrame(collapsed_rows)\n",
    "df.columns = ['ID1', 'ID2', 'p-value (Wilcoxon)', 'p-value (Binomial)']\n",
    "df.to_csv('../../results/corr_seg_sites/pvals_mean_LBK_UstIshim_CEU_1kg_indivs.csv', index=False)\n",
    "df[:4]"
   ]
  },
  {
   "cell_type": "code",
   "execution_count": 11,
   "metadata": {
    "execution": {
     "iopub.execute_input": "2021-06-16T17:36:51.129630Z",
     "iopub.status.busy": "2021-06-16T17:36:51.128709Z",
     "iopub.status.idle": "2021-06-16T17:36:51.226963Z",
     "shell.execute_reply": "2021-06-16T17:36:51.227537Z"
    }
   },
   "outputs": [
    {
     "name": "stderr",
     "output_type": "stream",
     "text": [
      "100%|█████████████████████████████████████████████████████████████████████████████| 12/12 [00:00<00:00, 243.82it/s]"
     ]
    },
    {
     "name": "stdout",
     "output_type": "stream",
     "text": [
      "['NA18486' 'NA18488' 'NA18489' 'NA18525' 'NA18526' 'NA18528' 'NA06984'\n",
      " 'NA06985' 'NA06986' 'NA20845' 'NA20846' 'NA20847']\n"
     ]
    },
    {
     "name": "stderr",
     "output_type": "stream",
     "text": [
      "\n"
     ]
    },
    {
     "data": {
      "text/html": [
       "<div>\n",
       "<style scoped>\n",
       "    .dataframe tbody tr th:only-of-type {\n",
       "        vertical-align: middle;\n",
       "    }\n",
       "\n",
       "    .dataframe tbody tr th {\n",
       "        vertical-align: top;\n",
       "    }\n",
       "\n",
       "    .dataframe thead th {\n",
       "        text-align: right;\n",
       "    }\n",
       "</style>\n",
       "<table border=\"1\" class=\"dataframe\">\n",
       "  <thead>\n",
       "    <tr style=\"text-align: right;\">\n",
       "      <th></th>\n",
       "      <th>Sample ID</th>\n",
       "      <th>Population</th>\n",
       "      <th>p-value (Wilcoxon)</th>\n",
       "      <th>p-value (Binomial)</th>\n",
       "    </tr>\n",
       "  </thead>\n",
       "  <tbody>\n",
       "    <tr>\n",
       "      <th>6</th>\n",
       "      <td>NA06984</td>\n",
       "      <td>CEU</td>\n",
       "      <td>0.62660</td>\n",
       "      <td>0.58466</td>\n",
       "    </tr>\n",
       "    <tr>\n",
       "      <th>7</th>\n",
       "      <td>NA06985</td>\n",
       "      <td>CEU</td>\n",
       "      <td>0.83724</td>\n",
       "      <td>0.85554</td>\n",
       "    </tr>\n",
       "    <tr>\n",
       "      <th>8</th>\n",
       "      <td>NA06986</td>\n",
       "      <td>CEU</td>\n",
       "      <td>0.32519</td>\n",
       "      <td>0.58466</td>\n",
       "    </tr>\n",
       "    <tr>\n",
       "      <th>3</th>\n",
       "      <td>NA18525</td>\n",
       "      <td>CHB</td>\n",
       "      <td>0.02522</td>\n",
       "      <td>0.36159</td>\n",
       "    </tr>\n",
       "    <tr>\n",
       "      <th>4</th>\n",
       "      <td>NA18526</td>\n",
       "      <td>CHB</td>\n",
       "      <td>0.00008</td>\n",
       "      <td>0.00001</td>\n",
       "    </tr>\n",
       "    <tr>\n",
       "      <th>5</th>\n",
       "      <td>NA18528</td>\n",
       "      <td>CHB</td>\n",
       "      <td>0.00052</td>\n",
       "      <td>0.00522</td>\n",
       "    </tr>\n",
       "    <tr>\n",
       "      <th>9</th>\n",
       "      <td>NA20845</td>\n",
       "      <td>GIH</td>\n",
       "      <td>0.40513</td>\n",
       "      <td>0.85554</td>\n",
       "    </tr>\n",
       "    <tr>\n",
       "      <th>10</th>\n",
       "      <td>NA20846</td>\n",
       "      <td>GIH</td>\n",
       "      <td>0.00710</td>\n",
       "      <td>0.04277</td>\n",
       "    </tr>\n",
       "    <tr>\n",
       "      <th>11</th>\n",
       "      <td>NA20847</td>\n",
       "      <td>GIH</td>\n",
       "      <td>0.00029</td>\n",
       "      <td>0.00006</td>\n",
       "    </tr>\n",
       "    <tr>\n",
       "      <th>0</th>\n",
       "      <td>NA18486</td>\n",
       "      <td>YRI</td>\n",
       "      <td>0.11199</td>\n",
       "      <td>0.20049</td>\n",
       "    </tr>\n",
       "    <tr>\n",
       "      <th>1</th>\n",
       "      <td>NA18488</td>\n",
       "      <td>YRI</td>\n",
       "      <td>0.00977</td>\n",
       "      <td>0.00143</td>\n",
       "    </tr>\n",
       "    <tr>\n",
       "      <th>2</th>\n",
       "      <td>NA18489</td>\n",
       "      <td>YRI</td>\n",
       "      <td>0.90533</td>\n",
       "      <td>0.36159</td>\n",
       "    </tr>\n",
       "  </tbody>\n",
       "</table>\n",
       "</div>"
      ],
      "text/plain": [
       "   Sample ID Population  p-value (Wilcoxon)  p-value (Binomial)\n",
       "6    NA06984        CEU             0.62660             0.58466\n",
       "7    NA06985        CEU             0.83724             0.85554\n",
       "8    NA06986        CEU             0.32519             0.58466\n",
       "3    NA18525        CHB             0.02522             0.36159\n",
       "4    NA18526        CHB             0.00008             0.00001\n",
       "5    NA18528        CHB             0.00052             0.00522\n",
       "9    NA20845        GIH             0.40513             0.85554\n",
       "10   NA20846        GIH             0.00710             0.04277\n",
       "11   NA20847        GIH             0.00029             0.00006\n",
       "0    NA18486        YRI             0.11199             0.20049\n",
       "1    NA18488        YRI             0.00977             0.00143\n",
       "2    NA18489        YRI             0.90533             0.36159"
      ]
     },
     "execution_count": 1,
     "metadata": {},
     "output_type": "execute_result"
    }
   ],
   "source": [
    "collapsed_rows = []\n",
    "print(test_indivs_1kg)\n",
    "for sampID in tqdm(test_indivs_1kg):\n",
    "    pop = pop_1kg_df[pop_1kg_df['sample'] == sampID]['pop'].values[0]\n",
    "    filt_df = rec_rate_corr_piA_piB[rec_rate_corr_piA_piB['MOD_ID'] == sampID]\n",
    "    if filt_df.size > 0:\n",
    "        df1 = filt_df[filt_df.ANC_ID == 'LBK']\n",
    "        df2 = filt_df[filt_df.ANC_ID == 'UstIshim']\n",
    "\n",
    "        _, _, pval_wilcoxon = sign_test_corr_piA_piB(df1['corr_piA_piB'], df2['corr_piA_piB'], test='wilcoxon')\n",
    "        _, stat, pval_binom = sign_test_corr_piA_piB(df1['corr_piA_piB'].values, df2['corr_piA_piB'].values, test='binom')\n",
    "        cur_row = [sampID, pop, np.round(pval_wilcoxon,5), np.round(pval_binom,5)]\n",
    "        collapsed_rows.append(cur_row)\n",
    "\n",
    "# testing this?\n",
    "df = pd.DataFrame(collapsed_rows)\n",
    "df.columns = ['Sample ID', 'Population','p-value (Wilcoxon)', 'p-value (Binomial)']\n",
    "df = df.sort_values('Population')\n",
    "df.to_csv('../../results/corr_seg_sites/pvals_LBK_UstIshim_1kg_indivs.csv', index=False)\n",
    "df"
   ]
  },
  {
   "cell_type": "code",
   "execution_count": 12,
   "metadata": {
    "execution": {
     "iopub.execute_input": "2021-06-16T17:36:51.231999Z",
     "iopub.status.busy": "2021-06-16T17:36:51.231382Z",
     "iopub.status.idle": "2021-06-16T17:36:51.255535Z",
     "shell.execute_reply": "2021-06-16T17:36:51.254871Z"
    }
   },
   "outputs": [],
   "source": [
    "test_indivs_ceu = rec_rate_corr_piA_piB[(rec_rate_corr_piA_piB['ANC_ID'] == 'NA06984')]['MOD_ID'].unique()"
   ]
  },
  {
   "cell_type": "code",
   "execution_count": 13,
   "metadata": {
    "execution": {
     "iopub.execute_input": "2021-06-16T17:36:51.263145Z",
     "iopub.status.busy": "2021-06-16T17:36:51.262459Z",
     "iopub.status.idle": "2021-06-16T17:36:51.700338Z",
     "shell.execute_reply": "2021-06-16T17:36:51.700912Z"
    }
   },
   "outputs": [
    {
     "name": "stderr",
     "output_type": "stream",
     "text": [
      "100%|█████████████████████████████████████████████████████████████████████████████| 99/99 [00:00<00:00, 247.75it/s]\n"
     ]
    },
    {
     "data": {
      "text/html": [
       "<div>\n",
       "<style scoped>\n",
       "    .dataframe tbody tr th:only-of-type {\n",
       "        vertical-align: middle;\n",
       "    }\n",
       "\n",
       "    .dataframe tbody tr th {\n",
       "        vertical-align: top;\n",
       "    }\n",
       "\n",
       "    .dataframe thead th {\n",
       "        text-align: right;\n",
       "    }\n",
       "</style>\n",
       "<table border=\"1\" class=\"dataframe\">\n",
       "  <thead>\n",
       "    <tr style=\"text-align: right;\">\n",
       "      <th></th>\n",
       "      <th>Sample ID</th>\n",
       "      <th>Population</th>\n",
       "      <th>p-value (Wilcoxon)</th>\n",
       "      <th>p-value (Binomial)</th>\n",
       "    </tr>\n",
       "  </thead>\n",
       "  <tbody>\n",
       "    <tr>\n",
       "      <th>0</th>\n",
       "      <td>NA06985</td>\n",
       "      <td>CEU</td>\n",
       "      <td>0.00001</td>\n",
       "      <td>0.00000</td>\n",
       "    </tr>\n",
       "    <tr>\n",
       "      <th>70</th>\n",
       "      <td>NA12748</td>\n",
       "      <td>CEU</td>\n",
       "      <td>0.01790</td>\n",
       "      <td>0.01612</td>\n",
       "    </tr>\n",
       "    <tr>\n",
       "      <th>69</th>\n",
       "      <td>NA12718</td>\n",
       "      <td>CEU</td>\n",
       "      <td>0.00000</td>\n",
       "      <td>0.00000</td>\n",
       "    </tr>\n",
       "    <tr>\n",
       "      <th>68</th>\n",
       "      <td>NA12717</td>\n",
       "      <td>CEU</td>\n",
       "      <td>0.00012</td>\n",
       "      <td>0.00006</td>\n",
       "    </tr>\n",
       "    <tr>\n",
       "      <th>67</th>\n",
       "      <td>NA12716</td>\n",
       "      <td>CEU</td>\n",
       "      <td>0.00005</td>\n",
       "      <td>0.00032</td>\n",
       "    </tr>\n",
       "    <tr>\n",
       "      <th>...</th>\n",
       "      <td>...</td>\n",
       "      <td>...</td>\n",
       "      <td>...</td>\n",
       "      <td>...</td>\n",
       "    </tr>\n",
       "    <tr>\n",
       "      <th>28</th>\n",
       "      <td>NA11932</td>\n",
       "      <td>CEU</td>\n",
       "      <td>0.00011</td>\n",
       "      <td>0.00001</td>\n",
       "    </tr>\n",
       "    <tr>\n",
       "      <th>27</th>\n",
       "      <td>NA11931</td>\n",
       "      <td>CEU</td>\n",
       "      <td>0.00002</td>\n",
       "      <td>0.00001</td>\n",
       "    </tr>\n",
       "    <tr>\n",
       "      <th>26</th>\n",
       "      <td>NA11930</td>\n",
       "      <td>CEU</td>\n",
       "      <td>0.00123</td>\n",
       "      <td>0.00143</td>\n",
       "    </tr>\n",
       "    <tr>\n",
       "      <th>24</th>\n",
       "      <td>NA11919</td>\n",
       "      <td>CEU</td>\n",
       "      <td>0.00123</td>\n",
       "      <td>0.00522</td>\n",
       "    </tr>\n",
       "    <tr>\n",
       "      <th>97</th>\n",
       "      <td>NA12890</td>\n",
       "      <td>CEU</td>\n",
       "      <td>0.00003</td>\n",
       "      <td>0.00006</td>\n",
       "    </tr>\n",
       "  </tbody>\n",
       "</table>\n",
       "<p>98 rows × 4 columns</p>\n",
       "</div>"
      ],
      "text/plain": [
       "   Sample ID Population  p-value (Wilcoxon)  p-value (Binomial)\n",
       "0    NA06985        CEU             0.00001             0.00000\n",
       "70   NA12748        CEU             0.01790             0.01612\n",
       "69   NA12718        CEU             0.00000             0.00000\n",
       "68   NA12717        CEU             0.00012             0.00006\n",
       "67   NA12716        CEU             0.00005             0.00032\n",
       "..       ...        ...                 ...                 ...\n",
       "28   NA11932        CEU             0.00011             0.00001\n",
       "27   NA11931        CEU             0.00002             0.00001\n",
       "26   NA11930        CEU             0.00123             0.00143\n",
       "24   NA11919        CEU             0.00123             0.00522\n",
       "97   NA12890        CEU             0.00003             0.00006\n",
       "\n",
       "[98 rows x 4 columns]"
      ]
     },
     "execution_count": 1,
     "metadata": {},
     "output_type": "execute_result"
    }
   ],
   "source": [
    "collapsed_rows = []\n",
    "# print(test_indivs_ceu)\n",
    "for sampID in tqdm(test_indivs_ceu):\n",
    "    if sampID != 'NA06984':\n",
    "        pop = pop_1kg_df[pop_1kg_df['sample'] == sampID]['pop'].values[0]\n",
    "        filt_df = rec_rate_corr_piA_piB[rec_rate_corr_piA_piB['MOD_ID'] == sampID]\n",
    "        if filt_df.size > 0:\n",
    "            df1 = filt_df[filt_df.ANC_ID == 'NA06984']\n",
    "            df2 = filt_df[filt_df.ANC_ID == 'UstIshim']\n",
    "            _, _, pval_wilcoxon = sign_test_corr_piA_piB(df1['corr_piA_piB'], df2['corr_piA_piB'], test='wilcoxon')\n",
    "            _, stat, pval_binom = sign_test_corr_piA_piB(df1['corr_piA_piB'].values, df2['corr_piA_piB'].values, test='binom')\n",
    "            cur_row = [sampID, pop, np.round(pval_wilcoxon,5), np.round(pval_binom,5)]\n",
    "            collapsed_rows.append(cur_row)\n",
    "\n",
    "# testing this?\n",
    "df = pd.DataFrame(collapsed_rows)\n",
    "df.columns = ['Sample ID', 'Population','p-value (Wilcoxon)', 'p-value (Binomial)']\n",
    "df = df.sort_values('Population')\n",
    "df.to_csv('../../results/corr_seg_sites/pvals_NA06984_UstIshim_1kg_indivs.csv', index=False)\n",
    "df"
   ]
  }
 ],
 "metadata": {
  "kernelspec": {
   "display_name": "Python 3",
   "language": "python",
   "name": "python3"
  },
  "language_info": {
   "codemirror_mode": {
    "name": "ipython",
    "version": 3
   },
   "file_extension": ".py",
   "mimetype": "text/x-python",
   "name": "python",
   "nbconvert_exporter": "python",
   "pygments_lexer": "ipython3",
   "version": "3.7.5"
  }
 },
 "nbformat": 4,
 "nbformat_minor": 4
}
