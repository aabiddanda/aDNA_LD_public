{
 "cells": [
  {
   "cell_type": "code",
   "execution_count": 1,
   "metadata": {},
   "outputs": [
    {
     "ename": "ModuleNotFoundError",
     "evalue": "No module named 'pyranges'",
     "output_type": "error",
     "traceback": [
      "\u001b[0;31m---------------------------------------------------------------------------\u001b[0m",
      "\u001b[0;31mModuleNotFoundError\u001b[0m                       Traceback (most recent call last)",
      "\u001b[0;32m<ipython-input-1-78f20e38b001>\u001b[0m in \u001b[0;36m<module>\u001b[0;34m\u001b[0m\n\u001b[1;32m      9\u001b[0m \u001b[0;32mimport\u001b[0m \u001b[0msys\u001b[0m\u001b[0;34m\u001b[0m\u001b[0m\n\u001b[1;32m     10\u001b[0m \u001b[0msys\u001b[0m\u001b[0;34m.\u001b[0m\u001b[0mpath\u001b[0m\u001b[0;34m.\u001b[0m\u001b[0minsert\u001b[0m\u001b[0;34m(\u001b[0m\u001b[0;36m0\u001b[0m\u001b[0;34m,\u001b[0m \u001b[0;34m'../../src/'\u001b[0m\u001b[0;34m)\u001b[0m\u001b[0;34m\u001b[0m\u001b[0m\n\u001b[0;32m---> 11\u001b[0;31m \u001b[0;32mfrom\u001b[0m \u001b[0mseg_sites_covar\u001b[0m \u001b[0;32mimport\u001b[0m \u001b[0;34m*\u001b[0m\u001b[0;34m\u001b[0m\u001b[0m\n\u001b[0m\u001b[1;32m     12\u001b[0m \u001b[0;32mfrom\u001b[0m \u001b[0mcoal_cov\u001b[0m \u001b[0;32mimport\u001b[0m \u001b[0mTwoLocusSimulation\u001b[0m\u001b[0;34m,\u001b[0m \u001b[0mTwoLocusTheoryConstant\u001b[0m\u001b[0;34m\u001b[0m\u001b[0m\n\u001b[1;32m     13\u001b[0m \u001b[0;32mfrom\u001b[0m \u001b[0mfit_corr_segsites\u001b[0m \u001b[0;32mimport\u001b[0m \u001b[0;34m*\u001b[0m\u001b[0;34m\u001b[0m\u001b[0m\n",
      "\u001b[0;32m~/Repos/aDNA_LD_public/src/seg_sites_covar.py\u001b[0m in \u001b[0;36m<module>\u001b[0;34m\u001b[0m\n\u001b[1;32m      4\u001b[0m \u001b[0;32mimport\u001b[0m \u001b[0mnumpy\u001b[0m \u001b[0;32mas\u001b[0m \u001b[0mnp\u001b[0m\u001b[0;34m\u001b[0m\u001b[0m\n\u001b[1;32m      5\u001b[0m \u001b[0;32mimport\u001b[0m \u001b[0mnumpy\u001b[0m\u001b[0;34m.\u001b[0m\u001b[0mma\u001b[0m \u001b[0;32mas\u001b[0m \u001b[0mma\u001b[0m\u001b[0;34m\u001b[0m\u001b[0m\n\u001b[0;32m----> 6\u001b[0;31m \u001b[0;32mimport\u001b[0m \u001b[0mpyranges\u001b[0m\u001b[0;34m\u001b[0m\u001b[0m\n\u001b[0m\u001b[1;32m      7\u001b[0m \u001b[0;32mfrom\u001b[0m \u001b[0mpyranges\u001b[0m \u001b[0;32mimport\u001b[0m \u001b[0mPyRanges\u001b[0m\u001b[0;34m\u001b[0m\u001b[0m\n\u001b[1;32m      8\u001b[0m \u001b[0;32mfrom\u001b[0m \u001b[0mscipy\u001b[0m \u001b[0;32mimport\u001b[0m \u001b[0minterpolate\u001b[0m\u001b[0;34m\u001b[0m\u001b[0m\n",
      "\u001b[0;31mModuleNotFoundError\u001b[0m: No module named 'pyranges'"
     ]
    }
   ],
   "source": [
    "# Exploring the covariance in segregating sites\n",
    "import numpy as np \n",
    "import matplotlib.pyplot as plt\n",
    "import pandas as pd\n",
    "import warnings\n",
    "warnings.filterwarnings('ignore')\n",
    "\n",
    "# Import the relevant functions / custom classes\n",
    "import sys \n",
    "sys.path.insert(0, '../../src/')\n",
    "from seg_sites_covar import *\n",
    "from coal_cov import TwoLocusSimulation, TwoLocusTheoryConstant\n",
    "from fit_corr_segsites import *\n",
    "from plot_utils import *\n",
    "\n",
    "import os\n",
    "from tqdm import tqdm\n",
    "from glob import glob\n",
    "\n",
    "%load_ext autoreload\n",
    "%autoreload 2"
   ]
  },
  {
   "cell_type": "code",
   "execution_count": null,
   "metadata": {},
   "outputs": [],
   "source": [
    "plt.rcParams['font.sans-serif'] = \"Arial\"\n",
    "plt.rcParams['figure.facecolor'] = \"w\"\n",
    "plt.rcParams['figure.autolayout'] = True\n",
    "from mpl_toolkits.axes_grid1 import make_axes_locatable\n",
    "    \n",
    "main_figdir = '../../plots/two_locus_stats/corrSASB_realdata/'\n",
    "supp_figdir = '../../plots/supp_figs/two_locus_stats/corrSASB_realdata/'\n",
    "os.makedirs(main_figdir, exist_ok=True)\n",
    "os.makedirs(supp_figdir, exist_ok=True)\n",
    "\n",
    "%matplotlib inline"
   ]
  },
  {
   "cell_type": "markdown",
   "metadata": {},
   "source": [
    "# Monte-Carlo Estimation for Haploid Samples"
   ]
  },
  {
   "cell_type": "code",
   "execution_count": null,
   "metadata": {},
   "outputs": [],
   "source": [
    "# Reading in the data\n",
    "rec_rate_corr_piA_piB = pd.read_csv('../../results/corr_seg_sites/monte_carlo_est_LBK_UstIshim.csv')\n",
    "rec_rate_corr_piA_piB.head()"
   ]
  },
  {
   "cell_type": "code",
   "execution_count": null,
   "metadata": {},
   "outputs": [],
   "source": [
    "# Reading in a lot of VCF\n",
    "pop_1kg_df = pd.read_table('../../data/raw_data/1kg_panel/integrated_call_samples_v3.20130502.ALL.panel')\n",
    "\n",
    "test_yri_1kg = pop_1kg_df[pop_1kg_df['pop'] == 'YRI']['sample'].values[:3]\n",
    "test_chb_1kg = pop_1kg_df[pop_1kg_df['pop'] == 'CHB']['sample'].values[:3]\n",
    "test_ceu_1kg = pop_1kg_df[pop_1kg_df['pop'] == 'CEU']['sample'].values[:3]\n",
    "test_gih_1kg = pop_1kg_df[pop_1kg_df['pop'] == 'GIH']['sample'].values[:3] \n",
    "test_indivs_1kg = np.hstack([test_yri_1kg, test_chb_1kg, test_ceu_1kg, test_gih_1kg])"
   ]
  },
  {
   "cell_type": "code",
   "execution_count": null,
   "metadata": {},
   "outputs": [],
   "source": [
    "mod_1kg = 'NA12383'\n",
    "anc_ids = ['LBK', 'UstIshim']"
   ]
  },
  {
   "cell_type": "code",
   "execution_count": null,
   "metadata": {},
   "outputs": [],
   "source": [
    "fig, ax = plt.subplots(1,1,figsize=(5,3))\n",
    "axins = ax.inset_axes([0.5, 0.6, 0.47, 0.4])\n",
    "\n",
    "# Make theory blue and orange ... \n",
    "colors = ['blue', 'orange']\n",
    "idx = 0\n",
    "for x in anc_ids:\n",
    "    cur_df = rec_rate_corr_piA_piB[(rec_rate_corr_piA_piB['ANC_ID'] == x) & (rec_rate_corr_piA_piB['MOD_ID'] == mod_1kg)]\n",
    "    ax.errorbar(cur_df.rec_rate_mean, cur_df.corr_piA_piB, \n",
    "                xerr=2*cur_df.rec_rate_se, yerr=2*cur_df.se_corr_piA_piB, \n",
    "                capsize=2, alpha=0.75, color=colors[idx], label=r'%s' % anc_ids[idx]) \n",
    "    axins.errorbar(cur_df.rec_rate_mean, cur_df.corr_piA_piB, \n",
    "                   xerr=2*cur_df.rec_rate_se, yerr=2*cur_df.se_corr_piA_piB,\n",
    "                   capsize=2, alpha=0.75, color=colors[idx]) \n",
    "    idx += 1\n",
    "    \n",
    "    \n",
    "# Use wattersons estimator on a sample of size 3? \n",
    "Ne = 1e4\n",
    "gen_time = 30.\n",
    "rec_rates = np.logspace(-5, -3, 1000)\n",
    "idx = 0\n",
    "for t in [7e3/gen_time, 45e3/gen_time]:\n",
    "    corrs_test1 = TwoLocusTheoryConstant._corrSASB(4*Ne*rec_rates, ta=t/Ne/2, theta=4*Ne*1e3*1.2e-8)\n",
    "    ax.plot(rec_rates, corrs_test1, lw=2, zorder=-1, color=colors[idx], label=r'Theory ($t_a$ = %d gen)' % t)\n",
    "    axins.plot(rec_rates, corrs_test1, lw=2, zorder=-1, color=colors[idx], label=r'Theory ($t_a$ = %d gen)' % t)\n",
    "    idx += 1\n",
    "    \n",
    "# sub region of the original image\n",
    "x1, x2, y1, y2 = 5e-5, 3e-4, 0.025, 0.1\n",
    "axins.set_xlim(x1, x2)\n",
    "axins.set_ylim(y1, y2)\n",
    "axins.set_xticklabels('')\n",
    "axins.set_yticklabels('')\n",
    "ax.indicate_inset_zoom(axins, label='')  \n",
    "    \n",
    "ax.legend(loc=3, fontsize=10, handletextpad=0.1);    \n",
    "ax.set_xscale('log')\n",
    "ax.axhline(y=0., linestyle='--', color='black')   \n",
    "ax.set_xlabel(r'Morgans', fontsize=14)\n",
    "ax.set_ylabel(r'$Corr(\\pi_A,\\pi_B)$', fontsize=14)\n",
    "debox(ax);\n",
    "plt.savefig(supp_figdir + 'ceu_ustishim_LBK_single_CEU.pdf', dpi=300, bbox_inches='tight')"
   ]
  },
  {
   "cell_type": "code",
   "execution_count": null,
   "metadata": {},
   "outputs": [],
   "source": [
    "# # Computing signed test statistics for this calculation ...  \n",
    "# _,_, pval_binom = sign_test_corrSASB(corr_haploid_test_gallery[0], corr_haploid_test_gallery[1], test='binom')\n",
    "# _,_, pval_wilcoxon = sign_test_corrSASB(corr_haploid_test_gallery[0], corr_haploid_test_gallery[1], test='wilcoxon')\n",
    "\n",
    "# pval_binom, pval_wilcoxon"
   ]
  },
  {
   "cell_type": "markdown",
   "metadata": {},
   "source": [
    "# Averaging over many modern CEU samples"
   ]
  },
  {
   "cell_type": "code",
   "execution_count": null,
   "metadata": {},
   "outputs": [],
   "source": [
    "fig, ax = plt.subplots(1,1,figsize=(5,3))\n",
    "axins = ax.inset_axes([0.5, 0.6, 0.47, 0.4])\n",
    "\n",
    "test_ceu_1kg = pop_1kg_df[pop_1kg_df['pop'] == 'CEU']['sample'].values\n",
    "anc_ids = ['LBK', 'UstIshim']\n",
    "\n",
    "# Make theory blue and orange ... \n",
    "colors = ['blue', 'orange']\n",
    "idx = 0\n",
    "for a in anc_ids:\n",
    "    # Getting the \n",
    "    cur_df_test = rec_rate_corr_piA_piB[(rec_rate_corr_piA_piB.ANC_ID == a) & (np.isin(rec_rate_corr_piA_piB.MOD_ID,test_ceu_1kg))]\n",
    "    rec_rate_mean = [df_region.rec_rate_mean.values for _, df_region in cur_df_test.groupby('MOD_ID')]\n",
    "    corr_piA_piB = [df_region.corr_piA_piB.values for _, df_region in cur_df_test.groupby('MOD_ID')]\n",
    "    \n",
    "    mean_rec_rates = np.vstack(rec_rate_mean)\n",
    "    mean_corr_s1_s2 = np.vstack(corr_piA_piB)\n",
    "    \n",
    "    ax.errorbar(np.mean(mean_rec_rates, axis=0), np.mean(mean_corr_s1_s2,axis=0),\n",
    "                xerr=2*np.std(mean_rec_rates, axis=0), yerr=2*np.std(mean_corr_s1_s2, axis=0), \n",
    "                capsize=2, alpha=0.75, color=colors[idx], label=r'%s' % a) \n",
    "\n",
    "    axins.errorbar(np.mean(mean_rec_rates,axis=0), np.mean(mean_corr_s1_s2,axis=0), \n",
    "                xerr=2*np.std(mean_rec_rates,axis=0), yerr=2*np.std(mean_corr_s1_s2, axis=0), \n",
    "                capsize=2, alpha=0.75, color=colors[idx], label=r'%s' % a) \n",
    "    idx += 1\n",
    "    \n",
    "\n",
    "Ne = 1e4\n",
    "gen_time = 30.\n",
    "rec_rates = np.logspace(-5, -3, 1000)\n",
    "idx = 0\n",
    "for t in [7e3/gen_time, 45e3/gen_time]:\n",
    "    corrs_test1 = TwoLocusTheoryConstant._corrSASB(4*Ne*rec_rates, ta=t/Ne/2, theta=4*Ne*1e3*1.2e-8)\n",
    "    ax.plot(rec_rates, corrs_test1, lw=2, zorder=-1, color=colors[idx], label=r'Theory ($t_a$ = %d gen)' % t)\n",
    "    axins.plot(rec_rates, corrs_test1, lw=2, zorder=-1, color=colors[idx], label=r'Theory ($t_a$ = %d gen)' % t)\n",
    "    idx += 1\n",
    "    \n",
    "# sub region of the original image\n",
    "x1, x2, y1, y2 = 5e-5, 3e-4, 0.025, 0.1\n",
    "axins.set_xlim(x1, x2)\n",
    "axins.set_ylim(y1, y2)\n",
    "axins.set_xticklabels('')\n",
    "axins.set_yticklabels('')\n",
    "ax.indicate_inset_zoom(axins, label='')  \n",
    "    \n",
    "ax.legend(loc=3, fontsize=8, handletextpad=0.01);    \n",
    "ax.set_xscale('log')\n",
    "# ax.axhline(y=0., linestyle='--', color='black')   \n",
    "ax.set_xlabel(r'Morgans', fontsize=14)\n",
    "ax.set_ylabel(r'$Corr(\\pi_A,\\pi_B)$', fontsize=14); debox(ax);\n",
    "plt.savefig(main_figdir + 'ceu_ustishim_LBK_trial_all_ceu_samples.pdf', dpi=300, bbox_inches='tight')"
   ]
  }
 ],
 "metadata": {
  "kernelspec": {
   "display_name": "Python 3",
   "language": "python",
   "name": "python3"
  },
  "language_info": {
   "codemirror_mode": {
    "name": "ipython",
    "version": 3
   },
   "file_extension": ".py",
   "mimetype": "text/x-python",
   "name": "python",
   "nbconvert_exporter": "python",
   "pygments_lexer": "ipython3",
   "version": "3.7.0"
  }
 },
 "nbformat": 4,
 "nbformat_minor": 4
}
