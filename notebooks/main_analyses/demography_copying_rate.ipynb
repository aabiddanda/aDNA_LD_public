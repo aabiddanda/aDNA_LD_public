{
 "cells": [
  {
   "cell_type": "code",
   "execution_count": 1,
   "metadata": {
    "execution": {
     "iopub.execute_input": "2021-05-02T11:06:53.427974Z",
     "iopub.status.busy": "2021-05-02T11:06:53.426715Z",
     "iopub.status.idle": "2021-05-02T11:06:55.217470Z",
     "shell.execute_reply": "2021-05-02T11:06:55.218156Z"
    }
   },
   "outputs": [],
   "source": [
    "import numpy as np \n",
    "import matplotlib.pyplot as plt\n",
    "import msprime as msp\n",
    "import pandas as pd\n",
    "\n",
    "import statsmodels.api as sm\n",
    "lowess = sm.nonparametric.lowess\n",
    "\n",
    "import os\n",
    "import sys\n",
    "sys.path.append('../../src/')\n",
    "from draw_demography import *\n",
    "from plot_utils import *\n",
    "\n",
    "%matplotlib inline\n",
    "%load_ext autoreload\n",
    "%autoreload 2"
   ]
  },
  {
   "cell_type": "code",
   "execution_count": 2,
   "metadata": {
    "execution": {
     "iopub.execute_input": "2021-05-02T11:06:55.223552Z",
     "iopub.status.busy": "2021-05-02T11:06:55.222917Z",
     "iopub.status.idle": "2021-05-02T11:06:55.256198Z",
     "shell.execute_reply": "2021-05-02T11:06:55.255275Z"
    }
   },
   "outputs": [],
   "source": [
    "plt.rcParams['font.sans-serif'] = \"Arial\"\n",
    "plt.rcParams['figure.facecolor'] = \"w\"\n",
    "plt.rcParams['figure.autolayout'] = True\n",
    "plt.rcParams['pdf.fonttype'] = 3\n",
    "from mpl_toolkits.axes_grid1 import make_axes_locatable\n",
    "\n",
    "main_figdir = '../../plots/hap_copying/'\n",
    "supp_figdir = '../../plots/supp_figs/hap_copying/'\n",
    "os.makedirs(main_figdir, exist_ok=True)\n",
    "os.makedirs(supp_figdir, exist_ok=True)"
   ]
  },
  {
   "cell_type": "code",
   "execution_count": 3,
   "metadata": {
    "execution": {
     "iopub.execute_input": "2021-05-02T11:06:55.262166Z",
     "iopub.status.busy": "2021-05-02T11:06:55.260552Z",
     "iopub.status.idle": "2021-05-02T11:06:55.323363Z",
     "shell.execute_reply": "2021-05-02T11:06:55.324071Z"
    }
   },
   "outputs": [
    {
     "data": {
      "text/html": [
       "<div>\n",
       "<style scoped>\n",
       "    .dataframe tbody tr th:only-of-type {\n",
       "        vertical-align: middle;\n",
       "    }\n",
       "\n",
       "    .dataframe tbody tr th {\n",
       "        vertical-align: top;\n",
       "    }\n",
       "\n",
       "    .dataframe thead th {\n",
       "        text-align: right;\n",
       "    }\n",
       "</style>\n",
       "<table border=\"1\" class=\"dataframe\">\n",
       "  <thead>\n",
       "    <tr style=\"text-align: right;\">\n",
       "      <th></th>\n",
       "      <th>scenario</th>\n",
       "      <th>Ne</th>\n",
       "      <th>scale_marginal</th>\n",
       "      <th>se_scale_marginal</th>\n",
       "      <th>se_scale_marginal_fd</th>\n",
       "      <th>scale_jt</th>\n",
       "      <th>eps_jt</th>\n",
       "      <th>se_scale_jt</th>\n",
       "      <th>se_eps_jt</th>\n",
       "      <th>n_panel</th>\n",
       "      <th>n_snps</th>\n",
       "      <th>ta</th>\n",
       "      <th>min_maf</th>\n",
       "      <th>seed</th>\n",
       "    </tr>\n",
       "  </thead>\n",
       "  <tbody>\n",
       "    <tr>\n",
       "      <th>0</th>\n",
       "      <td>SerialConstant</td>\n",
       "      <td>20000</td>\n",
       "      <td>1425.139220</td>\n",
       "      <td>6.521708</td>\n",
       "      <td>6.487378</td>\n",
       "      <td>1000.158749</td>\n",
       "      <td>0.004726</td>\n",
       "      <td>42.592458</td>\n",
       "      <td>0.000034</td>\n",
       "      <td>100.0</td>\n",
       "      <td>199066.0</td>\n",
       "      <td>20.0</td>\n",
       "      <td>1</td>\n",
       "      <td>1</td>\n",
       "    </tr>\n",
       "    <tr>\n",
       "      <th>1</th>\n",
       "      <td>SerialConstant</td>\n",
       "      <td>20000</td>\n",
       "      <td>1257.158092</td>\n",
       "      <td>6.068907</td>\n",
       "      <td>6.077972</td>\n",
       "      <td>1000.097638</td>\n",
       "      <td>0.004175</td>\n",
       "      <td>30.762464</td>\n",
       "      <td>0.000035</td>\n",
       "      <td>100.0</td>\n",
       "      <td>199066.0</td>\n",
       "      <td>40.0</td>\n",
       "      <td>1</td>\n",
       "      <td>1</td>\n",
       "    </tr>\n",
       "    <tr>\n",
       "      <th>2</th>\n",
       "      <td>SerialConstant</td>\n",
       "      <td>20000</td>\n",
       "      <td>1131.697909</td>\n",
       "      <td>5.691320</td>\n",
       "      <td>5.707964</td>\n",
       "      <td>1000.050826</td>\n",
       "      <td>0.003479</td>\n",
       "      <td>20.526857</td>\n",
       "      <td>0.000028</td>\n",
       "      <td>100.0</td>\n",
       "      <td>199066.0</td>\n",
       "      <td>60.0</td>\n",
       "      <td>1</td>\n",
       "      <td>1</td>\n",
       "    </tr>\n",
       "    <tr>\n",
       "      <th>3</th>\n",
       "      <td>SerialConstant</td>\n",
       "      <td>20000</td>\n",
       "      <td>1396.956127</td>\n",
       "      <td>6.485220</td>\n",
       "      <td>6.455229</td>\n",
       "      <td>1000.191450</td>\n",
       "      <td>0.005472</td>\n",
       "      <td>42.799067</td>\n",
       "      <td>0.000036</td>\n",
       "      <td>100.0</td>\n",
       "      <td>199066.0</td>\n",
       "      <td>80.0</td>\n",
       "      <td>1</td>\n",
       "      <td>1</td>\n",
       "    </tr>\n",
       "    <tr>\n",
       "      <th>4</th>\n",
       "      <td>SerialConstant</td>\n",
       "      <td>20000</td>\n",
       "      <td>1302.845259</td>\n",
       "      <td>6.185797</td>\n",
       "      <td>6.181666</td>\n",
       "      <td>1000.108167</td>\n",
       "      <td>0.004269</td>\n",
       "      <td>33.093261</td>\n",
       "      <td>0.000037</td>\n",
       "      <td>100.0</td>\n",
       "      <td>199066.0</td>\n",
       "      <td>100.0</td>\n",
       "      <td>1</td>\n",
       "      <td>1</td>\n",
       "    </tr>\n",
       "  </tbody>\n",
       "</table>\n",
       "</div>"
      ],
      "text/plain": [
       "         scenario     Ne  scale_marginal  se_scale_marginal  \\\n",
       "0  SerialConstant  20000     1425.139220           6.521708   \n",
       "1  SerialConstant  20000     1257.158092           6.068907   \n",
       "2  SerialConstant  20000     1131.697909           5.691320   \n",
       "3  SerialConstant  20000     1396.956127           6.485220   \n",
       "4  SerialConstant  20000     1302.845259           6.185797   \n",
       "\n",
       "   se_scale_marginal_fd     scale_jt    eps_jt  se_scale_jt  se_eps_jt  \\\n",
       "0              6.487378  1000.158749  0.004726    42.592458   0.000034   \n",
       "1              6.077972  1000.097638  0.004175    30.762464   0.000035   \n",
       "2              5.707964  1000.050826  0.003479    20.526857   0.000028   \n",
       "3              6.455229  1000.191450  0.005472    42.799067   0.000036   \n",
       "4              6.181666  1000.108167  0.004269    33.093261   0.000037   \n",
       "\n",
       "   n_panel    n_snps     ta  min_maf  seed  \n",
       "0    100.0  199066.0   20.0        1     1  \n",
       "1    100.0  199066.0   40.0        1     1  \n",
       "2    100.0  199066.0   60.0        1     1  \n",
       "3    100.0  199066.0   80.0        1     1  \n",
       "4    100.0  199066.0  100.0        1     1  "
      ]
     },
     "execution_count": 1,
     "metadata": {},
     "output_type": "execute_result"
    }
   ],
   "source": [
    "# Reading in the CSV with all of the simulation results\n",
    "hap_copy_sim_df = pd.read_csv('../../results/hap_copying/simulations/jump_rate_est_sims.csv')\n",
    "hap_copy_sim_df.head()"
   ]
  },
  {
   "cell_type": "code",
   "execution_count": 4,
   "metadata": {
    "execution": {
     "iopub.execute_input": "2021-05-02T11:06:55.334069Z",
     "iopub.status.busy": "2021-05-02T11:06:55.332613Z",
     "iopub.status.idle": "2021-05-02T11:06:55.362031Z",
     "shell.execute_reply": "2021-05-02T11:06:55.362696Z"
    }
   },
   "outputs": [],
   "source": [
    "def plot_bot_demo(ax, N0=1e4, T_bot=100, b=0.1, **kwargs):\n",
    "    \"\"\"Plot bottleneck demography\n",
    "    \"\"\"\n",
    "    xs = np.arange(0, int(10*T_bot))\n",
    "    ns = np.repeat(N0, xs.size)\n",
    "    ns[T_bot:] = N0*b\n",
    "    ax.plot(xs,ns, **kwargs)\n",
    "    \n",
    "from scipy.stats import linregress \n",
    "def split_regression(x,y,split=400):\n",
    "    \"\"\"Perform linear regression using datapoints split on X (pre-post bottleneck)\n",
    "    \"\"\"\n",
    "    idx = (x < split)\n",
    "    return(linregress(x[idx], y[idx]), linregress(x[~idx],y[~idx]))\n",
    "\n",
    "def rand_jitter(arr, seed=42):\n",
    "    \"\"\"Randomized jitter for a value.\"\"\"\n",
    "    np.random.seed(seed);\n",
    "    stdev = .01 * (max(arr) - min(arr))\n",
    "    return arr + np.random.randn(len(arr)) * stdev"
   ]
  },
  {
   "cell_type": "code",
   "execution_count": 5,
   "metadata": {
    "execution": {
     "iopub.execute_input": "2021-05-02T11:06:55.367764Z",
     "iopub.status.busy": "2021-05-02T11:06:55.366712Z",
     "iopub.status.idle": "2021-05-02T11:06:57.639658Z",
     "shell.execute_reply": "2021-05-02T11:06:57.640295Z"
    }
   },
   "outputs": [
    {
     "data": {
      "image/png": "[encoded data removed]",
      "text/plain": [
       "<Figure size 504x288 with 6 Axes>"
      ]
     },
     "metadata": {},
     "output_type": "display_data"
    }
   ],
   "source": [
    "# Generating a finalized figure \n",
    "fig, axs = plt.subplots(2,3, figsize=(7,4), \n",
    "                        sharex='col', tight_layout=True)\n",
    "\n",
    "Nes = [20000, 10000, 5000]\n",
    "# Plotting the constants\n",
    "colors=['blue', 'orange', 'green']\n",
    "i = 0\n",
    "for n in Nes:\n",
    "    axs[0,0].axhline(n, color=colors[i], lw=3)\n",
    "    filt_df = hap_copy_sim_df[(hap_copy_sim_df.scenario == 'SerialConstant') & (hap_copy_sim_df.Ne == n)]\n",
    "    # NOTE : we should plot these with error bars and some jitter?\n",
    "#     axs[0,1].scatter(filt_df['ta'].values, filt_df['scale_marginal'].values, color=colors[i], s=10)\n",
    "    axs[1,0].errorbar(rand_jitter(filt_df['ta'].values), \n",
    "                     filt_df['scale_marginal'].values, \n",
    "                     yerr=2*filt_df['se_scale_marginal_fd'].values,\n",
    "                     capsize=2, color=colors[i], linestyle='none', alpha=0.25)\n",
    "    \n",
    "    z = lowess(filt_df['scale_marginal'].values, filt_df['ta'].values, frac=1/2)\n",
    "    axs[1,0].plot(z[:,0], z[:,1], color=colors[i], lw=3, linestyle='--')\n",
    "    \n",
    "    axs[0,0].set_xlim(0,510)\n",
    "    i += 1\n",
    "    \n",
    "    \n",
    "# Plotting the tennessen and IBDNE demography\n",
    "tennessen_df = hap_copy_sim_df[(hap_copy_sim_df.scenario == 'TennessenEuropean')]\n",
    "ibdne_uk10k_df = hap_copy_sim_df[hap_copy_sim_df.scenario == 'IBDNeUK10K']\n",
    "\n",
    "axs[1,1].errorbar(tennessen_df['ta'].values, \n",
    "                  tennessen_df['scale_marginal'].values, \n",
    "                  yerr=2*tennessen_df['se_scale_marginal_fd'], \n",
    "                  capsize=2, color=colors[0], linestyle='none', alpha=0.25)\n",
    "\n",
    "z = lowess(tennessen_df['scale_marginal'].values, tennessen_df['ta'].values, frac=1/2)\n",
    "axs[1,1].plot(z[:,0], z[:,1], color=colors[0], lw=3, linestyle='--')\n",
    "\n",
    "\n",
    "axs[1,1].errorbar(ibdne_uk10k_df['ta'].values, \n",
    "                  ibdne_uk10k_df['scale_marginal'].values, \n",
    "                  yerr=2*ibdne_uk10k_df['se_scale_marginal_fd'], \n",
    "                  capsize=2, color=colors[1], linestyle='none', alpha=0.25)\n",
    "\n",
    "z = lowess(ibdne_uk10k_df['scale_marginal'].values, ibdne_uk10k_df['ta'].values, frac=1/2)\n",
    "axs[1,1].plot(z[:,0], z[:,1], color=colors[1], lw=3, linestyle='--')\n",
    "\n",
    "demo_model1_file = {'Tennessen et al (2012)': '../../data/demo_models/tennessen_european.txt', \n",
    "                    'IBDNe UK10K (2015)': '../../data/demo_models/uk10k.IBDNe.txt'}\n",
    "i = 0\n",
    "for x in demo_model1_file:\n",
    "    _,demo = read_demography(demo_model1_file[x])\n",
    "    t,nt = generate_demography(demo)\n",
    "    axs[0,1].plot(t,nt,lw=3,label=x, color=colors[i])\n",
    "    i += 1\n",
    "axs[0,1].set_yscale('log')\n",
    "axs[0,1].set_ylim(1e1,1e7)\n",
    "axs[0,1].set_xlim(0,510)\n",
    "axs[0,1].legend(fontsize=8)\n",
    "    \n",
    "\n",
    "# Plotting the instant bottlenecks\n",
    "n_bot = 0.0001\n",
    "t_bot = [100,200,400]\n",
    "nuniq = np.unique(t_bot).size\n",
    "i = 0\n",
    "scenarios = ['SerialBottleneckInstant7', 'SerialBottleneckInstant8', 'SerialBottleneckInstant9']\n",
    "for t in np.unique(t_bot):\n",
    "    x = scenarios[i]\n",
    "    filt_instant_bot_df = hap_copy_sim_df[hap_copy_sim_df.scenario == x]\n",
    "    reg_res_pre_bot, reg_res_post_bot = split_regression(filt_instant_bot_df.ta, filt_instant_bot_df.scale_jt, split=t)\n",
    "    \n",
    "    # Plot separately in case things blow up...\n",
    "    idx = (filt_instant_bot_df.ta < t)\n",
    "    axs[1,2].errorbar(filt_instant_bot_df.ta.values[idx], \n",
    "                      filt_instant_bot_df.scale_jt.values[idx], \n",
    "                      yerr=2*filt_instant_bot_df.se_scale_marginal_fd.values[idx],\n",
    "                      color=colors[i], linestyle='none', capsize=2, alpha=0.25)\n",
    "    axs[1,2].errorbar(filt_instant_bot_df.ta.values[~idx], filt_instant_bot_df.scale_jt.values[~idx],\n",
    "                      yerr=2*filt_instant_bot_df.se_scale_marginal_fd.values[~idx], \n",
    "                      linestyle='none', capsize=2, color=colors[i], alpha=0.25)\n",
    "    \n",
    "    \n",
    "    beta = reg_res_pre_bot.slope\n",
    "    x_test_pre_bot = np.arange(0,t)\n",
    "    y_test_pre_bot = reg_res_pre_bot.slope*x_test_pre_bot + reg_res_pre_bot.intercept\n",
    "    axs[1,2].plot(x_test_pre_bot, y_test_pre_bot, linestyle='--', color='black')\n",
    "    \n",
    "    plot_bot_demo(axs[0,2], T_bot=t, N0=1000000, b=n_bot, color=colors[i], lw=3)\n",
    "    i += 1\n",
    "    \n",
    "axs[0,2].set_xlim(0,510)\n",
    "axs[0,2].set_ylim(1e1,1e7)\n",
    "axs[1,2].set_ylim(1e1,1e3)\n",
    "axs[0,2].set_yscale('log')\n",
    "\n",
    "\n",
    "axs[1,1].set_ylim(100,1250)\n",
    "axs[1,2].set_ylim(100,1250)\n",
    "\n",
    "\n",
    "# Debox all of these plots\n",
    "for ax in axs:\n",
    "    debox_all(ax)\n",
    "\n",
    "# Label the multiple panels\n",
    "label_multipanel(axs[0,:], ['A','B','C'], yoff=1.2, fontsize=14, fontweight='bold', va='top', ha='right')\n",
    "  \n",
    "\n",
    "# Setting labels\n",
    "axs[0,0].set_ylabel(r'$N_t$', fontsize=14);\n",
    "axs[1,0].set_ylabel(r'$\\hat{\\lambda}$ (per Morgan)', fontsize=14);\n",
    "fig.text(0.55, -0.025, r'Sample age (generations)', fontsize=14, ha='center')\n",
    "plt.tight_layout()\n",
    "plt.savefig(main_figdir + 'copying_rate_demography_final.pdf', dpi=300, bbox_inches='tight')"
   ]
  },
  {
   "cell_type": "markdown",
   "metadata": {},
   "source": [
    "## The impact of migration on the inferred jump rate in a two-deme model."
   ]
  },
  {
   "cell_type": "code",
   "execution_count": 6,
   "metadata": {
    "execution": {
     "iopub.execute_input": "2021-05-02T11:06:57.644833Z",
     "iopub.status.busy": "2021-05-02T11:06:57.644163Z",
     "iopub.status.idle": "2021-05-02T11:06:57.677198Z",
     "shell.execute_reply": "2021-05-02T11:06:57.676595Z"
    }
   },
   "outputs": [
    {
     "data": {
      "text/plain": [
       "array(['SerialConstant', 'IBDNeUK10K', 'TennessenEuropean',\n",
       "       'SerialBottleneckInstant7', 'SerialBottleneckInstant8',\n",
       "       'SerialBottleneckInstant9', 'SerialMigration1', 'SerialMigration2',\n",
       "       'SerialMigration3', 'SerialMigration4'], dtype=object)"
      ]
     },
     "execution_count": 1,
     "metadata": {},
     "output_type": "execute_result"
    }
   ],
   "source": [
    "hap_copy_sim_df.scenario.unique()"
   ]
  },
  {
   "cell_type": "code",
   "execution_count": 7,
   "metadata": {
    "execution": {
     "iopub.execute_input": "2021-05-02T11:06:57.683547Z",
     "iopub.status.busy": "2021-05-02T11:06:57.682700Z",
     "iopub.status.idle": "2021-05-02T11:06:57.713692Z",
     "shell.execute_reply": "2021-05-02T11:06:57.714467Z"
    }
   },
   "outputs": [],
   "source": [
    "migration_1 = hap_copy_sim_df[(hap_copy_sim_df.scenario == 'SerialMigration1') & (hap_copy_sim_df.min_maf == 1)]\n",
    "migration_2 = hap_copy_sim_df[(hap_copy_sim_df.scenario == 'SerialMigration2') & (hap_copy_sim_df.min_maf == 1)]\n",
    "migration_3 = hap_copy_sim_df[(hap_copy_sim_df.scenario == 'SerialMigration3') & (hap_copy_sim_df.min_maf == 1)]\n",
    "migration_4 = hap_copy_sim_df[(hap_copy_sim_df.scenario == 'SerialMigration4') & (hap_copy_sim_df.min_maf == 1)]"
   ]
  },
  {
   "cell_type": "code",
   "execution_count": 8,
   "metadata": {
    "execution": {
     "iopub.execute_input": "2021-05-02T11:06:57.721674Z",
     "iopub.status.busy": "2021-05-02T11:06:57.721033Z",
     "iopub.status.idle": "2021-05-02T11:06:58.398921Z",
     "shell.execute_reply": "2021-05-02T11:06:58.399997Z"
    }
   },
   "outputs": [
    {
     "data": {
      "image/png": "[encoded data removed]",
      "text/plain": [
       "<Figure size 396x144 with 3 Axes>"
      ]
     },
     "metadata": {},
     "output_type": "display_data"
    }
   ],
   "source": [
    "fig, axs = plt.subplots(1, 3, figsize=(5.5, 2), sharex=True, sharey=True)\n",
    "\n",
    "axs[0].errorbar(rand_jitter(migration_1.ta), migration_1.scale_jt, \n",
    "                yerr=2*migration_1.se_scale_jt, linestyle='none', marker='o', markersize=3)\n",
    "\n",
    "axs[1].errorbar(rand_jitter(migration_2.ta), migration_2.scale_jt, \n",
    "                yerr=2*migration_2.se_scale_jt, linestyle='none', marker='o', markersize=3)\n",
    "\n",
    "axs[2].errorbar(rand_jitter(migration_3.ta), migration_3.scale_jt, \n",
    "                yerr=2*migration_3.se_scale_jt, linestyle='none', marker='o', markersize=3)\n",
    "\n",
    "\n",
    "axs[0].set_title(r'$m = 10^{-1}$', fontsize=12)\n",
    "axs[1].set_title(r'$m = 10^{-2}$', fontsize=12)\n",
    "axs[2].set_title(r'$m = 10^{-3}$', fontsize=12)\n",
    "\n",
    "axs[0].set_ylabel(r'$\\hat{\\lambda}$ (per Morgan)', fontsize=14)\n",
    "\n",
    "debox_all(axs);\n",
    "# label_multipanel(axs, ['A','B','C'], fontsize=14, \n",
    "#                  yoff=1.2, fontweight='bold', va='top', ha='right')\n",
    "\n",
    "plt.savefig(supp_figdir + 'copying_rate_migration.pdf', dpi=300, bbox_inches='tight')"
   ]
  }
 ],
 "metadata": {
  "kernelspec": {
   "display_name": "Python 3",
   "language": "python",
   "name": "python3"
  },
  "language_info": {
   "codemirror_mode": {
    "name": "ipython",
    "version": 3
   },
   "file_extension": ".py",
   "mimetype": "text/x-python",
   "name": "python",
   "nbconvert_exporter": "python",
   "pygments_lexer": "ipython3",
   "version": "3.7.5"
  }
 },
 "nbformat": 4,
 "nbformat_minor": 4
}
