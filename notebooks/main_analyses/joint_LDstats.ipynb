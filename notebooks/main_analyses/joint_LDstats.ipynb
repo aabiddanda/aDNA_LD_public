{
 "cells": [
  {
   "cell_type": "code",
   "execution_count": 10,
   "metadata": {},
   "outputs": [],
   "source": [
    "import numpy as np \n",
    "from sympy import *\n",
    "import matplotlib.pyplot as plt\n",
    "from tqdm import tqdm\n",
    "from scipy.stats import binned_statistic, describe\n",
    "\n",
    "import sys\n",
    "sys.path.append('../../src/')\n",
    "from aDNA_coal_sim import *\n",
    "from plot_utils import *\n",
    "\n",
    "%matplotlib inline"
   ]
  },
  {
   "cell_type": "markdown",
   "metadata": {},
   "source": [
    "## Deriving the joint LD statistics"
   ]
  },
  {
   "cell_type": "code",
   "execution_count": 11,
   "metadata": {},
   "outputs": [],
   "source": [
    "# Define variables in sympy... \n",
    "rho,t,eta,gamma = symbols('rho t \\eta \\gamma')\n",
    "\n",
    "gamma = rho*(1  - exp(-t *(rho/2 + 1)))/(rho + 2)\n",
    "eta = 2*(1  - exp(-t *(rho/2 + 1)))/(rho + 2)\n",
    "\n",
    "eT_AT_B_200 = (rho**2 + 14*rho + 36)/(rho**2 + 13*rho + 18)\n",
    "eT_AT_B_111 = (rho**2 + 13*rho + 24)/(rho**2 + 13*rho + 18)\n",
    "eT_AT_B_022 = (rho**2 + 13*rho + 22)/(rho**2 + 13*rho + 18)"
   ]
  },
  {
   "cell_type": "code",
   "execution_count": 12,
   "metadata": {},
   "outputs": [
    {
     "data": {
      "text/latex": [
       "$\\displaystyle \\frac{\\left(\\rho^{3} e^{\\frac{t \\left(\\rho + 2\\right)}{2}} + 15 \\rho^{2} e^{\\frac{t \\left(\\rho + 2\\right)}{2}} + 48 \\rho e^{\\frac{t \\left(\\rho + 2\\right)}{2}} + 48 e^{\\frac{t \\left(\\rho + 2\\right)}{2}} - 4\\right) e^{- \\frac{t \\left(\\rho + 2\\right)}{2}}}{\\left(\\rho + 2\\right) \\left(\\rho^{2} + 13 \\rho + 18\\right)}$"
      ],
      "text/plain": [
       "(rho**3*exp(t*(rho + 2)/2) + 15*rho**2*exp(t*(rho + 2)/2) + 48*rho*exp(t*(rho + 2)/2) + 48*exp(t*(rho + 2)/2) - 4)*exp(-t*(rho + 2)/2)/((rho + 2)*(rho**2 + 13*rho + 18))"
      ]
     },
     "execution_count": 12,
     "metadata": {},
     "output_type": "execute_result"
    }
   ],
   "source": [
    "# Defining the staggered statistics (from the note)\n",
    "e_TATB_200_anc = (1 - gamma)*eT_AT_B_200 + gamma*eT_AT_B_111\n",
    "e_TATB_022_anc = (1 - eta).simplify() * eT_AT_B_022 + eta*eT_AT_B_111\n",
    "e_TATB_111_mod_coupled = (1-gamma)*eT_AT_B_111 + gamma*eT_AT_B_022\n",
    "e_TATB_111_mod_uncoupled = (1-eta)*eT_AT_B_111 + eta*eT_AT_B_200\n",
    "\n",
    "# Simplifying the statistics\n",
    "e_TATB_200_anc = e_TATB_200_anc.factor().simplify()\n",
    "e_TATB_022_anc = e_TATB_022_anc.factor().simplify()\n",
    "e_TATB_111_mod_coupled = e_TATB_111_mod_coupled.factor().simplify()\n",
    "e_TATB_111_mod_uncoupled = e_TATB_111_mod_uncoupled.factor().simplify()\n",
    "\n",
    "\n",
    "e_TATB_022_anc"
   ]
  },
  {
   "cell_type": "code",
   "execution_count": 13,
   "metadata": {},
   "outputs": [
    {
     "data": {
      "text/latex": [
       "$\\displaystyle \\frac{\\left(\\rho + 10\\right) e^{- \\frac{t \\left(\\rho + 2\\right)}{2}}}{\\rho^{2} + 13 \\rho + 18}$"
      ],
      "text/plain": [
       "(rho + 10)*exp(-t*(rho + 2)/2)/(rho**2 + 13*rho + 18)"
      ]
     },
     "execution_count": 13,
     "metadata": {},
     "output_type": "execute_result"
    }
   ],
   "source": [
    "eD0DT_numerator = (e_TATB_200_anc - e_TATB_111_mod_coupled - e_TATB_111_mod_uncoupled + e_TATB_022_anc)\n",
    "\n",
    "e_D0DT_numerator = eD0DT_numerator.factor().simplify()\n",
    "e_D0DT_numerator"
   ]
  },
  {
   "cell_type": "code",
   "execution_count": 14,
   "metadata": {},
   "outputs": [
    {
     "data": {
      "text/latex": [
       "$\\displaystyle \\frac{\\left(\\rho + 2\\right) \\left(\\rho + 10\\right)}{\\rho^{3} e^{\\frac{t \\left(\\rho + 2\\right)}{2}} + 15 \\rho^{2} e^{\\frac{t \\left(\\rho + 2\\right)}{2}} + 48 \\rho e^{\\frac{t \\left(\\rho + 2\\right)}{2}} + 48 e^{\\frac{t \\left(\\rho + 2\\right)}{2}} - 4}$"
      ],
      "text/plain": [
       "(rho + 2)*(rho + 10)/(rho**3*exp(t*(rho + 2)/2) + 15*rho**2*exp(t*(rho + 2)/2) + 48*rho*exp(t*(rho + 2)/2) + 48*exp(t*(rho + 2)/2) - 4)"
      ]
     },
     "execution_count": 14,
     "metadata": {},
     "output_type": "execute_result"
    }
   ],
   "source": [
    "e_D0Dt_norm = e_D0DT_numerator / e_TATB_022_anc\n",
    "e_D0Dt_norm # Note this does not actually go \"negative\""
   ]
  },
  {
   "cell_type": "code",
   "execution_count": 15,
   "metadata": {},
   "outputs": [
    {
     "name": "stderr",
     "output_type": "stream",
     "text": [
      "100%|██████████| 3/3 [00:07<00:00,  2.52s/it]\n"
     ]
    },
    {
     "data": {
      "image/png": "[encoded data removed]",
      "text/plain": [
       "<Figure size 360x216 with 1 Axes>"
      ]
     },
     "metadata": {
      "needs_background": "light"
     },
     "output_type": "display_data"
    }
   ],
   "source": [
    "def eD0Dt_norm_eval(r,ta):\n",
    "    \"\"\"Function just to evaluate the expression...\"\"\"\n",
    "    return(e_D0Dt_norm.evalf(subs={rho: r, t:ta}))\n",
    "\n",
    "fig, ax = plt.subplots(1,1,figsize=(5,3))\n",
    "rhos = np.logspace(-3, 3, 50)\n",
    "tas = [0, 1e-2, 1e-1]\n",
    "for ta in tqdm(tas):\n",
    "    cur_d0dt_norm = np.array([eD0Dt_norm_eval(r,ta) for r in rhos])\n",
    "    ax.plot(rhos, cur_d0dt_norm, lw=2, label=r'$t_a = %0.2f$' % ta)\n",
    "    \n",
    "ax.legend(fontsize=10)\n",
    "ax.set_xscale('log')\n",
    "ax.set_xlabel(r'$\\rho$', fontsize=14)\n",
    "ax.set_ylabel(r'$\\frac{\\mathbb{E}[D_0D_t]}{\\mathbb{E}[p^0(1-p^t)q^0(1 - q^t)]}$', fontsize=14)\n",
    "debox(ax);\n",
    "# plt.savefig('test.pdf', dpi=300, bbox_inches='tight')"
   ]
  },
  {
   "cell_type": "markdown",
   "metadata": {},
   "source": [
    "## Plotting Simulation Results"
   ]
  },
  {
   "cell_type": "code",
   "execution_count": 16,
   "metadata": {},
   "outputs": [],
   "source": [
    "tmpdir = '/scratch/midway2/abiddanda/aDNA_LD/ld_stats_raw/SerialConstant/'\n",
    "file = tmpdir + 'jointLDstats_mod500_anc500_t100_l1_Ne10000_1_maf5_polytotal1.npz'\n",
    "df = np.load(file)"
   ]
  },
  {
   "cell_type": "code",
   "execution_count": 19,
   "metadata": {},
   "outputs": [
    {
     "data": {
      "text/plain": [
       "DescribeResult(nobs=490000, minmax=(0.0014195269, 398.7083), mean=199.60582, variance=13270.498, skewness=-0.002255635103210807, kurtosis=-1.2019194575665693)"
      ]
     },
     "execution_count": 19,
     "metadata": {},
     "output_type": "execute_result"
    }
   ],
   "source": [
    "rhos = df['rec_dist']*1e4*4\n",
    "ed0dt = eD0Dt_norm = (df['Dmod']*df['Danc']) / (df['pAmod']*(1.-df['pAanc'])*df['pBmod']*(1. - df['pBanc']))\n",
    "describe(rhos)"
   ]
  },
  {
   "cell_type": "code",
   "execution_count": 24,
   "metadata": {},
   "outputs": [
    {
     "data": {
      "image/png": "[encoded data removed]",
      "text/plain": [
       "<Figure size 288x288 with 1 Axes>"
      ]
     },
     "metadata": {
      "needs_background": "light"
     },
     "output_type": "display_data"
    }
   ],
   "source": [
    "bin_means, bin_edges, binnumber = binned_statistic(rhos, ed0dt, np.nanmean, bins=20)\n",
    "\n",
    "fig, ax = plt.subplots(1,1, figsize=(4,4))\n",
    "ax.scatter(bin_edges[:-1] + (bin_edges[1:]- bin_edges[:-1])/2., bin_means)\n",
    "ax.set_xscale('log')\n",
    "ax.set_xlabel(r'$\\hat{\\rho}$', fontsize=14)\n",
    "ax.set_ylabel(r'$\\frac{\\mathbb{E}[D_0D_t]}{\\mathbb{E}[p^0(1-p^t)q^0(1 - q^t)]}$', fontsize=14)\n",
    "debox(ax)"
   ]
  }
 ],
 "metadata": {
  "kernelspec": {
   "display_name": "Python 3",
   "language": "python",
   "name": "python3"
  },
  "language_info": {
   "codemirror_mode": {
    "name": "ipython",
    "version": 3
   },
   "file_extension": ".py",
   "mimetype": "text/x-python",
   "name": "python",
   "nbconvert_exporter": "python",
   "pygments_lexer": "ipython3",
   "version": "3.7.0"
  }
 },
 "nbformat": 4,
 "nbformat_minor": 4
}
