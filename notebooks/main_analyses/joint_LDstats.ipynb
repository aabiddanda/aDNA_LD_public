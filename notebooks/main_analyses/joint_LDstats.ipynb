{
 "cells": [
  {
   "cell_type": "code",
   "execution_count": 1,
   "metadata": {
    "execution": {
     "iopub.execute_input": "2021-06-16T17:37:02.419808Z",
     "iopub.status.busy": "2021-06-16T17:37:02.418664Z",
     "iopub.status.idle": "2021-06-16T17:37:04.557538Z",
     "shell.execute_reply": "2021-06-16T17:37:04.556856Z"
    }
   },
   "outputs": [],
   "source": [
    "import numpy as np \n",
    "from sympy import *\n",
    "import matplotlib.pyplot as plt\n",
    "import pandas as pd\n",
    "from tqdm import tqdm\n",
    "from scipy.stats import binned_statistic, describe\n",
    "\n",
    "import sys\n",
    "sys.path.append('../../src/')\n",
    "from aDNA_coal_sim import *\n",
    "from plot_utils import *\n",
    "\n",
    "%matplotlib inline"
   ]
  },
  {
   "cell_type": "code",
   "execution_count": 2,
   "metadata": {
    "execution": {
     "iopub.execute_input": "2021-06-16T17:37:04.565015Z",
     "iopub.status.busy": "2021-06-16T17:37:04.563286Z",
     "iopub.status.idle": "2021-06-16T17:37:04.567281Z",
     "shell.execute_reply": "2021-06-16T17:37:04.567827Z"
    }
   },
   "outputs": [],
   "source": [
    "plt.rcParams['font.sans-serif'] = \"Arial\"\n",
    "plt.rcParams['figure.facecolor'] = \"w\"\n",
    "plt.rcParams['figure.autolayout'] = True\n",
    "plt.rcParams['pdf.fonttype'] = 3\n",
    "from mpl_toolkits.axes_grid1 import make_axes_locatable\n",
    "\n",
    "import os\n",
    "main_figdir = '../../plots/jointLD_stats/'\n",
    "supp_figdir = '../../plots/supp_figs/jointLD_stats/'\n",
    "os.makedirs(main_figdir, exist_ok=True)\n",
    "os.makedirs(supp_figdir, exist_ok=True)"
   ]
  },
  {
   "cell_type": "markdown",
   "metadata": {},
   "source": [
    "## Deriving the joint LD statistics"
   ]
  },
  {
   "cell_type": "code",
   "execution_count": 3,
   "metadata": {
    "execution": {
     "iopub.execute_input": "2021-06-16T17:37:04.579687Z",
     "iopub.status.busy": "2021-06-16T17:37:04.578597Z",
     "iopub.status.idle": "2021-06-16T17:37:04.663872Z",
     "shell.execute_reply": "2021-06-16T17:37:04.664893Z"
    }
   },
   "outputs": [],
   "source": [
    "# Define variables in sympy... \n",
    "rho,t,eta,gamma = symbols('rho t \\eta \\gamma')\n",
    "\n",
    "gamma = rho*(1  - exp(-t *(rho/2 + 1)))/(rho + 2)\n",
    "eta = 2*(1  - exp(-t *(rho/2 + 1)))/(rho + 2)\n",
    "\n",
    "eT_AT_B_200 = (rho**2 + 14*rho + 36)/(rho**2 + 13*rho + 18)\n",
    "eT_AT_B_111 = (rho**2 + 13*rho + 24)/(rho**2 + 13*rho + 18)\n",
    "eT_AT_B_022 = (rho**2 + 13*rho + 22)/(rho**2 + 13*rho + 18)"
   ]
  },
  {
   "cell_type": "code",
   "execution_count": 4,
   "metadata": {
    "execution": {
     "iopub.execute_input": "2021-06-16T17:37:04.751385Z",
     "iopub.status.busy": "2021-06-16T17:37:04.710488Z",
     "iopub.status.idle": "2021-06-16T17:37:06.176756Z",
     "shell.execute_reply": "2021-06-16T17:37:06.177561Z"
    }
   },
   "outputs": [
    {
     "data": {
      "text/latex": [
       "$\\displaystyle \\frac{\\left(\\rho^{3} e^{\\frac{t \\left(\\rho + 2\\right)}{2}} + 15 \\rho^{2} e^{\\frac{t \\left(\\rho + 2\\right)}{2}} + 48 \\rho e^{\\frac{t \\left(\\rho + 2\\right)}{2}} + 48 e^{\\frac{t \\left(\\rho + 2\\right)}{2}} - 4\\right) e^{- \\frac{t \\left(\\rho + 2\\right)}{2}}}{\\left(\\rho + 2\\right) \\left(\\rho^{2} + 13 \\rho + 18\\right)}$"
      ],
      "text/plain": [
       "(rho**3*exp(t*(rho + 2)/2) + 15*rho**2*exp(t*(rho + 2)/2) + 48*rho*exp(t*(rho + 2)/2) + 48*exp(t*(rho + 2)/2) - 4)*exp(-t*(rho + 2)/2)/((rho + 2)*(rho**2 + 13*rho + 18))"
      ]
     },
     "execution_count": 1,
     "metadata": {},
     "output_type": "execute_result"
    }
   ],
   "source": [
    "# Defining the staggered statistics (from the note)\n",
    "e_TATB_200_anc = (1 - gamma)*eT_AT_B_200 + gamma*eT_AT_B_111\n",
    "e_TATB_022_anc = (1 - eta).simplify() * eT_AT_B_022 + eta*eT_AT_B_111\n",
    "e_TATB_111_mod_coupled = (1-gamma)*eT_AT_B_111 + gamma*eT_AT_B_022\n",
    "e_TATB_111_mod_uncoupled = (1-eta)*eT_AT_B_111 + eta*eT_AT_B_200\n",
    "\n",
    "# Simplifying the statistics\n",
    "e_TATB_200_anc = e_TATB_200_anc.factor().simplify()\n",
    "e_TATB_022_anc = e_TATB_022_anc.factor().simplify()\n",
    "e_TATB_111_mod_coupled = e_TATB_111_mod_coupled.factor().simplify()\n",
    "e_TATB_111_mod_uncoupled = e_TATB_111_mod_uncoupled.factor().simplify()\n",
    "\n",
    "\n",
    "e_TATB_022_anc"
   ]
  },
  {
   "cell_type": "code",
   "execution_count": 5,
   "metadata": {
    "execution": {
     "iopub.execute_input": "2021-06-16T17:37:06.265478Z",
     "iopub.status.busy": "2021-06-16T17:37:06.222357Z",
     "iopub.status.idle": "2021-06-16T17:37:06.275914Z",
     "shell.execute_reply": "2021-06-16T17:37:06.276987Z"
    }
   },
   "outputs": [
    {
     "data": {
      "text/latex": [
       "$\\displaystyle \\frac{\\left(\\rho + 10\\right) e^{- \\frac{t \\left(\\rho + 2\\right)}{2}}}{\\rho^{2} + 13 \\rho + 18}$"
      ],
      "text/plain": [
       "(rho + 10)*exp(-t*(rho + 2)/2)/(rho**2 + 13*rho + 18)"
      ]
     },
     "execution_count": 1,
     "metadata": {},
     "output_type": "execute_result"
    }
   ],
   "source": [
    "eD0DT_numerator = (e_TATB_200_anc - e_TATB_111_mod_coupled - e_TATB_111_mod_uncoupled + e_TATB_022_anc)\n",
    "\n",
    "e_D0DT_numerator = eD0DT_numerator.factor().simplify()\n",
    "e_D0DT_numerator"
   ]
  },
  {
   "cell_type": "code",
   "execution_count": 6,
   "metadata": {
    "execution": {
     "iopub.execute_input": "2021-06-16T17:37:06.297374Z",
     "iopub.status.busy": "2021-06-16T17:37:06.296589Z",
     "iopub.status.idle": "2021-06-16T17:37:06.300274Z",
     "shell.execute_reply": "2021-06-16T17:37:06.300840Z"
    }
   },
   "outputs": [
    {
     "data": {
      "text/latex": [
       "$\\displaystyle \\frac{\\left(\\rho + 2\\right) \\left(\\rho + 10\\right)}{\\rho^{3} e^{\\frac{t \\left(\\rho + 2\\right)}{2}} + 15 \\rho^{2} e^{\\frac{t \\left(\\rho + 2\\right)}{2}} + 48 \\rho e^{\\frac{t \\left(\\rho + 2\\right)}{2}} + 48 e^{\\frac{t \\left(\\rho + 2\\right)}{2}} - 4}$"
      ],
      "text/plain": [
       "(rho + 2)*(rho + 10)/(rho**3*exp(t*(rho + 2)/2) + 15*rho**2*exp(t*(rho + 2)/2) + 48*rho*exp(t*(rho + 2)/2) + 48*exp(t*(rho + 2)/2) - 4)"
      ]
     },
     "execution_count": 1,
     "metadata": {},
     "output_type": "execute_result"
    }
   ],
   "source": [
    "e_D0Dt_norm = e_D0DT_numerator / e_TATB_022_anc\n",
    "e_D0Dt_norm # Note this does not actually go \"negative\""
   ]
  },
  {
   "cell_type": "code",
   "execution_count": 7,
   "metadata": {
    "execution": {
     "iopub.execute_input": "2021-06-16T17:37:06.328401Z",
     "iopub.status.busy": "2021-06-16T17:37:06.327719Z",
     "iopub.status.idle": "2021-06-16T17:37:07.559461Z",
     "shell.execute_reply": "2021-06-16T17:37:07.559934Z"
    }
   },
   "outputs": [
    {
     "name": "stderr",
     "output_type": "stream",
     "text": [
      "100%|████████████████████████████████████████████████████████████████████████████████| 3/3 [00:00<00:00,  6.75it/s]\n"
     ]
    },
    {
     "data": {
      "image/png": "[encoded data removed]",
      "text/plain": [
       "<Figure size 288x216 with 1 Axes>"
      ]
     },
     "metadata": {},
     "output_type": "display_data"
    }
   ],
   "source": [
    "def eD0Dt_norm_eval(r,ta):\n",
    "    \"\"\"Function just to evaluate the expression...\"\"\"\n",
    "    return(e_D0Dt_norm.evalf(subs={rho: r, t:ta}))\n",
    "\n",
    "fig, ax = plt.subplots(1,1,figsize=(4,3))\n",
    "rhos = np.logspace(-3, 3, 50)\n",
    "tas = [0, 1e-2, 1e-1]\n",
    "for ta in tqdm(tas):\n",
    "    cur_d0dt_norm = np.array([eD0Dt_norm_eval(r,ta) for r in rhos])\n",
    "    ax.plot(rhos, cur_d0dt_norm, lw=2, label=r'$t_a = %0.2f$' % ta)\n",
    "    \n",
    "ax.legend(fontsize=10)\n",
    "ax.set_xscale('log')\n",
    "ax.set_xlabel(r'$\\rho$', fontsize=14)\n",
    "ax.set_ylabel(r'$\\frac{\\mathbb{E}[D^{(0)}D^{(t)}]}{\\mathbb{E}[p^{(0)}_A(1 - p^{(t)}_A)p_B^{(0)}(1 - p_B^{(t)}]}$', fontsize=14)\n",
    "debox(ax);\n",
    "plt.savefig(main_figdir + 'eD0Dt_theory.pdf', dpi=300, bbox_inches='tight')"
   ]
  },
  {
   "cell_type": "markdown",
   "metadata": {},
   "source": [
    "## Corroborating theory w/ simulation results"
   ]
  },
  {
   "cell_type": "code",
   "execution_count": 8,
   "metadata": {
    "execution": {
     "iopub.execute_input": "2021-06-16T17:37:07.564754Z",
     "iopub.status.busy": "2021-06-16T17:37:07.563715Z",
     "iopub.status.idle": "2021-06-16T17:37:07.586885Z",
     "shell.execute_reply": "2021-06-16T17:37:07.587356Z"
    }
   },
   "outputs": [
    {
     "data": {
      "text/html": [
       "<div>\n",
       "<style scoped>\n",
       "    .dataframe tbody tr th:only-of-type {\n",
       "        vertical-align: middle;\n",
       "    }\n",
       "\n",
       "    .dataframe tbody tr th {\n",
       "        vertical-align: top;\n",
       "    }\n",
       "\n",
       "    .dataframe thead th {\n",
       "        text-align: right;\n",
       "    }\n",
       "</style>\n",
       "<table border=\"1\" class=\"dataframe\">\n",
       "  <thead>\n",
       "    <tr style=\"text-align: right;\">\n",
       "      <th></th>\n",
       "      <th>ed0dt</th>\n",
       "      <th>std_ed0dt</th>\n",
       "      <th>rec_dist</th>\n",
       "      <th>ta</th>\n",
       "      <th>scenario</th>\n",
       "      <th>seed</th>\n",
       "    </tr>\n",
       "  </thead>\n",
       "  <tbody>\n",
       "    <tr>\n",
       "      <th>0</th>\n",
       "      <td>0.213080</td>\n",
       "      <td>0.288249</td>\n",
       "      <td>0.000061</td>\n",
       "      <td>0</td>\n",
       "      <td>SerialConstant</td>\n",
       "      <td>11</td>\n",
       "    </tr>\n",
       "    <tr>\n",
       "      <th>1</th>\n",
       "      <td>0.096555</td>\n",
       "      <td>0.148710</td>\n",
       "      <td>0.000183</td>\n",
       "      <td>0</td>\n",
       "      <td>SerialConstant</td>\n",
       "      <td>11</td>\n",
       "    </tr>\n",
       "    <tr>\n",
       "      <th>2</th>\n",
       "      <td>0.067565</td>\n",
       "      <td>0.114702</td>\n",
       "      <td>0.000305</td>\n",
       "      <td>0</td>\n",
       "      <td>SerialConstant</td>\n",
       "      <td>11</td>\n",
       "    </tr>\n",
       "    <tr>\n",
       "      <th>3</th>\n",
       "      <td>0.050964</td>\n",
       "      <td>0.087273</td>\n",
       "      <td>0.000427</td>\n",
       "      <td>0</td>\n",
       "      <td>SerialConstant</td>\n",
       "      <td>11</td>\n",
       "    </tr>\n",
       "    <tr>\n",
       "      <th>4</th>\n",
       "      <td>0.043060</td>\n",
       "      <td>0.076167</td>\n",
       "      <td>0.000549</td>\n",
       "      <td>0</td>\n",
       "      <td>SerialConstant</td>\n",
       "      <td>11</td>\n",
       "    </tr>\n",
       "  </tbody>\n",
       "</table>\n",
       "</div>"
      ],
      "text/plain": [
       "      ed0dt  std_ed0dt  rec_dist  ta        scenario  seed\n",
       "0  0.213080   0.288249  0.000061   0  SerialConstant    11\n",
       "1  0.096555   0.148710  0.000183   0  SerialConstant    11\n",
       "2  0.067565   0.114702  0.000305   0  SerialConstant    11\n",
       "3  0.050964   0.087273  0.000427   0  SerialConstant    11\n",
       "4  0.043060   0.076167  0.000549   0  SerialConstant    11"
      ]
     },
     "execution_count": 1,
     "metadata": {},
     "output_type": "execute_result"
    }
   ],
   "source": [
    "ld_raw_df = pd.read_csv('../../results/ld_stats_raw/ld_stats_time_sep_raw.csv.gz')\n",
    "ld_raw_df.head()"
   ]
  },
  {
   "cell_type": "code",
   "execution_count": 9,
   "metadata": {
    "execution": {
     "iopub.execute_input": "2021-06-16T17:37:07.612496Z",
     "iopub.status.busy": "2021-06-16T17:37:07.611605Z",
     "iopub.status.idle": "2021-06-16T17:37:24.806613Z",
     "shell.execute_reply": "2021-06-16T17:37:24.807148Z"
    }
   },
   "outputs": [
    {
     "name": "stderr",
     "output_type": "stream",
     "text": [
      "100%|████████████████████████████████████████████████████████████████████████████████| 3/3 [00:16<00:00,  5.39s/it]\n"
     ]
    },
    {
     "data": {
      "image/png": "[encoded data removed]",
      "text/plain": [
       "<Figure size 288x288 with 1 Axes>"
      ]
     },
     "metadata": {},
     "output_type": "display_data"
    }
   ],
   "source": [
    "# NOTE: variable names are kind of wonky \n",
    "fig, ax = plt.subplots(1,1,figsize=(4,4))\n",
    "for x in tqdm([0,100, 1000]):\n",
    "    ld_raw_df_filt = ld_raw_df[(ld_raw_df['ta'] == x)]\n",
    "    ax.scatter(ld_raw_df_filt.rec_dist*1e4, ld_raw_df_filt.ed0dt, s=5)\n",
    "    z = x/10000\n",
    "    # Dealing with some rescaling between sims vs. theory (factors of two here ... )\n",
    "    cur_d0dt_norm = np.array([eD0Dt_norm_eval(y,z/2) for y in np.unique(ld_raw_df_filt.rec_dist*1e4*4)])\n",
    "    ax.plot(np.unique(ld_raw_df_filt.rec_dist*1e4), cur_d0dt_norm, lw=2, label=r'$t_a = %d$' % int(z*1e4))\n",
    "    \n",
    "ax.legend()\n",
    "ax.set_xscale('log')\n",
    "ax.set_xlabel(r'$\\rho$', fontsize=14)\n",
    "ax.set_ylabel(r'$\\sigma^2_t$', fontsize=14)\n",
    "debox(ax);\n",
    "ax.set_xlim(1, 2e2)\n",
    "ax.set_ylim(-0.01,0.175)\n",
    "plt.savefig(main_figdir + 'eD0Dt_theory_sims.pdf', dpi=300, bbox_inches='tight')"
   ]
  }
 ],
 "metadata": {
  "kernelspec": {
   "display_name": "Python 3",
   "language": "python",
   "name": "python3"
  },
  "language_info": {
   "codemirror_mode": {
    "name": "ipython",
    "version": 3
   },
   "file_extension": ".py",
   "mimetype": "text/x-python",
   "name": "python",
   "nbconvert_exporter": "python",
   "pygments_lexer": "ipython3",
   "version": "3.7.5"
  }
 },
 "nbformat": 4,
 "nbformat_minor": 4
}
