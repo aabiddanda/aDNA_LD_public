{
 "cells": [
  {
   "cell_type": "code",
   "execution_count": 1,
   "metadata": {},
   "outputs": [],
   "source": [
    "import numpy as np \n",
    "from sympy import *\n",
    "import matplotlib.pyplot as plt\n",
    "import pandas as pd\n",
    "from tqdm import tqdm\n",
    "from scipy.stats import binned_statistic, describe\n",
    "\n",
    "import sys\n",
    "sys.path.append('../../src/')\n",
    "from aDNA_coal_sim import *\n",
    "from plot_utils import *\n",
    "\n",
    "%matplotlib inline"
   ]
  },
  {
   "cell_type": "code",
   "execution_count": 2,
   "metadata": {},
   "outputs": [],
   "source": [
    "plt.rcParams['font.sans-serif'] = \"Arial\"\n",
    "plt.rcParams['figure.facecolor'] = \"w\"\n",
    "plt.rcParams['figure.autolayout'] = True\n",
    "plt.rcParams['pdf.fonttype'] = 3\n",
    "from mpl_toolkits.axes_grid1 import make_axes_locatable\n",
    "\n",
    "import os\n",
    "main_figdir = '../../plots/jointLD_stats/'\n",
    "supp_figdir = '../../plots/supp_figs/jointLD_stats/'\n",
    "os.makedirs(main_figdir, exist_ok=True)\n",
    "os.makedirs(supp_figdir, exist_ok=True)"
   ]
  },
  {
   "cell_type": "markdown",
   "metadata": {},
   "source": [
    "## Deriving the joint LD statistics"
   ]
  },
  {
   "cell_type": "code",
   "execution_count": 3,
   "metadata": {},
   "outputs": [],
   "source": [
    "# Define variables in sympy... \n",
    "rho,t,eta,gamma = symbols('rho t \\eta \\gamma')\n",
    "\n",
    "gamma = rho*(1  - exp(-t *(rho/2 + 1)))/(rho + 2)\n",
    "eta = 2*(1  - exp(-t *(rho/2 + 1)))/(rho + 2)\n",
    "\n",
    "eT_AT_B_200 = (rho**2 + 14*rho + 36)/(rho**2 + 13*rho + 18)\n",
    "eT_AT_B_111 = (rho**2 + 13*rho + 24)/(rho**2 + 13*rho + 18)\n",
    "eT_AT_B_022 = (rho**2 + 13*rho + 22)/(rho**2 + 13*rho + 18)"
   ]
  },
  {
   "cell_type": "code",
   "execution_count": 4,
   "metadata": {},
   "outputs": [
    {
     "data": {
      "text/latex": [
       "$\\displaystyle \\frac{\\left(\\rho^{3} e^{\\frac{t \\left(\\rho + 2\\right)}{2}} + 15 \\rho^{2} e^{\\frac{t \\left(\\rho + 2\\right)}{2}} + 48 \\rho e^{\\frac{t \\left(\\rho + 2\\right)}{2}} + 48 e^{\\frac{t \\left(\\rho + 2\\right)}{2}} - 4\\right) e^{- \\frac{t \\left(\\rho + 2\\right)}{2}}}{\\left(\\rho + 2\\right) \\left(\\rho^{2} + 13 \\rho + 18\\right)}$"
      ],
      "text/plain": [
       "(rho**3*exp(t*(rho + 2)/2) + 15*rho**2*exp(t*(rho + 2)/2) + 48*rho*exp(t*(rho + 2)/2) + 48*exp(t*(rho + 2)/2) - 4)*exp(-t*(rho + 2)/2)/((rho + 2)*(rho**2 + 13*rho + 18))"
      ]
     },
     "execution_count": 4,
     "metadata": {},
     "output_type": "execute_result"
    }
   ],
   "source": [
    "# Defining the staggered statistics (from the note)\n",
    "e_TATB_200_anc = (1 - gamma)*eT_AT_B_200 + gamma*eT_AT_B_111\n",
    "e_TATB_022_anc = (1 - eta).simplify() * eT_AT_B_022 + eta*eT_AT_B_111\n",
    "e_TATB_111_mod_coupled = (1-gamma)*eT_AT_B_111 + gamma*eT_AT_B_022\n",
    "e_TATB_111_mod_uncoupled = (1-eta)*eT_AT_B_111 + eta*eT_AT_B_200\n",
    "\n",
    "# Simplifying the statistics\n",
    "e_TATB_200_anc = e_TATB_200_anc.factor().simplify()\n",
    "e_TATB_022_anc = e_TATB_022_anc.factor().simplify()\n",
    "e_TATB_111_mod_coupled = e_TATB_111_mod_coupled.factor().simplify()\n",
    "e_TATB_111_mod_uncoupled = e_TATB_111_mod_uncoupled.factor().simplify()\n",
    "\n",
    "\n",
    "e_TATB_022_anc"
   ]
  },
  {
   "cell_type": "code",
   "execution_count": 5,
   "metadata": {},
   "outputs": [
    {
     "data": {
      "text/latex": [
       "$\\displaystyle \\frac{\\left(\\rho + 10\\right) e^{- \\frac{t \\left(\\rho + 2\\right)}{2}}}{\\rho^{2} + 13 \\rho + 18}$"
      ],
      "text/plain": [
       "(rho + 10)*exp(-t*(rho + 2)/2)/(rho**2 + 13*rho + 18)"
      ]
     },
     "execution_count": 5,
     "metadata": {},
     "output_type": "execute_result"
    }
   ],
   "source": [
    "eD0DT_numerator = (e_TATB_200_anc - e_TATB_111_mod_coupled - e_TATB_111_mod_uncoupled + e_TATB_022_anc)\n",
    "\n",
    "e_D0DT_numerator = eD0DT_numerator.factor().simplify()\n",
    "e_D0DT_numerator"
   ]
  },
  {
   "cell_type": "code",
   "execution_count": 6,
   "metadata": {},
   "outputs": [
    {
     "data": {
      "text/latex": [
       "$\\displaystyle \\frac{\\left(\\rho + 2\\right) \\left(\\rho + 10\\right)}{\\rho^{3} e^{\\frac{t \\left(\\rho + 2\\right)}{2}} + 15 \\rho^{2} e^{\\frac{t \\left(\\rho + 2\\right)}{2}} + 48 \\rho e^{\\frac{t \\left(\\rho + 2\\right)}{2}} + 48 e^{\\frac{t \\left(\\rho + 2\\right)}{2}} - 4}$"
      ],
      "text/plain": [
       "(rho + 2)*(rho + 10)/(rho**3*exp(t*(rho + 2)/2) + 15*rho**2*exp(t*(rho + 2)/2) + 48*rho*exp(t*(rho + 2)/2) + 48*exp(t*(rho + 2)/2) - 4)"
      ]
     },
     "execution_count": 6,
     "metadata": {},
     "output_type": "execute_result"
    }
   ],
   "source": [
    "e_D0Dt_norm = e_D0DT_numerator / e_TATB_022_anc\n",
    "e_D0Dt_norm # Note this does not actually go \"negative\""
   ]
  },
  {
   "cell_type": "code",
   "execution_count": 7,
   "metadata": {},
   "outputs": [
    {
     "name": "stderr",
     "output_type": "stream",
     "text": [
      "100%|██████████| 3/3 [00:00<00:00,  4.59it/s]\n"
     ]
    },
    {
     "data": {
      "image/png": "[encoded data removed]",
      "text/plain": [
       "<Figure size 288x216 with 1 Axes>"
      ]
     },
     "metadata": {},
     "output_type": "display_data"
    }
   ],
   "source": [
    "def eD0Dt_norm_eval(r,ta):\n",
    "    \"\"\"Function just to evaluate the expression...\"\"\"\n",
    "    return(e_D0Dt_norm.evalf(subs={rho: r, t:ta}))\n",
    "\n",
    "fig, ax = plt.subplots(1,1,figsize=(4,3))\n",
    "rhos = np.logspace(-3, 3, 50)\n",
    "tas = [0, 1e-2, 1e-1]\n",
    "for ta in tqdm(tas):\n",
    "    cur_d0dt_norm = np.array([eD0Dt_norm_eval(r,ta) for r in rhos])\n",
    "    ax.plot(rhos, cur_d0dt_norm, lw=2, label=r'$t_a = %0.2f$' % ta)\n",
    "    \n",
    "ax.legend(fontsize=10)\n",
    "ax.set_xscale('log')\n",
    "ax.set_xlabel(r'$\\rho$', fontsize=14)\n",
    "ax.set_ylabel(r'$\\frac{\\mathbb{E}[D^{(0)}D^{(t)}]}{\\mathbb{E}[p^{(0)}_A(1 - p^{(t)}_A)p_B^{(0)}(1 - p_B^{(t)}]}$', fontsize=14)\n",
    "debox(ax);\n",
    "plt.savefig(main_figdir + 'eD0Dt_theory.pdf', dpi=300, bbox_inches='tight')"
   ]
  },
  {
   "cell_type": "markdown",
   "metadata": {},
   "source": [
    "## Corroborating theory w/ simulation results"
   ]
  },
  {
   "cell_type": "code",
   "execution_count": 29,
   "metadata": {},
   "outputs": [
    {
     "data": {
      "text/html": [
       "<div>\n",
       "<style scoped>\n",
       "    .dataframe tbody tr th:only-of-type {\n",
       "        vertical-align: middle;\n",
       "    }\n",
       "\n",
       "    .dataframe tbody tr th {\n",
       "        vertical-align: top;\n",
       "    }\n",
       "\n",
       "    .dataframe thead th {\n",
       "        text-align: right;\n",
       "    }\n",
       "</style>\n",
       "<table border=\"1\" class=\"dataframe\">\n",
       "  <thead>\n",
       "    <tr style=\"text-align: right;\">\n",
       "      <th></th>\n",
       "      <th>d0dt</th>\n",
       "      <th>std_d0dt</th>\n",
       "      <th>pApB</th>\n",
       "      <th>std_pApB</th>\n",
       "      <th>rec_dist</th>\n",
       "      <th>ta</th>\n",
       "      <th>scenario</th>\n",
       "      <th>maf</th>\n",
       "      <th>seed</th>\n",
       "      <th>ed0dt</th>\n",
       "    </tr>\n",
       "  </thead>\n",
       "  <tbody>\n",
       "    <tr>\n",
       "      <th>0</th>\n",
       "      <td>0.003238</td>\n",
       "      <td>0.008715</td>\n",
       "      <td>0.012976</td>\n",
       "      <td>0.015511</td>\n",
       "      <td>0.000055</td>\n",
       "      <td>0</td>\n",
       "      <td>SerialConstant</td>\n",
       "      <td>0.01</td>\n",
       "      <td>11</td>\n",
       "      <td>0.249529</td>\n",
       "    </tr>\n",
       "    <tr>\n",
       "      <th>1</th>\n",
       "      <td>0.001353</td>\n",
       "      <td>0.003800</td>\n",
       "      <td>0.012576</td>\n",
       "      <td>0.015062</td>\n",
       "      <td>0.000166</td>\n",
       "      <td>0</td>\n",
       "      <td>SerialConstant</td>\n",
       "      <td>0.01</td>\n",
       "      <td>11</td>\n",
       "      <td>0.107583</td>\n",
       "    </tr>\n",
       "    <tr>\n",
       "      <th>2</th>\n",
       "      <td>0.000891</td>\n",
       "      <td>0.002494</td>\n",
       "      <td>0.012462</td>\n",
       "      <td>0.014860</td>\n",
       "      <td>0.000278</td>\n",
       "      <td>0</td>\n",
       "      <td>SerialConstant</td>\n",
       "      <td>0.01</td>\n",
       "      <td>11</td>\n",
       "      <td>0.071496</td>\n",
       "    </tr>\n",
       "    <tr>\n",
       "      <th>3</th>\n",
       "      <td>0.000690</td>\n",
       "      <td>0.001958</td>\n",
       "      <td>0.012250</td>\n",
       "      <td>0.014534</td>\n",
       "      <td>0.000389</td>\n",
       "      <td>0</td>\n",
       "      <td>SerialConstant</td>\n",
       "      <td>0.01</td>\n",
       "      <td>11</td>\n",
       "      <td>0.056296</td>\n",
       "    </tr>\n",
       "    <tr>\n",
       "      <th>4</th>\n",
       "      <td>0.000534</td>\n",
       "      <td>0.001473</td>\n",
       "      <td>0.012311</td>\n",
       "      <td>0.014587</td>\n",
       "      <td>0.000500</td>\n",
       "      <td>0</td>\n",
       "      <td>SerialConstant</td>\n",
       "      <td>0.01</td>\n",
       "      <td>11</td>\n",
       "      <td>0.043365</td>\n",
       "    </tr>\n",
       "  </tbody>\n",
       "</table>\n",
       "</div>"
      ],
      "text/plain": [
       "       d0dt  std_d0dt      pApB  std_pApB  rec_dist  ta        scenario   maf  \\\n",
       "0  0.003238  0.008715  0.012976  0.015511  0.000055   0  SerialConstant  0.01   \n",
       "1  0.001353  0.003800  0.012576  0.015062  0.000166   0  SerialConstant  0.01   \n",
       "2  0.000891  0.002494  0.012462  0.014860  0.000278   0  SerialConstant  0.01   \n",
       "3  0.000690  0.001958  0.012250  0.014534  0.000389   0  SerialConstant  0.01   \n",
       "4  0.000534  0.001473  0.012311  0.014587  0.000500   0  SerialConstant  0.01   \n",
       "\n",
       "   seed     ed0dt  \n",
       "0    11  0.249529  \n",
       "1    11  0.107583  \n",
       "2    11  0.071496  \n",
       "3    11  0.056296  \n",
       "4    11  0.043365  "
      ]
     },
     "execution_count": 29,
     "metadata": {},
     "output_type": "execute_result"
    }
   ],
   "source": [
    "ld_raw_test = pd.read_csv('../../results/ld_stats_raw/ld_stats_time_sep_raw.csv.gz')\n",
    "ld_raw_test['ed0dt'] = ld_raw_test['d0dt']/ld_raw_test['pApB']\n",
    "ld_raw_test.head()"
   ]
  },
  {
   "cell_type": "code",
   "execution_count": 36,
   "metadata": {},
   "outputs": [
    {
     "name": "stderr",
     "output_type": "stream",
     "text": [
      "100%|██████████| 3/3 [00:00<00:00, 44.52it/s]\n"
     ]
    },
    {
     "data": {
      "image/png": "[encoded data removed]",
      "text/plain": [
       "<Figure size 288x288 with 1 Axes>"
      ]
     },
     "metadata": {},
     "output_type": "display_data"
    }
   ],
   "source": [
    "def eD0Dt_norm_test(r,t):\n",
    "    \"\"\" Revamped version of that function ... \"\"\"\n",
    "    return(((r+2)*(r+10))/((r**3 + 15*r**2 + 48*r + 48)*np.exp(t*(r+2)/2) - 4.0))\n",
    "\n",
    "fig, ax = plt.subplots(1,1,figsize=(4,4))\n",
    "for x in tqdm([0,100, 1000]):\n",
    "    ld_raw_df_filt = ld_raw_test[(ld_raw_test['ta'] == x) & (ld_raw_test.maf == 0.01)]\n",
    "    ax.scatter(ld_raw_df_filt.rec_dist*1e4, ld_raw_df_filt.ed0dt, s=5)\n",
    "    z = x/(1e4)\n",
    "    # Dealing with some rescaling between sims vs. theory (factors of two here ... )\n",
    "    cur_d0dt_norm = np.array([eD0Dt_norm_test(y,z/2) for y in np.unique(ld_raw_df_filt.rec_dist*1e4*4)])\n",
    "    ax.plot(np.unique(ld_raw_df_filt.rec_dist*1e4), cur_d0dt_norm, lw=2, label=r'$t_a = %d$' % int(z*1e4))\n",
    "    \n",
    "ax.legend()\n",
    "ax.set_xscale('log')\n",
    "ax.set_xlabel(r'$\\rho$', fontsize=14)\n",
    "ax.set_ylabel(r'$\\sigma^2_t$', fontsize=14)\n",
    "debox(ax);\n",
    "ax.set_xlim(0.9, 1.5e2)\n",
    "ax.set_ylim(-0.01,0.175)\n",
    "plt.savefig(main_figdir + 'eD0Dt_theory_sims.pdf', dpi=300, bbox_inches='tight')"
   ]
  }
 ],
 "metadata": {
  "kernelspec": {
   "display_name": "Python 3",
   "language": "python",
   "name": "python3"
  },
  "language_info": {
   "codemirror_mode": {
    "name": "ipython",
    "version": 3
   },
   "file_extension": ".py",
   "mimetype": "text/x-python",
   "name": "python",
   "nbconvert_exporter": "python",
   "pygments_lexer": "ipython3",
   "version": "3.7.5"
  }
 },
 "nbformat": 4,
 "nbformat_minor": 4
}
