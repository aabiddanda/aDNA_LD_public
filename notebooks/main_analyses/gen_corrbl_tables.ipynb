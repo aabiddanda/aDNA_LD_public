{
 "cells": [
  {
   "cell_type": "code",
   "execution_count": 1,
   "metadata": {
    "execution": {
     "iopub.execute_input": "2021-05-01T09:41:27.283769Z",
     "iopub.status.busy": "2021-05-01T09:41:27.281801Z",
     "iopub.status.idle": "2021-05-01T09:41:28.352821Z",
     "shell.execute_reply": "2021-05-01T09:41:28.353416Z"
    }
   },
   "outputs": [],
   "source": [
    "import numpy as np \n",
    "import matplotlib.pyplot as plt\n",
    "from tqdm import tqdm\n",
    "from scipy.stats import pearsonr\n",
    "import pandas as pd\n",
    "\n",
    "import sys\n",
    "sys.path.append('../../src/')\n",
    "from coal_cov import *\n",
    "from seg_sites_covar import CorrSegSites\n",
    "from plot_utils import *\n",
    "\n",
    "%matplotlib inline\n",
    "%load_ext autoreload\n",
    "%autoreload 2"
   ]
  },
  {
   "cell_type": "code",
   "execution_count": 2,
   "metadata": {
    "execution": {
     "iopub.execute_input": "2021-05-01T09:41:28.358588Z",
     "iopub.status.busy": "2021-05-01T09:41:28.357957Z",
     "iopub.status.idle": "2021-05-01T09:41:28.378775Z",
     "shell.execute_reply": "2021-05-01T09:41:28.379370Z"
    }
   },
   "outputs": [],
   "source": [
    "plt.rcParams['font.sans-serif'] = \"Arial\"\n",
    "plt.rcParams['figure.facecolor'] = \"w\"\n",
    "plt.rcParams['figure.autolayout'] = True\n",
    "plt.rcParams['pdf.fonttype'] = 3\n",
    "from mpl_toolkits.axes_grid1 import make_axes_locatable\n",
    "import matplotlib.ticker as mticker\n",
    "\n",
    "import os\n",
    "main_figdir = '../../plots/two_locus_stats/'\n",
    "supp_figdir = '../../plots/supp_figs/two_locus_stats/'\n",
    "os.makedirs(main_figdir, exist_ok=True)\n",
    "os.makedirs(supp_figdir, exist_ok=True)"
   ]
  },
  {
   "cell_type": "markdown",
   "metadata": {},
   "source": [
    "### Simulation under a model of exponential growth "
   ]
  },
  {
   "cell_type": "code",
   "execution_count": 3,
   "metadata": {
    "execution": {
     "iopub.execute_input": "2021-05-01T09:41:28.386243Z",
     "iopub.status.busy": "2021-05-01T09:41:28.385589Z",
     "iopub.status.idle": "2021-05-01T09:44:33.449766Z",
     "shell.execute_reply": "2021-05-01T09:44:33.450741Z"
    }
   },
   "outputs": [
    {
     "name": "stderr",
     "output_type": "stream",
     "text": [
      "100%|██████████████████████████████████████████████████████████████████████████████████████████████████████████████████████████████████████████████████████████| 3/3 [03:05<00:00, 61.68s/it]\n"
     ]
    }
   ],
   "source": [
    "# NOTE : growth always starts ~ 1000 Generations in the past ... \n",
    "np.random.seed(42)\n",
    "\n",
    "tas = [0, 100, 500]\n",
    "rs = [1e-3, 1e-2, 5e-2]\n",
    "rec_rate = 1e-3\n",
    "\n",
    "\n",
    "total_sims = []\n",
    "for t in tqdm(tas):\n",
    "    for r in rs:\n",
    "        cur_sim = TwoLocusSerialGrowth(ta=t, r=r, T=500, reps=50000, rec_rate=rec_rate)\n",
    "        ts_reps = cur_sim._simulate()\n",
    "        cur_sim._two_locus_branch_length(ts_reps)\n",
    "        # Calculating the marginal variance and means\n",
    "        mu_LA= np.mean(cur_sim.pair_branch_length[:,0])\n",
    "        var_LA = np.var(cur_sim.pair_branch_length[:,0])\n",
    "        cov_LALB = np.cov(cur_sim.pair_branch_length[:,0], cur_sim.pair_branch_length[:,1])[0,1]\n",
    "        corr_LALB = pearsonr(cur_sim.pair_branch_length[:,0], cur_sim.pair_branch_length[:,1])[0]\n",
    "        total_sims.append([t,r, mu_LA, var_LA, cov_LALB, corr_LALB])\n",
    "            \n",
    "total_sims = np.vstack(total_sims)"
   ]
  },
  {
   "cell_type": "code",
   "execution_count": 4,
   "metadata": {
    "execution": {
     "iopub.execute_input": "2021-05-01T09:44:33.456354Z",
     "iopub.status.busy": "2021-05-01T09:44:33.455558Z",
     "iopub.status.idle": "2021-05-01T09:44:33.509449Z",
     "shell.execute_reply": "2021-05-01T09:44:33.510136Z"
    }
   },
   "outputs": [
    {
     "data": {
      "text/html": [
       "<div>\n",
       "<style scoped>\n",
       "    .dataframe tbody tr th:only-of-type {\n",
       "        vertical-align: middle;\n",
       "    }\n",
       "\n",
       "    .dataframe tbody tr th {\n",
       "        vertical-align: top;\n",
       "    }\n",
       "\n",
       "    .dataframe thead th {\n",
       "        text-align: right;\n",
       "    }\n",
       "</style>\n",
       "<table border=\"1\" class=\"dataframe\">\n",
       "  <thead>\n",
       "    <tr style=\"text-align: right;\">\n",
       "      <th></th>\n",
       "      <th>$t_a$</th>\n",
       "      <th>$r$</th>\n",
       "      <th>$\\mathbb{E}[L]$</th>\n",
       "      <th>$Var(L)$</th>\n",
       "      <th>$Cov(L_A,L_B)$</th>\n",
       "      <th>$Corr(L_A, L_B)$</th>\n",
       "    </tr>\n",
       "  </thead>\n",
       "  <tbody>\n",
       "    <tr>\n",
       "      <th>0</th>\n",
       "      <td>0.0</td>\n",
       "      <td>0.001</td>\n",
       "      <td>6087.518173</td>\n",
       "      <td>4.691786e+06</td>\n",
       "      <td>779500.950249</td>\n",
       "      <td>0.166678</td>\n",
       "    </tr>\n",
       "    <tr>\n",
       "      <th>1</th>\n",
       "      <td>0.0</td>\n",
       "      <td>0.010</td>\n",
       "      <td>1945.178045</td>\n",
       "      <td>6.458962e+04</td>\n",
       "      <td>19441.958582</td>\n",
       "      <td>0.300370</td>\n",
       "    </tr>\n",
       "    <tr>\n",
       "      <th>2</th>\n",
       "      <td>0.0</td>\n",
       "      <td>0.050</td>\n",
       "      <td>1252.998297</td>\n",
       "      <td>2.661182e+03</td>\n",
       "      <td>1016.081143</td>\n",
       "      <td>0.383271</td>\n",
       "    </tr>\n",
       "    <tr>\n",
       "      <th>3</th>\n",
       "      <td>100.0</td>\n",
       "      <td>0.001</td>\n",
       "      <td>6004.204914</td>\n",
       "      <td>4.622373e+06</td>\n",
       "      <td>798146.271779</td>\n",
       "      <td>0.173105</td>\n",
       "    </tr>\n",
       "    <tr>\n",
       "      <th>4</th>\n",
       "      <td>100.0</td>\n",
       "      <td>0.010</td>\n",
       "      <td>1843.873281</td>\n",
       "      <td>6.494130e+04</td>\n",
       "      <td>20864.018436</td>\n",
       "      <td>0.322482</td>\n",
       "    </tr>\n",
       "    <tr>\n",
       "      <th>5</th>\n",
       "      <td>100.0</td>\n",
       "      <td>0.050</td>\n",
       "      <td>1153.218551</td>\n",
       "      <td>2.621729e+03</td>\n",
       "      <td>1073.400377</td>\n",
       "      <td>0.409480</td>\n",
       "    </tr>\n",
       "    <tr>\n",
       "      <th>6</th>\n",
       "      <td>500.0</td>\n",
       "      <td>0.001</td>\n",
       "      <td>5685.105767</td>\n",
       "      <td>4.189090e+06</td>\n",
       "      <td>627472.823868</td>\n",
       "      <td>0.150182</td>\n",
       "    </tr>\n",
       "    <tr>\n",
       "      <th>7</th>\n",
       "      <td>500.0</td>\n",
       "      <td>0.010</td>\n",
       "      <td>1449.309935</td>\n",
       "      <td>5.914346e+04</td>\n",
       "      <td>25321.454950</td>\n",
       "      <td>0.427168</td>\n",
       "    </tr>\n",
       "    <tr>\n",
       "      <th>8</th>\n",
       "      <td>500.0</td>\n",
       "      <td>0.050</td>\n",
       "      <td>753.403538</td>\n",
       "      <td>2.561307e+03</td>\n",
       "      <td>1475.120191</td>\n",
       "      <td>0.574928</td>\n",
       "    </tr>\n",
       "  </tbody>\n",
       "</table>\n",
       "</div>"
      ],
      "text/plain": [
       "   $t_a$    $r$  $\\mathbb{E}[L]$      $Var(L)$  $Cov(L_A,L_B)$  \\\n",
       "0    0.0  0.001      6087.518173  4.691786e+06   779500.950249   \n",
       "1    0.0  0.010      1945.178045  6.458962e+04    19441.958582   \n",
       "2    0.0  0.050      1252.998297  2.661182e+03     1016.081143   \n",
       "3  100.0  0.001      6004.204914  4.622373e+06   798146.271779   \n",
       "4  100.0  0.010      1843.873281  6.494130e+04    20864.018436   \n",
       "5  100.0  0.050      1153.218551  2.621729e+03     1073.400377   \n",
       "6  500.0  0.001      5685.105767  4.189090e+06   627472.823868   \n",
       "7  500.0  0.010      1449.309935  5.914346e+04    25321.454950   \n",
       "8  500.0  0.050       753.403538  2.561307e+03     1475.120191   \n",
       "\n",
       "   $Corr(L_A, L_B)$  \n",
       "0          0.166678  \n",
       "1          0.300370  \n",
       "2          0.383271  \n",
       "3          0.173105  \n",
       "4          0.322482  \n",
       "5          0.409480  \n",
       "6          0.150182  \n",
       "7          0.427168  \n",
       "8          0.574928  "
      ]
     },
     "execution_count": 1,
     "metadata": {},
     "output_type": "execute_result"
    }
   ],
   "source": [
    "growth_df = pd.DataFrame(total_sims)\n",
    "growth_df.columns = ['$t_a$', '$r$','$\\mathbb{E}[L]$','$Var(L)$','$Cov(L_A,L_B)$','$Corr(L_A, L_B)$']\n",
    "growth_df.to_csv('../../results/two_loci/growth_model.csv', index=False)\n",
    "growth_df"
   ]
  },
  {
   "cell_type": "markdown",
   "metadata": {},
   "source": [
    "### Simulation under a bottleneck model"
   ]
  },
  {
   "cell_type": "code",
   "execution_count": 5,
   "metadata": {
    "execution": {
     "iopub.execute_input": "2021-05-01T09:44:33.519540Z",
     "iopub.status.busy": "2021-05-01T09:44:33.518291Z",
     "iopub.status.idle": "2021-05-01T09:48:42.499018Z",
     "shell.execute_reply": "2021-05-01T09:48:42.499736Z"
    }
   },
   "outputs": [
    {
     "name": "stderr",
     "output_type": "stream",
     "text": [
      "100%|██████████████████████████████████████████████████████████████████████████████████████████████████████████████████████████████████████████████████████████| 3/3 [04:08<00:00, 82.98s/it]\n"
     ]
    }
   ],
   "source": [
    "np.random.seed(42)\n",
    "\n",
    "tas = [0, 100, 500]\n",
    "rs = [1e-1, 1e-2, 1e-3]\n",
    "rec_rate = 1e-3\n",
    "\n",
    "total_sims_bot = []\n",
    "for t in tqdm(tas):\n",
    "    for r in rs:\n",
    "        cur_sim = TwoLocusSerialBottleneck(Ne=1e4, ta=t, Tstart=50, Tend=500, Nbot=r*1e4, reps=50000, rec_rate=rec_rate)\n",
    "        ts_reps = cur_sim._simulate()\n",
    "        cur_sim._two_locus_branch_length(ts_reps)\n",
    "        # Calculating the marginal variance and means\n",
    "        mu_LA= np.mean(cur_sim.pair_branch_length[:,0])\n",
    "        var_LA = np.var(cur_sim.pair_branch_length[:,0])\n",
    "        cov_LALB = np.cov(cur_sim.pair_branch_length[:,0], cur_sim.pair_branch_length[:,1])[0,1]\n",
    "        corrLALB = pearsonr(cur_sim.pair_branch_length[:,0], cur_sim.pair_branch_length[:,1])[0]\n",
    "        total_sims_bot.append([t, r, mu_LA, var_LA, cov_LALB, corrLALB])\n",
    "        \n",
    "        \n",
    "total_sims_bot = np.vstack(total_sims_bot)"
   ]
  },
  {
   "cell_type": "code",
   "execution_count": 6,
   "metadata": {
    "execution": {
     "iopub.execute_input": "2021-05-01T09:48:42.509233Z",
     "iopub.status.busy": "2021-05-01T09:48:42.508212Z",
     "iopub.status.idle": "2021-05-01T09:48:42.584737Z",
     "shell.execute_reply": "2021-05-01T09:48:42.585369Z"
    }
   },
   "outputs": [
    {
     "data": {
      "text/html": [
       "<div>\n",
       "<style scoped>\n",
       "    .dataframe tbody tr th:only-of-type {\n",
       "        vertical-align: middle;\n",
       "    }\n",
       "\n",
       "    .dataframe tbody tr th {\n",
       "        vertical-align: top;\n",
       "    }\n",
       "\n",
       "    .dataframe thead th {\n",
       "        text-align: right;\n",
       "    }\n",
       "</style>\n",
       "<table border=\"1\" class=\"dataframe\">\n",
       "  <thead>\n",
       "    <tr style=\"text-align: right;\">\n",
       "      <th></th>\n",
       "      <th>$t_a$</th>\n",
       "      <th>$\\phi$</th>\n",
       "      <th>$\\mathbb{E}[L]$</th>\n",
       "      <th>$Var(L)$</th>\n",
       "      <th>$Cov(L_A,L_B)$</th>\n",
       "      <th>$Corr(L_A,L_B)$</th>\n",
       "    </tr>\n",
       "  </thead>\n",
       "  <tbody>\n",
       "    <tr>\n",
       "      <th>0</th>\n",
       "      <td>0.0</td>\n",
       "      <td>0.100</td>\n",
       "      <td>32705.245938</td>\n",
       "      <td>1.543057e+09</td>\n",
       "      <td>1.889688e+08</td>\n",
       "      <td>0.122052</td>\n",
       "    </tr>\n",
       "    <tr>\n",
       "      <th>1</th>\n",
       "      <td>0.0</td>\n",
       "      <td>0.010</td>\n",
       "      <td>4677.130341</td>\n",
       "      <td>3.238840e+08</td>\n",
       "      <td>1.035026e+08</td>\n",
       "      <td>0.311465</td>\n",
       "    </tr>\n",
       "    <tr>\n",
       "      <th>2</th>\n",
       "      <td>0.0</td>\n",
       "      <td>0.001</td>\n",
       "      <td>139.687120</td>\n",
       "      <td>1.600915e+03</td>\n",
       "      <td>1.462250e+03</td>\n",
       "      <td>0.912142</td>\n",
       "    </tr>\n",
       "    <tr>\n",
       "      <th>3</th>\n",
       "      <td>100.0</td>\n",
       "      <td>0.100</td>\n",
       "      <td>33455.467909</td>\n",
       "      <td>1.551079e+09</td>\n",
       "      <td>1.808965e+08</td>\n",
       "      <td>0.117548</td>\n",
       "    </tr>\n",
       "    <tr>\n",
       "      <th>4</th>\n",
       "      <td>100.0</td>\n",
       "      <td>0.010</td>\n",
       "      <td>5832.928726</td>\n",
       "      <td>4.073364e+08</td>\n",
       "      <td>1.314773e+08</td>\n",
       "      <td>0.326441</td>\n",
       "    </tr>\n",
       "    <tr>\n",
       "      <th>5</th>\n",
       "      <td>100.0</td>\n",
       "      <td>0.001</td>\n",
       "      <td>139.949182</td>\n",
       "      <td>1.608784e+03</td>\n",
       "      <td>1.544450e+03</td>\n",
       "      <td>0.959516</td>\n",
       "    </tr>\n",
       "    <tr>\n",
       "      <th>6</th>\n",
       "      <td>500.0</td>\n",
       "      <td>0.100</td>\n",
       "      <td>40004.922338</td>\n",
       "      <td>1.566143e+09</td>\n",
       "      <td>2.915162e+07</td>\n",
       "      <td>0.018472</td>\n",
       "    </tr>\n",
       "    <tr>\n",
       "      <th>7</th>\n",
       "      <td>500.0</td>\n",
       "      <td>0.010</td>\n",
       "      <td>40449.487997</td>\n",
       "      <td>1.593508e+09</td>\n",
       "      <td>3.151265e+07</td>\n",
       "      <td>0.019701</td>\n",
       "    </tr>\n",
       "    <tr>\n",
       "      <th>8</th>\n",
       "      <td>500.0</td>\n",
       "      <td>0.001</td>\n",
       "      <td>40378.871050</td>\n",
       "      <td>1.614716e+09</td>\n",
       "      <td>4.228108e+07</td>\n",
       "      <td>0.026353</td>\n",
       "    </tr>\n",
       "  </tbody>\n",
       "</table>\n",
       "</div>"
      ],
      "text/plain": [
       "   $t_a$  $\\phi$  $\\mathbb{E}[L]$      $Var(L)$  $Cov(L_A,L_B)$  \\\n",
       "0    0.0   0.100     32705.245938  1.543057e+09    1.889688e+08   \n",
       "1    0.0   0.010      4677.130341  3.238840e+08    1.035026e+08   \n",
       "2    0.0   0.001       139.687120  1.600915e+03    1.462250e+03   \n",
       "3  100.0   0.100     33455.467909  1.551079e+09    1.808965e+08   \n",
       "4  100.0   0.010      5832.928726  4.073364e+08    1.314773e+08   \n",
       "5  100.0   0.001       139.949182  1.608784e+03    1.544450e+03   \n",
       "6  500.0   0.100     40004.922338  1.566143e+09    2.915162e+07   \n",
       "7  500.0   0.010     40449.487997  1.593508e+09    3.151265e+07   \n",
       "8  500.0   0.001     40378.871050  1.614716e+09    4.228108e+07   \n",
       "\n",
       "   $Corr(L_A,L_B)$  \n",
       "0         0.122052  \n",
       "1         0.311465  \n",
       "2         0.912142  \n",
       "3         0.117548  \n",
       "4         0.326441  \n",
       "5         0.959516  \n",
       "6         0.018472  \n",
       "7         0.019701  \n",
       "8         0.026353  "
      ]
     },
     "execution_count": 1,
     "metadata": {},
     "output_type": "execute_result"
    }
   ],
   "source": [
    "bottleneck_df = pd.DataFrame(total_sims_bot)\n",
    "bottleneck_df.columns = ['$t_a$', '$\\phi$','$\\mathbb{E}[L]$','$Var(L)$','$Cov(L_A,L_B)$','$Corr(L_A,L_B)$']\n",
    "bottleneck_df.to_csv('../../results/two_loci/bottleneck.csv', index=False)\n",
    "bottleneck_df"
   ]
  },
  {
   "cell_type": "code",
   "execution_count": null,
   "metadata": {},
   "outputs": [],
   "source": []
  }
 ],
 "metadata": {
  "kernelspec": {
   "display_name": "Python 3",
   "language": "python",
   "name": "python3"
  },
  "language_info": {
   "codemirror_mode": {
    "name": "ipython",
    "version": 3
   },
   "file_extension": ".py",
   "mimetype": "text/x-python",
   "name": "python",
   "nbconvert_exporter": "python",
   "pygments_lexer": "ipython3",
   "version": "3.7.5"
  }
 },
 "nbformat": 4,
 "nbformat_minor": 4
}
