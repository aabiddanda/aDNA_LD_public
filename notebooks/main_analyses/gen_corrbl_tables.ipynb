{
 "cells": [
  {
   "cell_type": "code",
   "execution_count": 1,
   "metadata": {
    "execution": {
     "iopub.execute_input": "2021-04-17T20:22:22.205034Z",
     "iopub.status.busy": "2021-04-17T20:22:22.202345Z",
     "iopub.status.idle": "2021-04-17T20:22:24.043226Z",
     "shell.execute_reply": "2021-04-17T20:22:24.043815Z"
    }
   },
   "outputs": [],
   "source": [
    "import numpy as np \n",
    "import matplotlib.pyplot as plt\n",
    "from tqdm import tqdm\n",
    "from scipy.stats import pearsonr\n",
    "import pandas as pd\n",
    "\n",
    "import sys\n",
    "sys.path.append('../../src/')\n",
    "from coal_cov import *\n",
    "from seg_sites_covar import CorrSegSites\n",
    "from plot_utils import *\n",
    "\n",
    "%matplotlib inline\n",
    "%load_ext autoreload\n",
    "%autoreload 2"
   ]
  },
  {
   "cell_type": "code",
   "execution_count": 2,
   "metadata": {
    "execution": {
     "iopub.execute_input": "2021-04-17T20:22:24.049037Z",
     "iopub.status.busy": "2021-04-17T20:22:24.048426Z",
     "iopub.status.idle": "2021-04-17T20:22:24.071573Z",
     "shell.execute_reply": "2021-04-17T20:22:24.070907Z"
    }
   },
   "outputs": [],
   "source": [
    "plt.rcParams['font.sans-serif'] = \"Arial\"\n",
    "plt.rcParams['figure.facecolor'] = \"w\"\n",
    "plt.rcParams['figure.autolayout'] = True\n",
    "from mpl_toolkits.axes_grid1 import make_axes_locatable\n",
    "import matplotlib.ticker as mticker\n",
    "\n",
    "import os\n",
    "main_figdir = '../../plots/two_locus_stats/'\n",
    "supp_figdir = '../../plots/supp_figs/two_locus_stats/'\n",
    "os.makedirs(main_figdir, exist_ok=True)\n",
    "os.makedirs(supp_figdir, exist_ok=True)"
   ]
  },
  {
   "cell_type": "markdown",
   "metadata": {},
   "source": [
    "### Simulation under a model of exponential growth "
   ]
  },
  {
   "cell_type": "code",
   "execution_count": 3,
   "metadata": {
    "execution": {
     "iopub.execute_input": "2021-04-17T20:22:24.078601Z",
     "iopub.status.busy": "2021-04-17T20:22:24.077870Z",
     "iopub.status.idle": "2021-04-17T20:26:12.539721Z",
     "shell.execute_reply": "2021-04-17T20:26:12.540532Z"
    }
   },
   "outputs": [
    {
     "name": "stderr",
     "output_type": "stream",
     "text": [
      "100%|██████████| 3/3 [03:48<00:00, 76.14s/it]\n"
     ]
    }
   ],
   "source": [
    "# NOTE : growth always starts ~ 1000 Generations in the past ... \n",
    "np.random.seed(42)\n",
    "\n",
    "tas = [0, 100, 500]\n",
    "rs = [1e-3, 1e-2, 5e-2]\n",
    "rec_rate = 1e-3\n",
    "\n",
    "\n",
    "total_sims = []\n",
    "for t in tqdm(tas):\n",
    "    for r in rs:\n",
    "        cur_sim = TwoLocusSerialGrowth(ta=t, r=r, T=500, reps=50000, rec_rate=rec_rate)\n",
    "        cur_sim._simulate()\n",
    "        cur_sim._two_locus_branch_length()\n",
    "        # Calculating the marginal variance and means\n",
    "        mu_LA= np.mean(cur_sim.pair_branch_length[:,0])\n",
    "        var_LA = np.var(cur_sim.pair_branch_length[:,0])\n",
    "        cov_LALB = np.cov(cur_sim.pair_branch_length[:,0], cur_sim.pair_branch_length[:,1])[0,1]\n",
    "        corr_LALB = pearsonr(cur_sim.pair_branch_length[:,0], cur_sim.pair_branch_length[:,1])[0]\n",
    "        total_sims.append([t,r, mu_LA, var_LA, cov_LALB, corr_LALB])\n",
    "            \n",
    "total_sims = np.vstack(total_sims)"
   ]
  },
  {
   "cell_type": "code",
   "execution_count": 4,
   "metadata": {
    "execution": {
     "iopub.execute_input": "2021-04-17T20:26:12.547299Z",
     "iopub.status.busy": "2021-04-17T20:26:12.546453Z",
     "iopub.status.idle": "2021-04-17T20:26:12.618488Z",
     "shell.execute_reply": "2021-04-17T20:26:12.619026Z"
    }
   },
   "outputs": [
    {
     "data": {
      "text/html": [
       "<div>\n",
       "<style scoped>\n",
       "    .dataframe tbody tr th:only-of-type {\n",
       "        vertical-align: middle;\n",
       "    }\n",
       "\n",
       "    .dataframe tbody tr th {\n",
       "        vertical-align: top;\n",
       "    }\n",
       "\n",
       "    .dataframe thead th {\n",
       "        text-align: right;\n",
       "    }\n",
       "</style>\n",
       "<table border=\"1\" class=\"dataframe\">\n",
       "  <thead>\n",
       "    <tr style=\"text-align: right;\">\n",
       "      <th></th>\n",
       "      <th>$t_a$</th>\n",
       "      <th>$r$</th>\n",
       "      <th>$\\mathbb{E}[L]$</th>\n",
       "      <th>$Var(L)$</th>\n",
       "      <th>$Cov(L_A,L_B)$</th>\n",
       "      <th>$Corr(L_A, L_B)$</th>\n",
       "    </tr>\n",
       "  </thead>\n",
       "  <tbody>\n",
       "    <tr>\n",
       "      <th>0</th>\n",
       "      <td>0.0</td>\n",
       "      <td>0.001</td>\n",
       "      <td>6090.662114</td>\n",
       "      <td>4.642052e+06</td>\n",
       "      <td>798884.492961</td>\n",
       "      <td>0.170881</td>\n",
       "    </tr>\n",
       "    <tr>\n",
       "      <th>1</th>\n",
       "      <td>0.0</td>\n",
       "      <td>0.010</td>\n",
       "      <td>1943.085588</td>\n",
       "      <td>6.517525e+04</td>\n",
       "      <td>20985.120789</td>\n",
       "      <td>0.319205</td>\n",
       "    </tr>\n",
       "    <tr>\n",
       "      <th>2</th>\n",
       "      <td>0.0</td>\n",
       "      <td>0.050</td>\n",
       "      <td>1253.275432</td>\n",
       "      <td>2.621982e+03</td>\n",
       "      <td>1003.661872</td>\n",
       "      <td>0.383109</td>\n",
       "    </tr>\n",
       "    <tr>\n",
       "      <th>3</th>\n",
       "      <td>100.0</td>\n",
       "      <td>0.001</td>\n",
       "      <td>6010.473723</td>\n",
       "      <td>4.634017e+06</td>\n",
       "      <td>689787.535148</td>\n",
       "      <td>0.149853</td>\n",
       "    </tr>\n",
       "    <tr>\n",
       "      <th>4</th>\n",
       "      <td>100.0</td>\n",
       "      <td>0.010</td>\n",
       "      <td>1846.649968</td>\n",
       "      <td>6.497690e+04</td>\n",
       "      <td>21237.949186</td>\n",
       "      <td>0.325849</td>\n",
       "    </tr>\n",
       "    <tr>\n",
       "      <th>5</th>\n",
       "      <td>100.0</td>\n",
       "      <td>0.050</td>\n",
       "      <td>1153.133224</td>\n",
       "      <td>2.613365e+03</td>\n",
       "      <td>1077.049356</td>\n",
       "      <td>0.412077</td>\n",
       "    </tr>\n",
       "    <tr>\n",
       "      <th>6</th>\n",
       "      <td>500.0</td>\n",
       "      <td>0.001</td>\n",
       "      <td>5685.082073</td>\n",
       "      <td>4.169165e+06</td>\n",
       "      <td>598531.835728</td>\n",
       "      <td>0.144119</td>\n",
       "    </tr>\n",
       "    <tr>\n",
       "      <th>7</th>\n",
       "      <td>500.0</td>\n",
       "      <td>0.010</td>\n",
       "      <td>1450.593252</td>\n",
       "      <td>5.948971e+04</td>\n",
       "      <td>24539.813168</td>\n",
       "      <td>0.413162</td>\n",
       "    </tr>\n",
       "    <tr>\n",
       "      <th>8</th>\n",
       "      <td>500.0</td>\n",
       "      <td>0.050</td>\n",
       "      <td>753.868166</td>\n",
       "      <td>2.522517e+03</td>\n",
       "      <td>1434.472770</td>\n",
       "      <td>0.566798</td>\n",
       "    </tr>\n",
       "  </tbody>\n",
       "</table>\n",
       "</div>"
      ],
      "text/plain": [
       "   $t_a$    $r$  $\\mathbb{E}[L]$      $Var(L)$  $Cov(L_A,L_B)$  \\\n",
       "0    0.0  0.001      6090.662114  4.642052e+06   798884.492961   \n",
       "1    0.0  0.010      1943.085588  6.517525e+04    20985.120789   \n",
       "2    0.0  0.050      1253.275432  2.621982e+03     1003.661872   \n",
       "3  100.0  0.001      6010.473723  4.634017e+06   689787.535148   \n",
       "4  100.0  0.010      1846.649968  6.497690e+04    21237.949186   \n",
       "5  100.0  0.050      1153.133224  2.613365e+03     1077.049356   \n",
       "6  500.0  0.001      5685.082073  4.169165e+06   598531.835728   \n",
       "7  500.0  0.010      1450.593252  5.948971e+04    24539.813168   \n",
       "8  500.0  0.050       753.868166  2.522517e+03     1434.472770   \n",
       "\n",
       "   $Corr(L_A, L_B)$  \n",
       "0          0.170881  \n",
       "1          0.319205  \n",
       "2          0.383109  \n",
       "3          0.149853  \n",
       "4          0.325849  \n",
       "5          0.412077  \n",
       "6          0.144119  \n",
       "7          0.413162  \n",
       "8          0.566798  "
      ]
     },
     "execution_count": 1,
     "metadata": {},
     "output_type": "execute_result"
    }
   ],
   "source": [
    "growth_df = pd.DataFrame(total_sims)\n",
    "growth_df.columns = ['$t_a$', '$r$','$\\mathbb{E}[L]$','$Var(L)$','$Cov(L_A,L_B)$','$Corr(L_A, L_B)$']\n",
    "growth_df.to_csv('../../results/two_loci/growth_model.csv', index=False)\n",
    "growth_df"
   ]
  },
  {
   "cell_type": "markdown",
   "metadata": {},
   "source": [
    "### Simulation under a bottleneck model"
   ]
  },
  {
   "cell_type": "code",
   "execution_count": 5,
   "metadata": {
    "execution": {
     "iopub.execute_input": "2021-04-17T20:26:12.626839Z",
     "iopub.status.busy": "2021-04-17T20:26:12.625896Z",
     "iopub.status.idle": "2021-04-17T20:29:47.780339Z",
     "shell.execute_reply": "2021-04-17T20:29:47.780920Z"
    }
   },
   "outputs": [
    {
     "name": "stderr",
     "output_type": "stream",
     "text": [
      "100%|██████████| 3/3 [03:35<00:00, 71.71s/it]\n"
     ]
    }
   ],
   "source": [
    "np.random.seed(42)\n",
    "\n",
    "tas = [0, 100, 500]\n",
    "rs = [1e-1, 1e-2, 1e-3]\n",
    "rec_rate = 1e-3\n",
    "\n",
    "total_sims_bot = []\n",
    "for t in tqdm(tas):\n",
    "    for r in rs:\n",
    "        cur_sim = TwoLocusSerialBottleneck(Ne=1e4, ta=t, Tstart=50, Tend=500, Nbot=r*1e4, reps=50000, rec_rate=rec_rate)\n",
    "        cur_sim._simulate()\n",
    "        cur_sim._two_locus_branch_length()\n",
    "        # Calculating the marginal variance and means\n",
    "        mu_LA= np.mean(cur_sim.pair_branch_length[:,0])\n",
    "        var_LA = np.var(cur_sim.pair_branch_length[:,0])\n",
    "        cov_LALB = np.cov(cur_sim.pair_branch_length[:,0], cur_sim.pair_branch_length[:,1])[0,1]\n",
    "        corrLALB = pearsonr(cur_sim.pair_branch_length[:,0], cur_sim.pair_branch_length[:,1])[0]\n",
    "        total_sims_bot.append([t, r, mu_LA, var_LA, cov_LALB, corrLALB])\n",
    "        \n",
    "        \n",
    "total_sims_bot = np.vstack(total_sims_bot)"
   ]
  },
  {
   "cell_type": "code",
   "execution_count": 6,
   "metadata": {
    "execution": {
     "iopub.execute_input": "2021-04-17T20:29:47.785867Z",
     "iopub.status.busy": "2021-04-17T20:29:47.785032Z",
     "iopub.status.idle": "2021-04-17T20:29:47.829117Z",
     "shell.execute_reply": "2021-04-17T20:29:47.829948Z"
    }
   },
   "outputs": [
    {
     "data": {
      "text/html": [
       "<div>\n",
       "<style scoped>\n",
       "    .dataframe tbody tr th:only-of-type {\n",
       "        vertical-align: middle;\n",
       "    }\n",
       "\n",
       "    .dataframe tbody tr th {\n",
       "        vertical-align: top;\n",
       "    }\n",
       "\n",
       "    .dataframe thead th {\n",
       "        text-align: right;\n",
       "    }\n",
       "</style>\n",
       "<table border=\"1\" class=\"dataframe\">\n",
       "  <thead>\n",
       "    <tr style=\"text-align: right;\">\n",
       "      <th></th>\n",
       "      <th>$t_a$</th>\n",
       "      <th>$\\phi$</th>\n",
       "      <th>$\\mathbb{E}[L]$</th>\n",
       "      <th>$Var(L)$</th>\n",
       "      <th>$Cov(L_A,L_B)$</th>\n",
       "      <th>$Corr(L_A,L_B)$</th>\n",
       "    </tr>\n",
       "  </thead>\n",
       "  <tbody>\n",
       "    <tr>\n",
       "      <th>0</th>\n",
       "      <td>0.0</td>\n",
       "      <td>0.100</td>\n",
       "      <td>33273.741545</td>\n",
       "      <td>1.568670e+09</td>\n",
       "      <td>1.847574e+08</td>\n",
       "      <td>0.118042</td>\n",
       "    </tr>\n",
       "    <tr>\n",
       "      <th>1</th>\n",
       "      <td>0.0</td>\n",
       "      <td>0.010</td>\n",
       "      <td>4701.671637</td>\n",
       "      <td>3.392016e+08</td>\n",
       "      <td>1.092700e+08</td>\n",
       "      <td>0.327205</td>\n",
       "    </tr>\n",
       "    <tr>\n",
       "      <th>2</th>\n",
       "      <td>0.0</td>\n",
       "      <td>0.001</td>\n",
       "      <td>139.699778</td>\n",
       "      <td>1.643994e+03</td>\n",
       "      <td>1.501318e+03</td>\n",
       "      <td>0.911499</td>\n",
       "    </tr>\n",
       "    <tr>\n",
       "      <th>3</th>\n",
       "      <td>100.0</td>\n",
       "      <td>0.100</td>\n",
       "      <td>33502.508156</td>\n",
       "      <td>1.565242e+09</td>\n",
       "      <td>1.667204e+08</td>\n",
       "      <td>0.106000</td>\n",
       "    </tr>\n",
       "    <tr>\n",
       "      <th>4</th>\n",
       "      <td>100.0</td>\n",
       "      <td>0.010</td>\n",
       "      <td>5982.054339</td>\n",
       "      <td>4.163824e+08</td>\n",
       "      <td>1.400499e+08</td>\n",
       "      <td>0.344304</td>\n",
       "    </tr>\n",
       "    <tr>\n",
       "      <th>5</th>\n",
       "      <td>100.0</td>\n",
       "      <td>0.001</td>\n",
       "      <td>140.175515</td>\n",
       "      <td>1.612585e+03</td>\n",
       "      <td>1.552592e+03</td>\n",
       "      <td>0.962495</td>\n",
       "    </tr>\n",
       "    <tr>\n",
       "      <th>6</th>\n",
       "      <td>500.0</td>\n",
       "      <td>0.100</td>\n",
       "      <td>40311.226627</td>\n",
       "      <td>1.568729e+09</td>\n",
       "      <td>3.864358e+07</td>\n",
       "      <td>0.024572</td>\n",
       "    </tr>\n",
       "    <tr>\n",
       "      <th>7</th>\n",
       "      <td>500.0</td>\n",
       "      <td>0.010</td>\n",
       "      <td>40443.725126</td>\n",
       "      <td>1.594782e+09</td>\n",
       "      <td>3.452399e+07</td>\n",
       "      <td>0.021530</td>\n",
       "    </tr>\n",
       "    <tr>\n",
       "      <th>8</th>\n",
       "      <td>500.0</td>\n",
       "      <td>0.001</td>\n",
       "      <td>40498.188111</td>\n",
       "      <td>1.615431e+09</td>\n",
       "      <td>4.759060e+07</td>\n",
       "      <td>0.029511</td>\n",
       "    </tr>\n",
       "  </tbody>\n",
       "</table>\n",
       "</div>"
      ],
      "text/plain": [
       "   $t_a$  $\\phi$  $\\mathbb{E}[L]$      $Var(L)$  $Cov(L_A,L_B)$  \\\n",
       "0    0.0   0.100     33273.741545  1.568670e+09    1.847574e+08   \n",
       "1    0.0   0.010      4701.671637  3.392016e+08    1.092700e+08   \n",
       "2    0.0   0.001       139.699778  1.643994e+03    1.501318e+03   \n",
       "3  100.0   0.100     33502.508156  1.565242e+09    1.667204e+08   \n",
       "4  100.0   0.010      5982.054339  4.163824e+08    1.400499e+08   \n",
       "5  100.0   0.001       140.175515  1.612585e+03    1.552592e+03   \n",
       "6  500.0   0.100     40311.226627  1.568729e+09    3.864358e+07   \n",
       "7  500.0   0.010     40443.725126  1.594782e+09    3.452399e+07   \n",
       "8  500.0   0.001     40498.188111  1.615431e+09    4.759060e+07   \n",
       "\n",
       "   $Corr(L_A,L_B)$  \n",
       "0         0.118042  \n",
       "1         0.327205  \n",
       "2         0.911499  \n",
       "3         0.106000  \n",
       "4         0.344304  \n",
       "5         0.962495  \n",
       "6         0.024572  \n",
       "7         0.021530  \n",
       "8         0.029511  "
      ]
     },
     "execution_count": 1,
     "metadata": {},
     "output_type": "execute_result"
    }
   ],
   "source": [
    "bottleneck_df = pd.DataFrame(total_sims_bot)\n",
    "bottleneck_df.columns = ['$t_a$', '$\\phi$','$\\mathbb{E}[L]$','$Var(L)$','$Cov(L_A,L_B)$','$Corr(L_A,L_B)$']\n",
    "bottleneck_df.to_csv('../../results/two_loci/bottleneck.csv', index=False)\n",
    "bottleneck_df"
   ]
  },
  {
   "cell_type": "code",
   "execution_count": null,
   "metadata": {},
   "outputs": [],
   "source": []
  }
 ],
 "metadata": {
  "kernelspec": {
   "display_name": "Python 3",
   "language": "python",
   "name": "python3"
  },
  "language_info": {
   "codemirror_mode": {
    "name": "ipython",
    "version": 3
   },
   "file_extension": ".py",
   "mimetype": "text/x-python",
   "name": "python",
   "nbconvert_exporter": "python",
   "pygments_lexer": "ipython3",
   "version": "3.7.5"
  }
 },
 "nbformat": 4,
 "nbformat_minor": 4
}
