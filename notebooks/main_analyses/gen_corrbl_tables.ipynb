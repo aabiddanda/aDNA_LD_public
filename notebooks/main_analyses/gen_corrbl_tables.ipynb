{
 "cells": [
  {
   "cell_type": "code",
   "execution_count": 1,
   "metadata": {
    "execution": {
     "iopub.execute_input": "2021-04-22T20:19:48.445064Z",
     "iopub.status.busy": "2021-04-22T20:19:48.443635Z",
     "iopub.status.idle": "2021-04-22T20:19:49.822148Z",
     "shell.execute_reply": "2021-04-22T20:19:49.822832Z"
    }
   },
   "outputs": [],
   "source": [
    "import numpy as np \n",
    "import matplotlib.pyplot as plt\n",
    "from tqdm import tqdm\n",
    "from scipy.stats import pearsonr\n",
    "import pandas as pd\n",
    "\n",
    "import sys\n",
    "sys.path.append('../../src/')\n",
    "from coal_cov import *\n",
    "from seg_sites_covar import CorrSegSites\n",
    "from plot_utils import *\n",
    "\n",
    "%matplotlib inline\n",
    "%load_ext autoreload\n",
    "%autoreload 2"
   ]
  },
  {
   "cell_type": "code",
   "execution_count": 2,
   "metadata": {
    "execution": {
     "iopub.execute_input": "2021-04-22T20:19:49.828739Z",
     "iopub.status.busy": "2021-04-22T20:19:49.827694Z",
     "iopub.status.idle": "2021-04-22T20:19:49.851240Z",
     "shell.execute_reply": "2021-04-22T20:19:49.851827Z"
    }
   },
   "outputs": [],
   "source": [
    "plt.rcParams['font.sans-serif'] = \"Arial\"\n",
    "plt.rcParams['figure.facecolor'] = \"w\"\n",
    "plt.rcParams['figure.autolayout'] = True\n",
    "from mpl_toolkits.axes_grid1 import make_axes_locatable\n",
    "import matplotlib.ticker as mticker\n",
    "\n",
    "import os\n",
    "main_figdir = '../../plots/two_locus_stats/'\n",
    "supp_figdir = '../../plots/supp_figs/two_locus_stats/'\n",
    "os.makedirs(main_figdir, exist_ok=True)\n",
    "os.makedirs(supp_figdir, exist_ok=True)"
   ]
  },
  {
   "cell_type": "markdown",
   "metadata": {},
   "source": [
    "### Simulation under a model of exponential growth "
   ]
  },
  {
   "cell_type": "code",
   "execution_count": 3,
   "metadata": {
    "execution": {
     "iopub.execute_input": "2021-04-22T20:19:49.858518Z",
     "iopub.status.busy": "2021-04-22T20:19:49.857871Z",
     "iopub.status.idle": "2021-04-22T20:22:19.465298Z",
     "shell.execute_reply": "2021-04-22T20:22:19.466507Z"
    }
   },
   "outputs": [
    {
     "name": "stderr",
     "output_type": "stream",
     "text": [
      "100%|██████████| 3/3 [02:29<00:00, 49.86s/it]\n"
     ]
    }
   ],
   "source": [
    "# NOTE : growth always starts ~ 1000 Generations in the past ... \n",
    "np.random.seed(42)\n",
    "\n",
    "tas = [0, 100, 500]\n",
    "rs = [1e-3, 1e-2, 5e-2]\n",
    "rec_rate = 1e-3\n",
    "\n",
    "\n",
    "total_sims = []\n",
    "for t in tqdm(tas):\n",
    "    for r in rs:\n",
    "        cur_sim = TwoLocusSerialGrowth(ta=t, r=r, T=500, reps=50000, rec_rate=rec_rate)\n",
    "        ts_reps = cur_sim._simulate()\n",
    "        cur_sim._two_locus_branch_length(ts_reps)\n",
    "        # Calculating the marginal variance and means\n",
    "        mu_LA= np.mean(cur_sim.pair_branch_length[:,0])\n",
    "        var_LA = np.var(cur_sim.pair_branch_length[:,0])\n",
    "        cov_LALB = np.cov(cur_sim.pair_branch_length[:,0], cur_sim.pair_branch_length[:,1])[0,1]\n",
    "        corr_LALB = pearsonr(cur_sim.pair_branch_length[:,0], cur_sim.pair_branch_length[:,1])[0]\n",
    "        total_sims.append([t,r, mu_LA, var_LA, cov_LALB, corr_LALB])\n",
    "            \n",
    "total_sims = np.vstack(total_sims)"
   ]
  },
  {
   "cell_type": "code",
   "execution_count": 4,
   "metadata": {
    "execution": {
     "iopub.execute_input": "2021-04-22T20:22:19.483195Z",
     "iopub.status.busy": "2021-04-22T20:22:19.480358Z",
     "iopub.status.idle": "2021-04-22T20:22:19.647522Z",
     "shell.execute_reply": "2021-04-22T20:22:19.648635Z"
    }
   },
   "outputs": [
    {
     "data": {
      "text/html": [
       "<div>\n",
       "<style scoped>\n",
       "    .dataframe tbody tr th:only-of-type {\n",
       "        vertical-align: middle;\n",
       "    }\n",
       "\n",
       "    .dataframe tbody tr th {\n",
       "        vertical-align: top;\n",
       "    }\n",
       "\n",
       "    .dataframe thead th {\n",
       "        text-align: right;\n",
       "    }\n",
       "</style>\n",
       "<table border=\"1\" class=\"dataframe\">\n",
       "  <thead>\n",
       "    <tr style=\"text-align: right;\">\n",
       "      <th></th>\n",
       "      <th>$t_a$</th>\n",
       "      <th>$r$</th>\n",
       "      <th>$\\mathbb{E}[L]$</th>\n",
       "      <th>$Var(L)$</th>\n",
       "      <th>$Cov(L_A,L_B)$</th>\n",
       "      <th>$Corr(L_A, L_B)$</th>\n",
       "    </tr>\n",
       "  </thead>\n",
       "  <tbody>\n",
       "    <tr>\n",
       "      <th>0</th>\n",
       "      <td>0.0</td>\n",
       "      <td>0.001</td>\n",
       "      <td>6081.599994</td>\n",
       "      <td>4.689447e+06</td>\n",
       "      <td>766403.217594</td>\n",
       "      <td>0.163025</td>\n",
       "    </tr>\n",
       "    <tr>\n",
       "      <th>1</th>\n",
       "      <td>0.0</td>\n",
       "      <td>0.010</td>\n",
       "      <td>1943.183487</td>\n",
       "      <td>6.651699e+04</td>\n",
       "      <td>21191.205708</td>\n",
       "      <td>0.319441</td>\n",
       "    </tr>\n",
       "    <tr>\n",
       "      <th>2</th>\n",
       "      <td>0.0</td>\n",
       "      <td>0.050</td>\n",
       "      <td>1253.428771</td>\n",
       "      <td>2.629916e+03</td>\n",
       "      <td>983.265102</td>\n",
       "      <td>0.377029</td>\n",
       "    </tr>\n",
       "    <tr>\n",
       "      <th>3</th>\n",
       "      <td>100.0</td>\n",
       "      <td>0.001</td>\n",
       "      <td>5989.853215</td>\n",
       "      <td>4.607396e+06</td>\n",
       "      <td>779915.209659</td>\n",
       "      <td>0.169252</td>\n",
       "    </tr>\n",
       "    <tr>\n",
       "      <th>4</th>\n",
       "      <td>100.0</td>\n",
       "      <td>0.010</td>\n",
       "      <td>1843.912760</td>\n",
       "      <td>6.565337e+04</td>\n",
       "      <td>21294.679012</td>\n",
       "      <td>0.326416</td>\n",
       "    </tr>\n",
       "    <tr>\n",
       "      <th>5</th>\n",
       "      <td>100.0</td>\n",
       "      <td>0.050</td>\n",
       "      <td>1153.554370</td>\n",
       "      <td>2.591525e+03</td>\n",
       "      <td>1067.611787</td>\n",
       "      <td>0.412144</td>\n",
       "    </tr>\n",
       "    <tr>\n",
       "      <th>6</th>\n",
       "      <td>500.0</td>\n",
       "      <td>0.001</td>\n",
       "      <td>5686.418290</td>\n",
       "      <td>4.151856e+06</td>\n",
       "      <td>616245.689134</td>\n",
       "      <td>0.148448</td>\n",
       "    </tr>\n",
       "    <tr>\n",
       "      <th>7</th>\n",
       "      <td>500.0</td>\n",
       "      <td>0.010</td>\n",
       "      <td>1452.420484</td>\n",
       "      <td>5.865578e+04</td>\n",
       "      <td>24645.697444</td>\n",
       "      <td>0.419187</td>\n",
       "    </tr>\n",
       "    <tr>\n",
       "      <th>8</th>\n",
       "      <td>500.0</td>\n",
       "      <td>0.050</td>\n",
       "      <td>753.529799</td>\n",
       "      <td>2.497120e+03</td>\n",
       "      <td>1416.145306</td>\n",
       "      <td>0.565800</td>\n",
       "    </tr>\n",
       "  </tbody>\n",
       "</table>\n",
       "</div>"
      ],
      "text/plain": [
       "   $t_a$    $r$  $\\mathbb{E}[L]$      $Var(L)$  $Cov(L_A,L_B)$  \\\n",
       "0    0.0  0.001      6081.599994  4.689447e+06   766403.217594   \n",
       "1    0.0  0.010      1943.183487  6.651699e+04    21191.205708   \n",
       "2    0.0  0.050      1253.428771  2.629916e+03      983.265102   \n",
       "3  100.0  0.001      5989.853215  4.607396e+06   779915.209659   \n",
       "4  100.0  0.010      1843.912760  6.565337e+04    21294.679012   \n",
       "5  100.0  0.050      1153.554370  2.591525e+03     1067.611787   \n",
       "6  500.0  0.001      5686.418290  4.151856e+06   616245.689134   \n",
       "7  500.0  0.010      1452.420484  5.865578e+04    24645.697444   \n",
       "8  500.0  0.050       753.529799  2.497120e+03     1416.145306   \n",
       "\n",
       "   $Corr(L_A, L_B)$  \n",
       "0          0.163025  \n",
       "1          0.319441  \n",
       "2          0.377029  \n",
       "3          0.169252  \n",
       "4          0.326416  \n",
       "5          0.412144  \n",
       "6          0.148448  \n",
       "7          0.419187  \n",
       "8          0.565800  "
      ]
     },
     "execution_count": 1,
     "metadata": {},
     "output_type": "execute_result"
    }
   ],
   "source": [
    "growth_df = pd.DataFrame(total_sims)\n",
    "growth_df.columns = ['$t_a$', '$r$','$\\mathbb{E}[L]$','$Var(L)$','$Cov(L_A,L_B)$','$Corr(L_A, L_B)$']\n",
    "growth_df.to_csv('../../results/two_loci/growth_model.csv', index=False)\n",
    "growth_df"
   ]
  },
  {
   "cell_type": "markdown",
   "metadata": {},
   "source": [
    "### Simulation under a bottleneck model"
   ]
  },
  {
   "cell_type": "code",
   "execution_count": 5,
   "metadata": {
    "execution": {
     "iopub.execute_input": "2021-04-22T20:22:19.661680Z",
     "iopub.status.busy": "2021-04-22T20:22:19.659624Z",
     "iopub.status.idle": "2021-04-22T20:25:55.379832Z",
     "shell.execute_reply": "2021-04-22T20:25:55.380440Z"
    }
   },
   "outputs": [
    {
     "name": "stderr",
     "output_type": "stream",
     "text": [
      "100%|██████████| 3/3 [03:35<00:00, 71.89s/it]\n"
     ]
    }
   ],
   "source": [
    "np.random.seed(42)\n",
    "\n",
    "tas = [0, 100, 500]\n",
    "rs = [1e-1, 1e-2, 1e-3]\n",
    "rec_rate = 1e-3\n",
    "\n",
    "total_sims_bot = []\n",
    "for t in tqdm(tas):\n",
    "    for r in rs:\n",
    "        cur_sim = TwoLocusSerialBottleneck(Ne=1e4, ta=t, Tstart=50, Tend=500, Nbot=r*1e4, reps=50000, rec_rate=rec_rate)\n",
    "        ts_reps = cur_sim._simulate()\n",
    "        cur_sim._two_locus_branch_length(ts_reps)\n",
    "        # Calculating the marginal variance and means\n",
    "        mu_LA= np.mean(cur_sim.pair_branch_length[:,0])\n",
    "        var_LA = np.var(cur_sim.pair_branch_length[:,0])\n",
    "        cov_LALB = np.cov(cur_sim.pair_branch_length[:,0], cur_sim.pair_branch_length[:,1])[0,1]\n",
    "        corrLALB = pearsonr(cur_sim.pair_branch_length[:,0], cur_sim.pair_branch_length[:,1])[0]\n",
    "        total_sims_bot.append([t, r, mu_LA, var_LA, cov_LALB, corrLALB])\n",
    "        \n",
    "        \n",
    "total_sims_bot = np.vstack(total_sims_bot)"
   ]
  },
  {
   "cell_type": "code",
   "execution_count": 6,
   "metadata": {
    "execution": {
     "iopub.execute_input": "2021-04-22T20:25:55.385277Z",
     "iopub.status.busy": "2021-04-22T20:25:55.383543Z",
     "iopub.status.idle": "2021-04-22T20:25:55.435883Z",
     "shell.execute_reply": "2021-04-22T20:25:55.437433Z"
    }
   },
   "outputs": [
    {
     "data": {
      "text/html": [
       "<div>\n",
       "<style scoped>\n",
       "    .dataframe tbody tr th:only-of-type {\n",
       "        vertical-align: middle;\n",
       "    }\n",
       "\n",
       "    .dataframe tbody tr th {\n",
       "        vertical-align: top;\n",
       "    }\n",
       "\n",
       "    .dataframe thead th {\n",
       "        text-align: right;\n",
       "    }\n",
       "</style>\n",
       "<table border=\"1\" class=\"dataframe\">\n",
       "  <thead>\n",
       "    <tr style=\"text-align: right;\">\n",
       "      <th></th>\n",
       "      <th>$t_a$</th>\n",
       "      <th>$\\phi$</th>\n",
       "      <th>$\\mathbb{E}[L]$</th>\n",
       "      <th>$Var(L)$</th>\n",
       "      <th>$Cov(L_A,L_B)$</th>\n",
       "      <th>$Corr(L_A,L_B)$</th>\n",
       "    </tr>\n",
       "  </thead>\n",
       "  <tbody>\n",
       "    <tr>\n",
       "      <th>0</th>\n",
       "      <td>0.0</td>\n",
       "      <td>0.100</td>\n",
       "      <td>33038.592683</td>\n",
       "      <td>1.552771e+09</td>\n",
       "      <td>1.882539e+08</td>\n",
       "      <td>0.122429</td>\n",
       "    </tr>\n",
       "    <tr>\n",
       "      <th>1</th>\n",
       "      <td>0.0</td>\n",
       "      <td>0.010</td>\n",
       "      <td>4690.353181</td>\n",
       "      <td>3.308344e+08</td>\n",
       "      <td>1.101634e+08</td>\n",
       "      <td>0.331987</td>\n",
       "    </tr>\n",
       "    <tr>\n",
       "      <th>2</th>\n",
       "      <td>0.0</td>\n",
       "      <td>0.001</td>\n",
       "      <td>139.793902</td>\n",
       "      <td>1.605542e+03</td>\n",
       "      <td>1.466509e+03</td>\n",
       "      <td>0.913137</td>\n",
       "    </tr>\n",
       "    <tr>\n",
       "      <th>3</th>\n",
       "      <td>100.0</td>\n",
       "      <td>0.100</td>\n",
       "      <td>33614.277155</td>\n",
       "      <td>1.552034e+09</td>\n",
       "      <td>1.812123e+08</td>\n",
       "      <td>0.116122</td>\n",
       "    </tr>\n",
       "    <tr>\n",
       "      <th>4</th>\n",
       "      <td>100.0</td>\n",
       "      <td>0.010</td>\n",
       "      <td>5787.370584</td>\n",
       "      <td>3.936224e+08</td>\n",
       "      <td>1.332749e+08</td>\n",
       "      <td>0.336735</td>\n",
       "    </tr>\n",
       "    <tr>\n",
       "      <th>5</th>\n",
       "      <td>100.0</td>\n",
       "      <td>0.001</td>\n",
       "      <td>140.117020</td>\n",
       "      <td>1.627716e+03</td>\n",
       "      <td>1.567128e+03</td>\n",
       "      <td>0.961984</td>\n",
       "    </tr>\n",
       "    <tr>\n",
       "      <th>6</th>\n",
       "      <td>500.0</td>\n",
       "      <td>0.100</td>\n",
       "      <td>40552.255278</td>\n",
       "      <td>1.614915e+09</td>\n",
       "      <td>3.581951e+07</td>\n",
       "      <td>0.022487</td>\n",
       "    </tr>\n",
       "    <tr>\n",
       "      <th>7</th>\n",
       "      <td>500.0</td>\n",
       "      <td>0.010</td>\n",
       "      <td>40266.147401</td>\n",
       "      <td>1.549269e+09</td>\n",
       "      <td>3.297263e+07</td>\n",
       "      <td>0.021029</td>\n",
       "    </tr>\n",
       "    <tr>\n",
       "      <th>8</th>\n",
       "      <td>500.0</td>\n",
       "      <td>0.001</td>\n",
       "      <td>40741.667095</td>\n",
       "      <td>1.599062e+09</td>\n",
       "      <td>3.402588e+07</td>\n",
       "      <td>0.021215</td>\n",
       "    </tr>\n",
       "  </tbody>\n",
       "</table>\n",
       "</div>"
      ],
      "text/plain": [
       "   $t_a$  $\\phi$  $\\mathbb{E}[L]$      $Var(L)$  $Cov(L_A,L_B)$  \\\n",
       "0    0.0   0.100     33038.592683  1.552771e+09    1.882539e+08   \n",
       "1    0.0   0.010      4690.353181  3.308344e+08    1.101634e+08   \n",
       "2    0.0   0.001       139.793902  1.605542e+03    1.466509e+03   \n",
       "3  100.0   0.100     33614.277155  1.552034e+09    1.812123e+08   \n",
       "4  100.0   0.010      5787.370584  3.936224e+08    1.332749e+08   \n",
       "5  100.0   0.001       140.117020  1.627716e+03    1.567128e+03   \n",
       "6  500.0   0.100     40552.255278  1.614915e+09    3.581951e+07   \n",
       "7  500.0   0.010     40266.147401  1.549269e+09    3.297263e+07   \n",
       "8  500.0   0.001     40741.667095  1.599062e+09    3.402588e+07   \n",
       "\n",
       "   $Corr(L_A,L_B)$  \n",
       "0         0.122429  \n",
       "1         0.331987  \n",
       "2         0.913137  \n",
       "3         0.116122  \n",
       "4         0.336735  \n",
       "5         0.961984  \n",
       "6         0.022487  \n",
       "7         0.021029  \n",
       "8         0.021215  "
      ]
     },
     "execution_count": 1,
     "metadata": {},
     "output_type": "execute_result"
    }
   ],
   "source": [
    "bottleneck_df = pd.DataFrame(total_sims_bot)\n",
    "bottleneck_df.columns = ['$t_a$', '$\\phi$','$\\mathbb{E}[L]$','$Var(L)$','$Cov(L_A,L_B)$','$Corr(L_A,L_B)$']\n",
    "bottleneck_df.to_csv('../../results/two_loci/bottleneck.csv', index=False)\n",
    "bottleneck_df"
   ]
  },
  {
   "cell_type": "code",
   "execution_count": null,
   "metadata": {},
   "outputs": [],
   "source": []
  }
 ],
 "metadata": {
  "kernelspec": {
   "display_name": "Python 3",
   "language": "python",
   "name": "python3"
  },
  "language_info": {
   "codemirror_mode": {
    "name": "ipython",
    "version": 3
   },
   "file_extension": ".py",
   "mimetype": "text/x-python",
   "name": "python",
   "nbconvert_exporter": "python",
   "pygments_lexer": "ipython3",
   "version": "3.7.5"
  }
 },
 "nbformat": 4,
 "nbformat_minor": 4
}
